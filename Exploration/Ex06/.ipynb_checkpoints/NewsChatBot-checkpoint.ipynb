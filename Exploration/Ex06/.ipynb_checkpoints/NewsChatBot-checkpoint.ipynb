{
 "cells": [
  {
   "cell_type": "markdown",
   "id": "1599c38b",
   "metadata": {},
   "source": [
    "# 8-1. 프로젝트: 뉴스기사 요약해보기"
   ]
  },
  {
   "cell_type": "code",
   "execution_count": 1,
   "id": "e62d12e1",
   "metadata": {},
   "outputs": [],
   "source": [
    "#필요한 library import\n",
    "import os\n",
    "import numpy as np\n",
    "import pandas as pd\n",
    "import re\n",
    "import matplotlib.pyplot as plt\n",
    "import nltk\n",
    "from nltk.corpus import stopwords\n",
    "from bs4 import BeautifulSoup \n",
    "import urllib.request\n",
    "import requests\n",
    "from summa.summarizer import summarize\n",
    "\n",
    "from tensorflow.keras.preprocessing.text import Tokenizer \n",
    "from tensorflow.keras.preprocessing.sequence import pad_sequences\n",
    "from tensorflow.keras.layers import Input, LSTM, Embedding, Dense, Concatenate\n",
    "from tensorflow.keras.models import Model\n",
    "from tensorflow.keras.callbacks import EarlyStopping, ModelCheckpoint"
   ]
  },
  {
   "cell_type": "markdown",
   "id": "d56101e4",
   "metadata": {},
   "source": [
    "Step 1. 데이터 수집하기\n",
    "데이터는 아래 링크에 있는 뉴스 기사 데이터(news_summary_more.csv)를 사용하세요.\n",
    "\n",
    "sunnysai12345/News_Summary\n",
    "아래의 코드로 데이터를 다운로드할 수 있어요."
   ]
  },
  {
   "cell_type": "code",
   "execution_count": 2,
   "id": "217c6ea1",
   "metadata": {},
   "outputs": [],
   "source": [
    "#데이터 다운로드\n",
    "urllib.request.urlretrieve(\"https://raw.githubusercontent.com/sunnysai12345/News_Summary/master/news_summary_more.csv\", filename=\"news_summary_more.csv\")\n",
    "data = pd.read_csv('news_summary_more.csv', encoding='iso-8859-1')"
   ]
  },
  {
   "cell_type": "code",
   "execution_count": 3,
   "id": "a960070e",
   "metadata": {},
   "outputs": [
    {
     "data": {
      "text/html": [
       "<div>\n",
       "<style scoped>\n",
       "    .dataframe tbody tr th:only-of-type {\n",
       "        vertical-align: middle;\n",
       "    }\n",
       "\n",
       "    .dataframe tbody tr th {\n",
       "        vertical-align: top;\n",
       "    }\n",
       "\n",
       "    .dataframe thead th {\n",
       "        text-align: right;\n",
       "    }\n",
       "</style>\n",
       "<table border=\"1\" class=\"dataframe\">\n",
       "  <thead>\n",
       "    <tr style=\"text-align: right;\">\n",
       "      <th></th>\n",
       "      <th>headlines</th>\n",
       "      <th>text</th>\n",
       "    </tr>\n",
       "  </thead>\n",
       "  <tbody>\n",
       "    <tr>\n",
       "      <th>48854</th>\n",
       "      <td>Congress divided India 70 years ago for petty ...</td>\n",
       "      <td>Speaking at the Lok Sabha on Wednesday, Prime ...</td>\n",
       "    </tr>\n",
       "    <tr>\n",
       "      <th>96996</th>\n",
       "      <td>Gravitational wave pushes black hole out of ga...</td>\n",
       "      <td>Astronomers have found a supermassive black ho...</td>\n",
       "    </tr>\n",
       "    <tr>\n",
       "      <th>17894</th>\n",
       "      <td>See you in 'Dabangg 3' next year: Salman on 8 ...</td>\n",
       "      <td>On the occasion of 'Dabangg' completing 8 year...</td>\n",
       "    </tr>\n",
       "    <tr>\n",
       "      <th>16656</th>\n",
       "      <td>Aakash apologises to HK for saying they will c...</td>\n",
       "      <td>Cricketer-turned-commentator Aakash Chopra has...</td>\n",
       "    </tr>\n",
       "    <tr>\n",
       "      <th>93304</th>\n",
       "      <td>Group claims to carry out 'biggest hack in You...</td>\n",
       "      <td>Hacker group OurMine this week hacked into sev...</td>\n",
       "    </tr>\n",
       "    <tr>\n",
       "      <th>85891</th>\n",
       "      <td>Infosys dumps $20 billion revenue goal on Murt...</td>\n",
       "      <td>IT major Infosys has dumped its long-term reve...</td>\n",
       "    </tr>\n",
       "    <tr>\n",
       "      <th>87436</th>\n",
       "      <td>No more hookahs in smoking zones of restaurant...</td>\n",
       "      <td>The Centre has amended rules linked to smoking...</td>\n",
       "    </tr>\n",
       "    <tr>\n",
       "      <th>6302</th>\n",
       "      <td>Rafale deal was crystal clear from beginning: ...</td>\n",
       "      <td>Talking about the Supreme Court verdict on Raf...</td>\n",
       "    </tr>\n",
       "    <tr>\n",
       "      <th>28718</th>\n",
       "      <td>Uber appeals license loss in London, claims it...</td>\n",
       "      <td>US-based Uber has appealed to a London court t...</td>\n",
       "    </tr>\n",
       "    <tr>\n",
       "      <th>47704</th>\n",
       "      <td>Paytm CEO slammed over remark on WhatsApp paym...</td>\n",
       "      <td>Paytm Founder Vijay Shekhar Sharma has been sl...</td>\n",
       "    </tr>\n",
       "  </tbody>\n",
       "</table>\n",
       "</div>"
      ],
      "text/plain": [
       "                                               headlines  \\\n",
       "48854  Congress divided India 70 years ago for petty ...   \n",
       "96996  Gravitational wave pushes black hole out of ga...   \n",
       "17894  See you in 'Dabangg 3' next year: Salman on 8 ...   \n",
       "16656  Aakash apologises to HK for saying they will c...   \n",
       "93304  Group claims to carry out 'biggest hack in You...   \n",
       "85891  Infosys dumps $20 billion revenue goal on Murt...   \n",
       "87436  No more hookahs in smoking zones of restaurant...   \n",
       "6302   Rafale deal was crystal clear from beginning: ...   \n",
       "28718  Uber appeals license loss in London, claims it...   \n",
       "47704  Paytm CEO slammed over remark on WhatsApp paym...   \n",
       "\n",
       "                                                    text  \n",
       "48854  Speaking at the Lok Sabha on Wednesday, Prime ...  \n",
       "96996  Astronomers have found a supermassive black ho...  \n",
       "17894  On the occasion of 'Dabangg' completing 8 year...  \n",
       "16656  Cricketer-turned-commentator Aakash Chopra has...  \n",
       "93304  Hacker group OurMine this week hacked into sev...  \n",
       "85891  IT major Infosys has dumped its long-term reve...  \n",
       "87436  The Centre has amended rules linked to smoking...  \n",
       "6302   Talking about the Supreme Court verdict on Raf...  \n",
       "28718  US-based Uber has appealed to a London court t...  \n",
       "47704  Paytm Founder Vijay Shekhar Sharma has been sl...  "
      ]
     },
     "execution_count": 3,
     "metadata": {},
     "output_type": "execute_result"
    }
   ],
   "source": [
    "# 샘플 10개\n",
    "data.sample(10)"
   ]
  },
  {
   "cell_type": "markdown",
   "id": "1fb41e90",
   "metadata": {},
   "source": [
    "이 데이터는 기사의 본문에 해당되는 text와 headlines 두 가지 열로 구성되어져 있습니다.\n",
    "\n",
    "추상적 요약을 하는 경우에는 text를 본문, headlines를 이미 요약된 데이터로 삼아서 모델을 학습할 수 있어요. 추출적 요약을 하는 경우에는 오직 text열만을 사용하세요."
   ]
  },
  {
   "cell_type": "markdown",
   "id": "ea3de2c4",
   "metadata": {},
   "source": [
    "Step 2. 데이터 전처리하기 (추상적 요약)\n",
    "실습에서 사용된 전처리를 참고하여 각자 필요하다고 생각하는 전처리를 추가 사용하여 텍스트를 정규화 또는 정제해 보세요. \n",
    "만약, 불용어 제거를 선택한다면 상대적으로 길이가 짧은 요약 데이터에 대해서도 불용어를 제거하는 것이 좋을지 고민해 보세요."
   ]
  },
  {
   "cell_type": "code",
   "execution_count": 4,
   "id": "c86ec81e",
   "metadata": {},
   "outputs": [
    {
     "name": "stdout",
     "output_type": "stream",
     "text": [
      "text 열에서 중복을 배제한 유일한 샘플의 수 : 98360\n",
      "headlines 열에서 중복을 배제한 유일한 샘플의 수 : 98280\n"
     ]
    }
   ],
   "source": [
    "#데이터 전처리\n",
    "print('text 열에서 중복을 배제한 유일한 샘플의 수 :', data['text'].nunique())\n",
    "print('headlines 열에서 중복을 배제한 유일한 샘플의 수 :', data['headlines'].nunique())"
   ]
  },
  {
   "cell_type": "code",
   "execution_count": 5,
   "id": "3f6cab5b",
   "metadata": {},
   "outputs": [
    {
     "name": "stdout",
     "output_type": "stream",
     "text": [
      "전체 샘플수 : 98360\n"
     ]
    }
   ],
   "source": [
    "data.drop_duplicates(subset = ['text'], inplace = True)\n",
    "print('전체 샘플수 :',(len(data)))"
   ]
  },
  {
   "cell_type": "code",
   "execution_count": 6,
   "id": "b84913c5",
   "metadata": {},
   "outputs": [
    {
     "name": "stdout",
     "output_type": "stream",
     "text": [
      "headlines    0\n",
      "text         0\n",
      "dtype: int64\n"
     ]
    }
   ],
   "source": [
    "#데이터에 결측값 확인\n",
    "print(data.isnull().sum())"
   ]
  },
  {
   "cell_type": "code",
   "execution_count": 7,
   "id": "d459d6b6",
   "metadata": {},
   "outputs": [
    {
     "name": "stdout",
     "output_type": "stream",
     "text": [
      "전체 샘플수 : 98360\n"
     ]
    }
   ],
   "source": [
    "#데이터 프레임에 혹시 모를 결측치를 제거하기 위해서 함수 dropna 함수 사용\n",
    "data.dropna(axis = 0, inplace = True)\n",
    "print('전체 샘플수 :',(len(data)))"
   ]
  },
  {
   "cell_type": "markdown",
   "id": "a4a0a1ea",
   "metadata": {},
   "source": [
    "## Text Normalization 처리 및 불용어 (큰 의마가 없거나 중요하지 않다 판단 되는 단어들) 제거 "
   ]
  },
  {
   "cell_type": "code",
   "execution_count": 8,
   "id": "b0a16404",
   "metadata": {},
   "outputs": [
    {
     "name": "stdout",
     "output_type": "stream",
     "text": [
      "정규화 사전의 수:  120\n"
     ]
    }
   ],
   "source": [
    "#사전 샘플에 있는 단어들 준비\n",
    "contractions = {\"ain't\": \"is not\", \"aren't\": \"are not\",\"can't\": \"cannot\", \"'cause\": \"because\", \"could've\": \"could have\", \"couldn't\": \"could not\",\n",
    "                           \"didn't\": \"did not\",  \"doesn't\": \"does not\", \"don't\": \"do not\", \"hadn't\": \"had not\", \"hasn't\": \"has not\", \"haven't\": \"have not\",\n",
    "                           \"he'd\": \"he would\",\"he'll\": \"he will\", \"he's\": \"he is\", \"how'd\": \"how did\", \"how'd'y\": \"how do you\", \"how'll\": \"how will\", \"how's\": \"how is\",\n",
    "                           \"I'd\": \"I would\", \"I'd've\": \"I would have\", \"I'll\": \"I will\", \"I'll've\": \"I will have\",\"I'm\": \"I am\", \"I've\": \"I have\", \"i'd\": \"i would\",\n",
    "                           \"i'd've\": \"i would have\", \"i'll\": \"i will\",  \"i'll've\": \"i will have\",\"i'm\": \"i am\", \"i've\": \"i have\", \"isn't\": \"is not\", \"it'd\": \"it would\",\n",
    "                           \"it'd've\": \"it would have\", \"it'll\": \"it will\", \"it'll've\": \"it will have\",\"it's\": \"it is\", \"let's\": \"let us\", \"ma'am\": \"madam\",\n",
    "                           \"mayn't\": \"may not\", \"might've\": \"might have\",\"mightn't\": \"might not\",\"mightn't've\": \"might not have\", \"must've\": \"must have\",\n",
    "                           \"mustn't\": \"must not\", \"mustn't've\": \"must not have\", \"needn't\": \"need not\", \"needn't've\": \"need not have\",\"o'clock\": \"of the clock\",\n",
    "                           \"oughtn't\": \"ought not\", \"oughtn't've\": \"ought not have\", \"shan't\": \"shall not\", \"sha'n't\": \"shall not\", \"shan't've\": \"shall not have\",\n",
    "                           \"she'd\": \"she would\", \"she'd've\": \"she would have\", \"she'll\": \"she will\", \"she'll've\": \"she will have\", \"she's\": \"she is\",\n",
    "                           \"should've\": \"should have\", \"shouldn't\": \"should not\", \"shouldn't've\": \"should not have\", \"so've\": \"so have\",\"so's\": \"so as\",\n",
    "                           \"this's\": \"this is\",\"that'd\": \"that would\", \"that'd've\": \"that would have\", \"that's\": \"that is\", \"there'd\": \"there would\",\n",
    "                           \"there'd've\": \"there would have\", \"there's\": \"there is\", \"here's\": \"here is\",\"they'd\": \"they would\", \"they'd've\": \"they would have\",\n",
    "                           \"they'll\": \"they will\", \"they'll've\": \"they will have\", \"they're\": \"they are\", \"they've\": \"they have\", \"to've\": \"to have\",\n",
    "                           \"wasn't\": \"was not\", \"we'd\": \"we would\", \"we'd've\": \"we would have\", \"we'll\": \"we will\", \"we'll've\": \"we will have\", \"we're\": \"we are\",\n",
    "                           \"we've\": \"we have\", \"weren't\": \"were not\", \"what'll\": \"what will\", \"what'll've\": \"what will have\", \"what're\": \"what are\",\n",
    "                           \"what's\": \"what is\", \"what've\": \"what have\", \"when's\": \"when is\", \"when've\": \"when have\", \"where'd\": \"where did\", \"where's\": \"where is\",\n",
    "                           \"where've\": \"where have\", \"who'll\": \"who will\", \"who'll've\": \"who will have\", \"who's\": \"who is\", \"who've\": \"who have\",\n",
    "                           \"why's\": \"why is\", \"why've\": \"why have\", \"will've\": \"will have\", \"won't\": \"will not\", \"won't've\": \"will not have\",\n",
    "                           \"would've\": \"would have\", \"wouldn't\": \"would not\", \"wouldn't've\": \"would not have\", \"y'all\": \"you all\",\n",
    "                           \"y'all'd\": \"you all would\",\"y'all'd've\": \"you all would have\",\"y'all're\": \"you all are\",\"y'all've\": \"you all have\",\n",
    "                           \"you'd\": \"you would\", \"you'd've\": \"you would have\", \"you'll\": \"you will\", \"you'll've\": \"you will have\",\n",
    "                           \"you're\": \"you are\", \"you've\": \"you have\"}\n",
    "\n",
    "print(\"정규화 사전의 수: \", len(contractions))"
   ]
  },
  {
   "cell_type": "code",
   "execution_count": 9,
   "id": "5ba1e007",
   "metadata": {},
   "outputs": [
    {
     "name": "stderr",
     "output_type": "stream",
     "text": [
      "[nltk_data] Downloading package stopwords to /aiffel/nltk_data...\n",
      "[nltk_data]   Package stopwords is already up-to-date!\n"
     ]
    },
    {
     "data": {
      "text/plain": [
       "True"
      ]
     },
     "execution_count": 9,
     "metadata": {},
     "output_type": "execute_result"
    }
   ],
   "source": [
    "#불용어 준비\n",
    "nltk.download('stopwords')"
   ]
  },
  {
   "cell_type": "code",
   "execution_count": 10,
   "id": "5470762a",
   "metadata": {},
   "outputs": [
    {
     "name": "stdout",
     "output_type": "stream",
     "text": [
      "불용어 개수 : 198\n",
      "['a', 'about', 'above', 'after', 'again', 'against', 'ain', 'all', 'am', 'an', 'and', 'any', 'are', 'aren', \"aren't\", 'as', 'at', 'be', 'because', 'been', 'before', 'being', 'below', 'between', 'both', 'but', 'by', 'can', 'couldn', \"couldn't\", 'd', 'did', 'didn', \"didn't\", 'do', 'does', 'doesn', \"doesn't\", 'doing', 'don', \"don't\", 'down', 'during', 'each', 'few', 'for', 'from', 'further', 'had', 'hadn', \"hadn't\", 'has', 'hasn', \"hasn't\", 'have', 'haven', \"haven't\", 'having', 'he', \"he'd\", \"he'll\", 'her', 'here', 'hers', 'herself', \"he's\", 'him', 'himself', 'his', 'how', 'i', \"i'd\", 'if', \"i'll\", \"i'm\", 'in', 'into', 'is', 'isn', \"isn't\", 'it', \"it'd\", \"it'll\", \"it's\", 'its', 'itself', \"i've\", 'just', 'll', 'm', 'ma', 'me', 'mightn', \"mightn't\", 'more', 'most', 'mustn', \"mustn't\", 'my', 'myself', 'needn', \"needn't\", 'no', 'nor', 'not', 'now', 'o', 'of', 'off', 'on', 'once', 'only', 'or', 'other', 'our', 'ours', 'ourselves', 'out', 'over', 'own', 're', 's', 'same', 'shan', \"shan't\", 'she', \"she'd\", \"she'll\", \"she's\", 'should', 'shouldn', \"shouldn't\", \"should've\", 'so', 'some', 'such', 't', 'than', 'that', \"that'll\", 'the', 'their', 'theirs', 'them', 'themselves', 'then', 'there', 'these', 'they', \"they'd\", \"they'll\", \"they're\", \"they've\", 'this', 'those', 'through', 'to', 'too', 'under', 'until', 'up', 've', 'very', 'was', 'wasn', \"wasn't\", 'we', \"we'd\", \"we'll\", \"we're\", 'were', 'weren', \"weren't\", \"we've\", 'what', 'when', 'where', 'which', 'while', 'who', 'whom', 'why', 'will', 'with', 'won', \"won't\", 'wouldn', \"wouldn't\", 'y', 'you', \"you'd\", \"you'll\", 'your', \"you're\", 'yours', 'yourself', 'yourselves', \"you've\"]\n"
     ]
    }
   ],
   "source": [
    "#불용어 확인 하기\n",
    "print('불용어 개수 :', len(stopwords.words('english') ))\n",
    "print(stopwords.words('english'))"
   ]
  },
  {
   "cell_type": "code",
   "execution_count": 11,
   "id": "ca9e439c",
   "metadata": {},
   "outputs": [
    {
     "name": "stdout",
     "output_type": "stream",
     "text": [
      "드가자아~\n"
     ]
    }
   ],
   "source": [
    "# 데이터 전처리 함수\n",
    "def preprocess_sentence(sentence, remove_stopwords=True):\n",
    "    sentence = sentence.lower() # 텍스트 소문자화\n",
    "    sentence = BeautifulSoup(sentence, \"lxml\").text # <br />, <a href = ...> 등의 html 태그 제거\n",
    "    sentence = re.sub(r'\\([^)]*\\)', '', sentence) # 괄호로 닫힌 문자열 (...) 제거 Ex) my husband (and myself!) for => my husband for\n",
    "    sentence = re.sub('\"','', sentence) # 쌍따옴표 \" 제거\n",
    "    sentence = ' '.join([contractions[t] if t in contractions else t for t in sentence.split(\" \")]) # 약어 정규화\n",
    "    sentence = re.sub(r\"'s\\b\",\"\", sentence) # 소유격 제거. Ex) roland's -> roland\n",
    "    sentence = re.sub(\"[^a-zA-Z]\", \" \", sentence) # 영어 외 문자(숫자, 특수문자 등) 공백으로 변환\n",
    "    sentence = re.sub('[m]{2,}', 'mm', sentence) # m이 3개 이상이면 2개로 변경. Ex) ummmmmmm yeah -> umm yeah\n",
    "    \n",
    "    # 불용어 제거 (Text)\n",
    "    if remove_stopwords:\n",
    "        tokens = ' '.join(word for word in sentence.split() if not word in stopwords.words('english') if len(word) > 1)\n",
    "    # 불용어 미제거 (Summary)\n",
    "    else:\n",
    "        tokens = ' '.join(word for word in sentence.split() if len(word) > 1)\n",
    "    return tokens\n",
    "print('드가자아~')"
   ]
  },
  {
   "cell_type": "code",
   "execution_count": 12,
   "id": "9cae663b",
   "metadata": {},
   "outputs": [
    {
     "data": {
      "text/plain": [
       "'upGrad learner switches to career in ML & Al with 90% salary hike'"
      ]
     },
     "execution_count": 12,
     "metadata": {},
     "output_type": "execute_result"
    }
   ],
   "source": [
    "data.sample(0)\n",
    "data['headlines'][0]"
   ]
  },
  {
   "cell_type": "code",
   "execution_count": 13,
   "id": "64f8d605",
   "metadata": {},
   "outputs": [
    {
     "name": "stdout",
     "output_type": "stream",
     "text": [
      "Saurav Kant, an alumnus of upGrad and IIIT-B's PG Program in Machine learning and Artificial Intelligence, was a Sr Systems Engineer at Infosys with almost 5 years of work experience. The program and upGrad's 360-degree career support helped him transition to a Data Scientist at Tech Mahindra with 90% salary hike. upGrad's Online Power Learning has powered 3 lakh+ careers.\n",
      "upGrad learner switches to career in ML & Al with 90% salary hike\n",
      "\n",
      "saurav kant alumnus upgrad iiit pg program machine learning artificial intelligence sr systems engineer infosys almost years work experience program upgrad degree career support helped transition data scientist tech mahindra salary hike upgrad online power learning powered lakh careers\n",
      "upgrad learner switches to career in ml al with salary hike\n"
     ]
    }
   ],
   "source": [
    "temp_text = data['text'][0]\n",
    "temp_headlines = data['headlines'][0]\n",
    "\n",
    "print(temp_text)\n",
    "print(temp_headlines)\n",
    "print()\n",
    "print(preprocess_sentence(temp_text))\n",
    "print(preprocess_sentence(temp_headlines, False))  # 불용어를 제거하지 않습니다."
   ]
  },
  {
   "cell_type": "markdown",
   "id": "3988d5b6",
   "metadata": {},
   "source": [
    "위와 같이 문단 혹은 문장을 보면, 모든 영문이 소문자로 변경 되고 특수문자 나 기호등이 제거 된것을 확인 할 수 있고 여기서는 안보이만, 묶여 있는 단어 시퀀스 들도 말끔하게 처리가 되어 있다는 점을 시사합니다. 이제 함수가 작동이 되니, 훈련 데이터 전체의 전처리 process를 실행 합니다. text 같은 경우에는 불용어를 제거하고 summary 같은 경우에는 불용어를 제거하지 않고 따로 호출을 진행합니다. 따라서 text를 먼저 전처리 하고 결과를 먼저 확인하기 위해서 상위 5개를 먼저 출력을 해보겠습니다. "
   ]
  },
  {
   "cell_type": "code",
   "execution_count": 14,
   "id": "daac6596",
   "metadata": {},
   "outputs": [
    {
     "data": {
      "text/plain": [
       "['saurav kant alumnus upgrad iiit pg program machine learning artificial intelligence sr systems engineer infosys almost years work experience program upgrad degree career support helped transition data scientist tech mahindra salary hike upgrad online power learning powered lakh careers',\n",
       " 'kunal shah credit card bill payment platform cred gave users chance win free food swiggy one year pranav kaushik delhi techie bagged reward spending cred coins users get one cred coin per rupee bill paid used avail rewards brands like ixigo bookmyshow ubereats cult fit',\n",
       " 'new zealand defeated india wickets fourth odi hamilton thursday win first match five match odi series india lost international match rohit sharma captaincy consecutive victories dating back march match witnessed india getting seventh lowest total odi cricket history',\n",
       " 'aegon life iterm insurance plan customers enjoy tax benefits premiums paid save taxes plan provides life cover age years also customers options insure critical illnesses disability accidental death benefit rider life cover age years',\n",
       " 'speaking sexual harassment allegations rajkumar hirani sonam kapoor said known hirani many years true metoo movement get derailed metoo movement always believe woman case need reserve judgment added hirani accused assistant worked sanju']"
      ]
     },
     "execution_count": 14,
     "metadata": {},
     "output_type": "execute_result"
    }
   ],
   "source": [
    "clean_text = []\n",
    "\n",
    "# 전체 Text 데이터에 대한 전처리 : 10분 이상 시간이 걸릴 수 있습니다. \n",
    "for s in data['text']:\n",
    "    clean_text.append(preprocess_sentence(s))\n",
    "\n",
    "# 전처리 후 출력\n",
    "clean_text[:5]"
   ]
  },
  {
   "cell_type": "code",
   "execution_count": 15,
   "id": "90c135d6",
   "metadata": {},
   "outputs": [
    {
     "data": {
      "text/plain": [
       "['upgrad learner switches to career in ml al with salary hike',\n",
       " 'delhi techie wins free food from swiggy for one year on cred',\n",
       " 'new zealand end rohit sharma led india match winning streak',\n",
       " 'aegon life iterm insurance plan helps customers save tax',\n",
       " 'have known hirani for yrs what if metoo claims are not true sonam']"
      ]
     },
     "execution_count": 15,
     "metadata": {},
     "output_type": "execute_result"
    }
   ],
   "source": [
    "clean_headlines = []\n",
    "\n",
    "# 전체 Summary 데이터에 대한 전처리 : 5분 이상 시간이 걸릴 수 있습니다. \n",
    "for s in data['headlines']:\n",
    "    clean_headlines.append(preprocess_sentence(s, False))\n",
    "\n",
    "clean_headlines[:5]"
   ]
  },
  {
   "cell_type": "code",
   "execution_count": 20,
   "id": "178d29ae",
   "metadata": {},
   "outputs": [],
   "source": [
    "data['text'] = clean_text\n",
    "data['headlines'] = clean_headlines\n",
    "\n",
    "# 빈 값을 Null 값으로 변환\n",
    "data.replace('', np.nan, inplace=True)"
   ]
  },
  {
   "cell_type": "code",
   "execution_count": 21,
   "id": "0c4bcba6",
   "metadata": {},
   "outputs": [
    {
     "data": {
      "text/plain": [
       "headlines    0\n",
       "text         0\n",
       "dtype: int64"
      ]
     },
     "execution_count": 21,
     "metadata": {},
     "output_type": "execute_result"
    }
   ],
   "source": [
    "data.isnull().sum()"
   ]
  },
  {
   "cell_type": "code",
   "execution_count": 22,
   "id": "c981068e",
   "metadata": {},
   "outputs": [
    {
     "name": "stdout",
     "output_type": "stream",
     "text": [
      "전체 샘플수 : 98360\n"
     ]
    }
   ],
   "source": [
    "data.dropna(axis=0, inplace=True)\n",
    "print('전체 샘플수 :',(len(data)))#데이터 전처리 함수"
   ]
  },
  {
   "cell_type": "markdown",
   "id": "13980950",
   "metadata": {},
   "source": [
    "## 샘플의 최대 길이 설정"
   ]
  },
  {
   "cell_type": "code",
   "execution_count": 23,
   "id": "bac83f97",
   "metadata": {},
   "outputs": [
    {
     "name": "stdout",
     "output_type": "stream",
     "text": [
      "텍스트의 최소 길이 : 1\n",
      "텍스트의 최대 길이 : 60\n",
      "텍스트의 평균 길이 : 35.09968483123221\n",
      "요약의 최소 길이 : 1\n",
      "요약의 최대 길이 : 16\n",
      "요약의 평균 길이 : 9.299532330215534\n"
     ]
    },
    {
     "data": {
      "image/png": "[encoded data removed]",
      "text/plain": [
       "<Figure size 432x288 with 2 Axes>"
      ]
     },
     "metadata": {
      "needs_background": "light"
     },
     "output_type": "display_data"
    },
    {
     "data": {
      "image/png": "[encoded data removed]",
      "text/plain": [
       "<Figure size 432x288 with 1 Axes>"
      ]
     },
     "metadata": {
      "needs_background": "light"
     },
     "output_type": "display_data"
    },
    {
     "data": {
      "image/png": "[encoded data removed]",
      "text/plain": [
       "<Figure size 432x288 with 1 Axes>"
      ]
     },
     "metadata": {
      "needs_background": "light"
     },
     "output_type": "display_data"
    }
   ],
   "source": [
    "# 길이 분포 출력\n",
    "\n",
    "text_len = [len(s.split()) for s in data['text']]\n",
    "headlines_len = [len(s.split()) for s in data['headlines']]\n",
    "\n",
    "print('텍스트의 최소 길이 : {}'.format(np.min(text_len)))\n",
    "print('텍스트의 최대 길이 : {}'.format(np.max(text_len)))\n",
    "print('텍스트의 평균 길이 : {}'.format(np.mean(text_len)))\n",
    "print('요약의 최소 길이 : {}'.format(np.min(headlines_len)))\n",
    "print('요약의 최대 길이 : {}'.format(np.max(headlines_len)))\n",
    "print('요약의 평균 길이 : {}'.format(np.mean(headlines_len)))\n",
    "\n",
    "plt.subplot(1,2,1)\n",
    "plt.boxplot(headlines_len)\n",
    "plt.title('headlines')\n",
    "plt.subplot(1,2,2)\n",
    "plt.boxplot(text_len)\n",
    "plt.title('Text')\n",
    "plt.tight_layout()\n",
    "plt.show()\n",
    "\n",
    "plt.title('headlines')\n",
    "plt.hist(headlines_len, bins = 40)\n",
    "plt.xlabel('length of samples')\n",
    "plt.ylabel('number of samples')\n",
    "plt.show()\n",
    "\n",
    "plt.title('Text')\n",
    "plt.hist(text_len, bins = 40)\n",
    "plt.xlabel('length of samples')\n",
    "plt.ylabel('number of samples')\n",
    "plt.show()"
   ]
  },
  {
   "cell_type": "code",
   "execution_count": 27,
   "id": "66d89574",
   "metadata": {},
   "outputs": [],
   "source": [
    "text_max_len = 50\n",
    "headlines_max_len = 8"
   ]
  },
  {
   "cell_type": "code",
   "execution_count": 29,
   "id": "785dfcee",
   "metadata": {},
   "outputs": [],
   "source": [
    "def below_threshold_len(max_len, nested_list):\n",
    "    cnt = 0\n",
    "    for s in nested_list:\n",
    "        if len(s.split()) <= max_len:\n",
    "            cnt += 1\n",
    "    print('전체 샘플 중 길이가 %s 이하인 샘플의 비율: %.2f' % (max_len, (cnt / len(nested_list))))"
   ]
  },
  {
   "cell_type": "code",
   "execution_count": 30,
   "id": "e7233a26",
   "metadata": {},
   "outputs": [
    {
     "name": "stdout",
     "output_type": "stream",
     "text": [
      "전체 샘플 중 길이가 50 이하인 샘플의 비율: 1.00\n",
      "전체 샘플 중 길이가 8 이하인 샘플의 비율: 0.28\n"
     ]
    }
   ],
   "source": [
    "below_threshold_len(text_max_len, data['text'])\n",
    "below_threshold_len(headlines_max_len,  data['headlines'])"
   ]
  },
  {
   "cell_type": "code",
   "execution_count": 31,
   "id": "82e5245a",
   "metadata": {},
   "outputs": [
    {
     "name": "stdout",
     "output_type": "stream",
     "text": [
      "전체 샘플수 : 27105\n"
     ]
    }
   ],
   "source": [
    "data = data[data['text'].apply(lambda x: len(x.split()) <= text_max_len)]\n",
    "data = data[data['headlines'].apply(lambda x: len(x.split()) <= headlines_max_len)]\n",
    "print('전체 샘플수 :',(len(data)))"
   ]
  },
  {
   "cell_type": "code",
   "execution_count": 32,
   "id": "759ef846",
   "metadata": {},
   "outputs": [
    {
     "data": {
      "text/html": [
       "<div>\n",
       "<style scoped>\n",
       "    .dataframe tbody tr th:only-of-type {\n",
       "        vertical-align: middle;\n",
       "    }\n",
       "\n",
       "    .dataframe tbody tr th {\n",
       "        vertical-align: top;\n",
       "    }\n",
       "\n",
       "    .dataframe thead th {\n",
       "        text-align: right;\n",
       "    }\n",
       "</style>\n",
       "<table border=\"1\" class=\"dataframe\">\n",
       "  <thead>\n",
       "    <tr style=\"text-align: right;\">\n",
       "      <th></th>\n",
       "      <th>headlines</th>\n",
       "      <th>text</th>\n",
       "      <th>decoder_input</th>\n",
       "      <th>decoder_target</th>\n",
       "    </tr>\n",
       "  </thead>\n",
       "  <tbody>\n",
       "    <tr>\n",
       "      <th>19</th>\n",
       "      <td>odisha cm patnaik controls mining mafia union ...</td>\n",
       "      <td>union minister dharmendra pradhan wednesday cl...</td>\n",
       "      <td>sostoken odisha cm patnaik controls mining maf...</td>\n",
       "      <td>odisha cm patnaik controls mining mafia union ...</td>\n",
       "    </tr>\n",
       "    <tr>\n",
       "      <th>21</th>\n",
       "      <td>isro unveils bengaluru centre for manned space...</td>\n",
       "      <td>indian space research organisation wednesday u...</td>\n",
       "      <td>sostoken isro unveils bengaluru centre for man...</td>\n",
       "      <td>isro unveils bengaluru centre for manned space...</td>\n",
       "    </tr>\n",
       "    <tr>\n",
       "      <th>22</th>\n",
       "      <td>killed injured in saudi arabia floods</td>\n",
       "      <td>least people killed others injured saudi arabi...</td>\n",
       "      <td>sostoken killed injured in saudi arabia floods</td>\n",
       "      <td>killed injured in saudi arabia floods eostoken</td>\n",
       "    </tr>\n",
       "    <tr>\n",
       "      <th>29</th>\n",
       "      <td>seat cushions from missing plane carrying foot...</td>\n",
       "      <td>investigators searching lost plane carrying ar...</td>\n",
       "      <td>sostoken seat cushions from missing plane carr...</td>\n",
       "      <td>seat cushions from missing plane carrying foot...</td>\n",
       "    </tr>\n",
       "    <tr>\n",
       "      <th>36</th>\n",
       "      <td>agustawestland scam accused rajiv saxena extra...</td>\n",
       "      <td>agustawestland chopper scam co accused rajiv s...</td>\n",
       "      <td>sostoken agustawestland scam accused rajiv sax...</td>\n",
       "      <td>agustawestland scam accused rajiv saxena extra...</td>\n",
       "    </tr>\n",
       "  </tbody>\n",
       "</table>\n",
       "</div>"
      ],
      "text/plain": [
       "                                            headlines  \\\n",
       "19  odisha cm patnaik controls mining mafia union ...   \n",
       "21  isro unveils bengaluru centre for manned space...   \n",
       "22              killed injured in saudi arabia floods   \n",
       "29  seat cushions from missing plane carrying foot...   \n",
       "36  agustawestland scam accused rajiv saxena extra...   \n",
       "\n",
       "                                                 text  \\\n",
       "19  union minister dharmendra pradhan wednesday cl...   \n",
       "21  indian space research organisation wednesday u...   \n",
       "22  least people killed others injured saudi arabi...   \n",
       "29  investigators searching lost plane carrying ar...   \n",
       "36  agustawestland chopper scam co accused rajiv s...   \n",
       "\n",
       "                                        decoder_input  \\\n",
       "19  sostoken odisha cm patnaik controls mining maf...   \n",
       "21  sostoken isro unveils bengaluru centre for man...   \n",
       "22     sostoken killed injured in saudi arabia floods   \n",
       "29  sostoken seat cushions from missing plane carr...   \n",
       "36  sostoken agustawestland scam accused rajiv sax...   \n",
       "\n",
       "                                       decoder_target  \n",
       "19  odisha cm patnaik controls mining mafia union ...  \n",
       "21  isro unveils bengaluru centre for manned space...  \n",
       "22     killed injured in saudi arabia floods eostoken  \n",
       "29  seat cushions from missing plane carrying foot...  \n",
       "36  agustawestland scam accused rajiv saxena extra...  "
      ]
     },
     "execution_count": 32,
     "metadata": {},
     "output_type": "execute_result"
    }
   ],
   "source": [
    "#요약 데이터에는 시작 토큰과 종료 토큰을 추가한다.\n",
    "data['decoder_input'] = data['headlines'].apply(lambda x : 'sostoken '+ x)\n",
    "data['decoder_target'] = data['headlines'].apply(lambda x : x + ' eostoken')\n",
    "data.head()"
   ]
  },
  {
   "cell_type": "code",
   "execution_count": 33,
   "id": "19e07407",
   "metadata": {},
   "outputs": [],
   "source": [
    "encoder_input = np.array(data['text']) # 인코더의 입력\n",
    "decoder_input = np.array(data['decoder_input']) # 디코더의 입력\n",
    "decoder_target = np.array(data['decoder_target']) # 디코더의 레이블"
   ]
  },
  {
   "cell_type": "code",
   "execution_count": 34,
   "id": "6b8fa04c",
   "metadata": {},
   "outputs": [
    {
     "name": "stdout",
     "output_type": "stream",
     "text": [
      "[ 7756  3701 26620 ...  6886  4525 25451]\n"
     ]
    }
   ],
   "source": [
    "indices = np.arange(encoder_input.shape[0])\n",
    "np.random.shuffle(indices)\n",
    "print(indices)"
   ]
  },
  {
   "cell_type": "code",
   "execution_count": 35,
   "id": "824edd8a",
   "metadata": {},
   "outputs": [],
   "source": [
    "encoder_input = encoder_input[indices]\n",
    "decoder_input = decoder_input[indices]\n",
    "decoder_target = decoder_target[indices]"
   ]
  },
  {
   "cell_type": "code",
   "execution_count": 36,
   "id": "5d5a86d2",
   "metadata": {},
   "outputs": [
    {
     "name": "stdout",
     "output_type": "stream",
     "text": [
      "테스트 데이터의 수 : 5421\n"
     ]
    }
   ],
   "source": [
    "n_of_val = int(len(encoder_input)*0.2)\n",
    "print('테스트 데이터의 수 :',n_of_val)"
   ]
  },
  {
   "cell_type": "code",
   "execution_count": 37,
   "id": "667c776f",
   "metadata": {},
   "outputs": [
    {
     "name": "stdout",
     "output_type": "stream",
     "text": [
      "훈련 데이터의 개수 : 21684\n",
      "훈련 레이블의 개수 : 21684\n",
      "테스트 데이터의 개수 : 5421\n",
      "테스트 레이블의 개수 : 5421\n"
     ]
    }
   ],
   "source": [
    "encoder_input_train = encoder_input[:-n_of_val]\n",
    "decoder_input_train = decoder_input[:-n_of_val]\n",
    "decoder_target_train = decoder_target[:-n_of_val]\n",
    "\n",
    "encoder_input_test = encoder_input[-n_of_val:]\n",
    "decoder_input_test = decoder_input[-n_of_val:]\n",
    "decoder_target_test = decoder_target[-n_of_val:]\n",
    "\n",
    "print('훈련 데이터의 개수 :', len(encoder_input_train))\n",
    "print('훈련 레이블의 개수 :',len(decoder_input_train))\n",
    "print('테스트 데이터의 개수 :',len(encoder_input_test))\n",
    "print('테스트 레이블의 개수 :',len(decoder_input_test))"
   ]
  },
  {
   "cell_type": "markdown",
   "id": "01c4698f",
   "metadata": {},
   "source": [
    "## 단어 집합 만들기"
   ]
  },
  {
   "cell_type": "code",
   "execution_count": 38,
   "id": "7200c2d4",
   "metadata": {},
   "outputs": [],
   "source": [
    "src_tokenizer = Tokenizer() # 토크나이저 정의\n",
    "src_tokenizer.fit_on_texts(encoder_input_train) # 입력된 데이터로부터 단어 집합 생성"
   ]
  },
  {
   "cell_type": "code",
   "execution_count": 39,
   "id": "624c5c5f",
   "metadata": {},
   "outputs": [
    {
     "name": "stdout",
     "output_type": "stream",
     "text": [
      "단어 집합(vocabulary)의 크기 : 42368\n",
      "등장 빈도가 6번 이하인 희귀 단어의 수: 30632\n",
      "단어 집합에서 희귀 단어를 제외시킬 경우의 단어 집합의 크기 11736\n",
      "단어 집합에서 희귀 단어의 비율: 72.29984894259819\n",
      "전체 등장 빈도에서 희귀 단어 등장 빈도 비율: 8.234569963396943\n"
     ]
    }
   ],
   "source": [
    "threshold = 7\n",
    "total_cnt = len(src_tokenizer.word_index) # 단어의 수\n",
    "rare_cnt = 0 # 등장 빈도수가 threshold보다 작은 단어의 개수를 카운트\n",
    "total_freq = 0 # 훈련 데이터의 전체 단어 빈도수 총 합\n",
    "rare_freq = 0 # 등장 빈도수가 threshold보다 작은 단어의 등장 빈도수의 총 합\n",
    "\n",
    "# 단어와 빈도수의 쌍(pair)을 key와 value로 받는다.\n",
    "for key, value in src_tokenizer.word_counts.items():\n",
    "    total_freq = total_freq + value\n",
    "\n",
    "    # 단어의 등장 빈도수가 threshold보다 작으면\n",
    "    if(value < threshold):\n",
    "        rare_cnt = rare_cnt + 1\n",
    "        rare_freq = rare_freq + value\n",
    "\n",
    "print('단어 집합(vocabulary)의 크기 :',total_cnt)\n",
    "print('등장 빈도가 %s번 이하인 희귀 단어의 수: %s'%(threshold - 1, rare_cnt))\n",
    "print('단어 집합에서 희귀 단어를 제외시킬 경우의 단어 집합의 크기 %s'%(total_cnt - rare_cnt))\n",
    "print(\"단어 집합에서 희귀 단어의 비율:\", (rare_cnt / total_cnt)*100)\n",
    "print(\"전체 등장 빈도에서 희귀 단어 등장 빈도 비율:\", (rare_freq / total_freq)*100)"
   ]
  },
  {
   "cell_type": "code",
   "execution_count": 40,
   "id": "5f34b188",
   "metadata": {},
   "outputs": [],
   "source": [
    "src_vocab = 8000\n",
    "src_tokenizer = Tokenizer(num_words = src_vocab) # 단어 집합의 크기를 8,000으로 제한\n",
    "src_tokenizer.fit_on_texts(encoder_input_train) # 단어 집합 재생성."
   ]
  },
  {
   "cell_type": "code",
   "execution_count": 41,
   "id": "fe7d2dbb",
   "metadata": {},
   "outputs": [
    {
     "name": "stdout",
     "output_type": "stream",
     "text": [
      "[[3522, 3781, 1626, 3, 12, 1127, 1350, 5406, 12, 51, 4763, 1, 2328, 4613, 3324, 4388, 149, 1244, 413, 11, 27, 1626, 6, 7415, 2, 26, 1383, 1645, 51, 136, 1558, 1409], [3, 825, 802, 98, 7799, 575, 1889, 1010, 2359, 684, 1903, 11, 236, 4, 5604, 3782, 2095, 207, 2190, 3, 825, 360, 3, 170, 1484, 1384, 825, 162, 842, 3245, 684, 45], [4614, 354, 1209, 36, 283, 64, 14, 2510, 186, 807, 79, 1, 253, 14, 276, 127, 2559, 6755, 442, 691, 4764, 56, 515, 16, 414, 230, 2431, 68, 36, 143, 14, 2191, 56]]\n"
     ]
    }
   ],
   "source": [
    "# 텍스트 시퀀스를 정수 시퀀스로 변환\n",
    "encoder_input_train = src_tokenizer.texts_to_sequences(encoder_input_train) \n",
    "encoder_input_test = src_tokenizer.texts_to_sequences(encoder_input_test)\n",
    "\n",
    "#잘 진행되었는지 샘플 출력\n",
    "print(encoder_input_train[:3])"
   ]
  },
  {
   "cell_type": "code",
   "execution_count": 42,
   "id": "31ce920b",
   "metadata": {},
   "outputs": [],
   "source": [
    "tar_tokenizer = Tokenizer()\n",
    "tar_tokenizer.fit_on_texts(decoder_input_train)"
   ]
  },
  {
   "cell_type": "code",
   "execution_count": 43,
   "id": "9f2b6a30",
   "metadata": {},
   "outputs": [
    {
     "name": "stdout",
     "output_type": "stream",
     "text": [
      "단어 집합(vocabulary)의 크기 : 18876\n",
      "등장 빈도가 5번 이하인 희귀 단어의 수: 14248\n",
      "단어 집합에서 희귀 단어를 제외시킬 경우의 단어 집합의 크기 4628\n",
      "단어 집합에서 희귀 단어의 비율: 75.48209366391184\n",
      "전체 등장 빈도에서 희귀 단어 등장 빈도 비율: 14.19422318770617\n"
     ]
    }
   ],
   "source": [
    "threshold = 6\n",
    "total_cnt = len(tar_tokenizer.word_index) # 단어의 수\n",
    "rare_cnt = 0 # 등장 빈도수가 threshold보다 작은 단어의 개수를 카운트\n",
    "total_freq = 0 # 훈련 데이터의 전체 단어 빈도수 총 합\n",
    "rare_freq = 0 # 등장 빈도수가 threshold보다 작은 단어의 등장 빈도수의 총 합\n",
    "\n",
    "# 단어와 빈도수의 쌍(pair)을 key와 value로 받는다.\n",
    "for key, value in tar_tokenizer.word_counts.items():\n",
    "    total_freq = total_freq + value\n",
    "\n",
    "    # 단어의 등장 빈도수가 threshold보다 작으면\n",
    "    if(value < threshold):\n",
    "        rare_cnt = rare_cnt + 1\n",
    "        rare_freq = rare_freq + value\n",
    "\n",
    "print('단어 집합(vocabulary)의 크기 :',total_cnt)\n",
    "print('등장 빈도가 %s번 이하인 희귀 단어의 수: %s'%(threshold - 1, rare_cnt))\n",
    "print('단어 집합에서 희귀 단어를 제외시킬 경우의 단어 집합의 크기 %s'%(total_cnt - rare_cnt))\n",
    "print(\"단어 집합에서 희귀 단어의 비율:\", (rare_cnt / total_cnt)*100)\n",
    "print(\"전체 등장 빈도에서 희귀 단어 등장 빈도 비율:\", (rare_freq / total_freq)*100)"
   ]
  },
  {
   "cell_type": "code",
   "execution_count": 44,
   "id": "0a34dc4a",
   "metadata": {},
   "outputs": [
    {
     "name": "stdout",
     "output_type": "stream",
     "text": [
      "input\n",
      "input  [[1, 915, 4, 582], [1, 8, 445, 950, 4, 848], [1, 13, 69, 5, 427], [1, 916, 23, 4, 3], [1, 111, 55, 1721, 16, 53]]\n",
      "target\n",
      "decoder  [[915, 4, 582, 2], [8, 445, 950, 4, 848, 2], [13, 69, 5, 427, 2], [916, 23, 4, 3, 2], [111, 55, 1721, 16, 53, 2]]\n"
     ]
    }
   ],
   "source": [
    "tar_vocab = 2000\n",
    "tar_tokenizer = Tokenizer(num_words = tar_vocab) \n",
    "tar_tokenizer.fit_on_texts(decoder_input_train)\n",
    "tar_tokenizer.fit_on_texts(decoder_target_train)\n",
    "\n",
    "# 텍스트 시퀀스를 정수 시퀀스로 변환\n",
    "decoder_input_train = tar_tokenizer.texts_to_sequences(decoder_input_train) \n",
    "decoder_target_train = tar_tokenizer.texts_to_sequences(decoder_target_train)\n",
    "decoder_input_test = tar_tokenizer.texts_to_sequences(decoder_input_test)\n",
    "decoder_target_test = tar_tokenizer.texts_to_sequences(decoder_target_test)\n",
    "\n",
    "#잘 변환되었는지 확인\n",
    "print('input')\n",
    "print('input ',decoder_input_train[:5])\n",
    "print('target')\n",
    "print('decoder ',decoder_target_train[:5])"
   ]
  },
  {
   "cell_type": "code",
   "execution_count": 45,
   "id": "ece500d0",
   "metadata": {},
   "outputs": [
    {
     "name": "stdout",
     "output_type": "stream",
     "text": [
      "삭제할 훈련 데이터의 개수 : 9\n",
      "삭제할 테스트 데이터의 개수 : 3\n",
      "훈련 데이터의 개수 : 21675\n",
      "훈련 레이블의 개수 : 21675\n",
      "테스트 데이터의 개수 : 5418\n",
      "테스트 레이블의 개수 : 5418\n"
     ]
    }
   ],
   "source": [
    "drop_train = [index for index, sentence in enumerate(decoder_input_train) if len(sentence) == 1]\n",
    "drop_test = [index for index, sentence in enumerate(decoder_input_test) if len(sentence) == 1]\n",
    "\n",
    "print('삭제할 훈련 데이터의 개수 :',len(drop_train))\n",
    "print('삭제할 테스트 데이터의 개수 :',len(drop_test))\n",
    "\n",
    "encoder_input_train = np.delete(encoder_input_train, drop_train, axis=0)\n",
    "decoder_input_train = np.delete(decoder_input_train, drop_train, axis=0)\n",
    "decoder_target_train = np.delete(decoder_target_train, drop_train, axis=0)\n",
    "\n",
    "encoder_input_test = np.delete(encoder_input_test, drop_test, axis=0)\n",
    "decoder_input_test = np.delete(decoder_input_test, drop_test, axis=0)\n",
    "decoder_target_test = np.delete(decoder_target_test, drop_test, axis=0)\n",
    "\n",
    "print('훈련 데이터의 개수 :', len(encoder_input_train))\n",
    "print('훈련 레이블의 개수 :',len(decoder_input_train))\n",
    "print('테스트 데이터의 개수 :',len(encoder_input_test))\n",
    "print('테스트 레이블의 개수 :',len(decoder_input_test))"
   ]
  },
  {
   "cell_type": "code",
   "execution_count": 46,
   "id": "b617c57c",
   "metadata": {},
   "outputs": [],
   "source": [
    "encoder_input_train = pad_sequences(encoder_input_train, maxlen = text_max_len, padding='post')\n",
    "encoder_input_test = pad_sequences(encoder_input_test, maxlen = text_max_len, padding='post')\n",
    "decoder_input_train = pad_sequences(decoder_input_train, maxlen = headlines_max_len, padding='post')\n",
    "decoder_target_train = pad_sequences(decoder_target_train, maxlen = headlines_max_len, padding='post')\n",
    "decoder_input_test = pad_sequences(decoder_input_test, maxlen = headlines_max_len, padding='post')\n",
    "decoder_target_test = pad_sequences(decoder_target_test, maxlen = headlines_max_len, padding='post')"
   ]
  },
  {
   "cell_type": "markdown",
   "id": "598cab3b",
   "metadata": {},
   "source": [
    "## 모델 설계"
   ]
  },
  {
   "cell_type": "markdown",
   "id": "34c386a8",
   "metadata": {},
   "source": [
    "### 인코더 설계"
   ]
  },
  {
   "cell_type": "code",
   "execution_count": 53,
   "id": "10f3ed4f",
   "metadata": {},
   "outputs": [
    {
     "name": "stdout",
     "output_type": "stream",
     "text": [
      "WARNING:tensorflow:Layer lstm will not use cuDNN kernels since it doesn't meet the criteria. It will use a generic GPU kernel as fallback when running on GPU.\n",
      "WARNING:tensorflow:Layer lstm_1 will not use cuDNN kernels since it doesn't meet the criteria. It will use a generic GPU kernel as fallback when running on GPU.\n",
      "WARNING:tensorflow:Layer lstm_2 will not use cuDNN kernels since it doesn't meet the criteria. It will use a generic GPU kernel as fallback when running on GPU.\n"
     ]
    }
   ],
   "source": [
    "# 인코더 설계 시작\n",
    "embedding_dim = 128\n",
    "hidden_size = 256\n",
    "\n",
    "# 인코더\n",
    "encoder_inputs = Input(shape=(text_max_len,))\n",
    "\n",
    "# 인코더의 임베딩 층\n",
    "enc_emb = Embedding(src_vocab, embedding_dim)(encoder_inputs)\n",
    "\n",
    "# 인코더의 LSTM 1\n",
    "encoder_lstm1 = LSTM(hidden_size, return_sequences=True, return_state=True ,dropout = 0.4, recurrent_dropout = 0.4)\n",
    "encoder_output1, state_h1, state_c1 = encoder_lstm1(enc_emb)\n",
    "\n",
    "# 인코더의 LSTM 2\n",
    "encoder_lstm2 = LSTM(hidden_size, return_sequences=True, return_state=True, dropout=0.4, recurrent_dropout=0.4)\n",
    "encoder_output2, state_h2, state_c2 = encoder_lstm2(encoder_output1)\n",
    "\n",
    "# 인코더의 LSTM 3\n",
    "encoder_lstm3 = LSTM(hidden_size, return_state=True, return_sequences=True, dropout=0.4, recurrent_dropout=0.4)\n",
    "encoder_outputs, state_h, state_c= encoder_lstm3(encoder_output2)"
   ]
  },
  {
   "cell_type": "markdown",
   "id": "cbe5469a",
   "metadata": {},
   "source": [
    "### 디코더 설계"
   ]
  },
  {
   "cell_type": "code",
   "execution_count": 54,
   "id": "442c6c25",
   "metadata": {},
   "outputs": [
    {
     "name": "stdout",
     "output_type": "stream",
     "text": [
      "WARNING:tensorflow:Layer lstm_3 will not use cuDNN kernels since it doesn't meet the criteria. It will use a generic GPU kernel as fallback when running on GPU.\n",
      "Model: \"model\"\n",
      "__________________________________________________________________________________________________\n",
      "Layer (type)                    Output Shape         Param #     Connected to                     \n",
      "==================================================================================================\n",
      "input_1 (InputLayer)            [(None, 50)]         0                                            \n",
      "__________________________________________________________________________________________________\n",
      "embedding (Embedding)           (None, 50, 128)      1024000     input_1[0][0]                    \n",
      "__________________________________________________________________________________________________\n",
      "lstm (LSTM)                     [(None, 50, 256), (N 394240      embedding[0][0]                  \n",
      "__________________________________________________________________________________________________\n",
      "input_2 (InputLayer)            [(None, None)]       0                                            \n",
      "__________________________________________________________________________________________________\n",
      "lstm_1 (LSTM)                   [(None, 50, 256), (N 525312      lstm[0][0]                       \n",
      "__________________________________________________________________________________________________\n",
      "embedding_1 (Embedding)         (None, None, 128)    256000      input_2[0][0]                    \n",
      "__________________________________________________________________________________________________\n",
      "lstm_2 (LSTM)                   [(None, 50, 256), (N 525312      lstm_1[0][0]                     \n",
      "__________________________________________________________________________________________________\n",
      "lstm_3 (LSTM)                   [(None, None, 256),  394240      embedding_1[0][0]                \n",
      "                                                                 lstm_2[0][1]                     \n",
      "                                                                 lstm_2[0][2]                     \n",
      "__________________________________________________________________________________________________\n",
      "dense (Dense)                   (None, None, 2000)   514000      lstm_3[0][0]                     \n",
      "==================================================================================================\n",
      "Total params: 3,633,104\n",
      "Trainable params: 3,633,104\n",
      "Non-trainable params: 0\n",
      "__________________________________________________________________________________________________\n"
     ]
    }
   ],
   "source": [
    "# 디코더 설계\n",
    "decoder_inputs = Input(shape=(None,))\n",
    "\n",
    "# 디코더의 임베딩 층\n",
    "dec_emb_layer = Embedding(tar_vocab, embedding_dim)\n",
    "dec_emb = dec_emb_layer(decoder_inputs)\n",
    "\n",
    "# 디코더의 LSTM\n",
    "decoder_lstm = LSTM(hidden_size, return_sequences = True, return_state = True, dropout = 0.4, recurrent_dropout=0.2)\n",
    "decoder_outputs, _, _ = decoder_lstm(dec_emb, initial_state = [state_h, state_c])\n",
    "\n",
    "# 디코더의 출력층\n",
    "decoder_softmax_layer = Dense(tar_vocab, activation = 'softmax')\n",
    "decoder_softmax_outputs = decoder_softmax_layer(decoder_outputs) \n",
    "\n",
    "# 모델 정의\n",
    "model = Model([encoder_inputs, decoder_inputs], decoder_softmax_outputs)\n",
    "model.summary()"
   ]
  },
  {
   "cell_type": "code",
   "execution_count": 55,
   "id": "4415eef3",
   "metadata": {},
   "outputs": [
    {
     "ename": "SyntaxError",
     "evalue": "invalid syntax (3629999741.py, line 1)",
     "output_type": "error",
     "traceback": [
      "\u001b[0;36m  File \u001b[0;32m\"/tmp/ipykernel_66/3629999741.py\"\u001b[0;36m, line \u001b[0;32m1\u001b[0m\n\u001b[0;31m    Step 3. 어텐션 메커니즘 사용하기 (추상적 요약)\u001b[0m\n\u001b[0m         ^\u001b[0m\n\u001b[0;31mSyntaxError\u001b[0m\u001b[0;31m:\u001b[0m invalid syntax\n"
     ]
    }
   ],
   "source": [
    "Step 3. 어텐션 메커니즘 사용하기 (추상적 요약)\n",
    "일반적인 seq2seq보다는 어텐션 메커니즘을 사용한 seq2seq를 사용하는 것이 더 나은 성능을 얻을 수 있어요.\n",
    "실습 내용을 참고하여 어텐션 메커니즘을 사용한 seq2seq를 설계해 보세요."
   ]
  },
  {
   "cell_type": "markdown",
   "id": "d9e93626",
   "metadata": {},
   "source": [
    "## Attention"
   ]
  },
  {
   "cell_type": "code",
   "execution_count": 60,
   "id": "8e990023",
   "metadata": {},
   "outputs": [
    {
     "ename": "ModuleNotFoundError",
     "evalue": "No module named 'attention'",
     "output_type": "error",
     "traceback": [
      "\u001b[0;31m---------------------------------------------------------------------------\u001b[0m",
      "\u001b[0;31mModuleNotFoundError\u001b[0m                       Traceback (most recent call last)",
      "\u001b[0;32m/tmp/ipykernel_66/2850404982.py\u001b[0m in \u001b[0;36m<module>\u001b[0;34m\u001b[0m\n\u001b[1;32m      1\u001b[0m \u001b[0murllib\u001b[0m\u001b[0;34m.\u001b[0m\u001b[0mrequest\u001b[0m\u001b[0;34m.\u001b[0m\u001b[0murlretrieve\u001b[0m\u001b[0;34m(\u001b[0m\u001b[0;34m\"https://raw.githubusercontent.com/thushv89/attention_keras/master/src/layers/attention.py\"\u001b[0m\u001b[0;34m,\u001b[0m \u001b[0mfilename\u001b[0m\u001b[0;34m=\u001b[0m\u001b[0;34m\"attention.py\"\u001b[0m\u001b[0;34m)\u001b[0m\u001b[0;34m\u001b[0m\u001b[0;34m\u001b[0m\u001b[0m\n\u001b[0;32m----> 2\u001b[0;31m \u001b[0;32mfrom\u001b[0m \u001b[0mattention\u001b[0m \u001b[0;32mimport\u001b[0m \u001b[0mAttentionLayer\u001b[0m\u001b[0;34m\u001b[0m\u001b[0;34m\u001b[0m\u001b[0m\n\u001b[0m",
      "\u001b[0;31mModuleNotFoundError\u001b[0m: No module named 'attention'"
     ]
    }
   ],
   "source": [
    "#Attention 불러오기 실패\n",
    "urllib.request.urlretrieve(\"https://raw.githubusercontent.com/thushv89/attention_keras/master/src/layers/attention.py\", filename=\"attention.py\")\n",
    "from attention import AttentionLayer"
   ]
  },
  {
   "cell_type": "code",
   "execution_count": 61,
   "id": "ed098c5b",
   "metadata": {},
   "outputs": [
    {
     "ename": "ModuleNotFoundError",
     "evalue": "No module named 'attention'",
     "output_type": "error",
     "traceback": [
      "\u001b[0;31m---------------------------------------------------------------------------\u001b[0m",
      "\u001b[0;31mModuleNotFoundError\u001b[0m                       Traceback (most recent call last)",
      "\u001b[0;32m/tmp/ipykernel_66/431472310.py\u001b[0m in \u001b[0;36m<module>\u001b[0;34m\u001b[0m\n\u001b[1;32m     13\u001b[0m \u001b[0;34m\u001b[0m\u001b[0m\n\u001b[1;32m     14\u001b[0m \u001b[0;31m# attention 모듈에서 AttentionLayer 가져오기\u001b[0m\u001b[0;34m\u001b[0m\u001b[0;34m\u001b[0m\u001b[0m\n\u001b[0;32m---> 15\u001b[0;31m \u001b[0;32mfrom\u001b[0m \u001b[0mattention\u001b[0m \u001b[0;32mimport\u001b[0m \u001b[0mAttentionLayer\u001b[0m\u001b[0;34m\u001b[0m\u001b[0;34m\u001b[0m\u001b[0m\n\u001b[0m",
      "\u001b[0;31mModuleNotFoundError\u001b[0m: No module named 'attention'"
     ]
    }
   ],
   "source": [
    "#attention 불러오기 \n",
    "import urllib.request\n",
    "import os\n",
    "import sys\n",
    "\n",
    "# attention.py 다운로드\n",
    "urllib.request.urlretrieve(\n",
    "    \"https://raw.githubusercontent.com/thushv89/attention_keras/master/src/layers/attention.py\",\n",
    "    filename=\"attention.py\"\n",
    ")\n",
    "\n",
    "# 현재 디렉토리를 import 경로에 추가\n",
    "sys.path.append(os.getcwd())\n",
    "\n",
    "# attention 모듈에서 AttentionLayer 가져오기\n",
    "from attention import AttentionLayer"
   ]
  },
  {
   "cell_type": "code",
   "execution_count": 62,
   "id": "5d7ead5e",
   "metadata": {},
   "outputs": [
    {
     "ename": "NameError",
     "evalue": "name 'AttentionLayer' is not defined",
     "output_type": "error",
     "traceback": [
      "\u001b[0;31m---------------------------------------------------------------------------\u001b[0m",
      "\u001b[0;31mNameError\u001b[0m                                 Traceback (most recent call last)",
      "\u001b[0;32m/tmp/ipykernel_66/3406154423.py\u001b[0m in \u001b[0;36m<module>\u001b[0;34m\u001b[0m\n\u001b[0;32m----> 1\u001b[0;31m \u001b[0mprint\u001b[0m\u001b[0;34m(\u001b[0m\u001b[0mAttentionLayer\u001b[0m\u001b[0;34m)\u001b[0m\u001b[0;34m\u001b[0m\u001b[0;34m\u001b[0m\u001b[0m\n\u001b[0m",
      "\u001b[0;31mNameError\u001b[0m: name 'AttentionLayer' is not defined"
     ]
    }
   ],
   "source": [
    "#attention 확인\n",
    "print(AttentionLayer)"
   ]
  },
  {
   "cell_type": "code",
   "execution_count": 63,
   "id": "68f097df",
   "metadata": {},
   "outputs": [
    {
     "data": {
      "text/plain": [
       "['.ipynb_checkpoints',\n",
       " 'NewsChatBot.ipynb',\n",
       " 'README.md',\n",
       " 'attention.py',\n",
       " 'news_summary_more.csv']"
      ]
     },
     "execution_count": 63,
     "metadata": {},
     "output_type": "execute_result"
    }
   ],
   "source": [
    "#현재 디렉토리에 attention.py 부터 있는지 확인\n",
    "import os\n",
    "os.listdir()"
   ]
  },
  {
   "cell_type": "code",
   "execution_count": 64,
   "id": "de72c1dd",
   "metadata": {},
   "outputs": [
    {
     "ename": "ModuleNotFoundError",
     "evalue": "No module named 'attention'",
     "output_type": "error",
     "traceback": [
      "\u001b[0;31m---------------------------------------------------------------------------\u001b[0m",
      "\u001b[0;31mModuleNotFoundError\u001b[0m                       Traceback (most recent call last)",
      "\u001b[0;32m/tmp/ipykernel_66/3256646989.py\u001b[0m in \u001b[0;36m<module>\u001b[0;34m\u001b[0m\n\u001b[1;32m      7\u001b[0m \u001b[0;34m\u001b[0m\u001b[0m\n\u001b[1;32m      8\u001b[0m \u001b[0;31m# attention 모듈에서 AttentionLayer import\u001b[0m\u001b[0;34m\u001b[0m\u001b[0;34m\u001b[0m\u001b[0m\n\u001b[0;32m----> 9\u001b[0;31m \u001b[0;32mfrom\u001b[0m \u001b[0mattention\u001b[0m \u001b[0;32mimport\u001b[0m \u001b[0mAttentionLayer\u001b[0m\u001b[0;34m\u001b[0m\u001b[0;34m\u001b[0m\u001b[0m\n\u001b[0m",
      "\u001b[0;31mModuleNotFoundError\u001b[0m: No module named 'attention'"
     ]
    }
   ],
   "source": [
    "#디렉토리에서 확인 후, import 경로에 추가하고 모듈 import\n",
    "import sys\n",
    "import os\n",
    "\n",
    "# 현재 디렉토리 경로를 시스템 경로에 추가\n",
    "sys.path.append(os.getcwd())\n",
    "\n",
    "# attention 모듈에서 AttentionLayer import\n",
    "from attention import AttentionLayer"
   ]
  },
  {
   "cell_type": "markdown",
   "id": "11469392",
   "metadata": {},
   "source": [
    "# 위 상황에서 계속 attention layer를 불러오는데 있어서 파일이 있음에도 불구하고 에러가 발생하여 인터넷을 검색해보니, 쥬피터 노트북에서 모듈 캐시 문제나 파일이름이 충돌 했을 가능성이 있다고 해서 밑에 코딩과 같이 직접 불러서 모듈로 로딩해서 실행하였습니다. "
   ]
  },
  {
   "cell_type": "code",
   "execution_count": 65,
   "id": "26c83c52",
   "metadata": {},
   "outputs": [],
   "source": [
    "import importlib.util\n",
    "import sys\n",
    "\n",
    "# attention.py의 경로 지정\n",
    "attention_path = os.path.join(os.getcwd(), \"attention.py\")\n",
    "\n",
    "# 모듈 이름과 경로 설정\n",
    "spec = importlib.util.spec_from_file_location(\"attention\", attention_path)\n",
    "attention = importlib.util.module_from_spec(spec)\n",
    "sys.modules[\"attention\"] = attention\n",
    "spec.loader.exec_module(attention)\n",
    "\n",
    "# 이제 AttentionLayer 사용 가능!\n",
    "AttentionLayer = attention.AttentionLayer"
   ]
  },
  {
   "cell_type": "code",
   "execution_count": 66,
   "id": "26220a34",
   "metadata": {},
   "outputs": [
    {
     "name": "stdout",
     "output_type": "stream",
     "text": [
      "<class 'attention.AttentionLayer'>\n"
     ]
    }
   ],
   "source": [
    "print(AttentionLayer)"
   ]
  },
  {
   "cell_type": "code",
   "execution_count": 67,
   "id": "766e93e5",
   "metadata": {},
   "outputs": [
    {
     "name": "stdout",
     "output_type": "stream",
     "text": [
      "Model: \"model_1\"\n",
      "__________________________________________________________________________________________________\n",
      "Layer (type)                    Output Shape         Param #     Connected to                     \n",
      "==================================================================================================\n",
      "input_1 (InputLayer)            [(None, 50)]         0                                            \n",
      "__________________________________________________________________________________________________\n",
      "embedding (Embedding)           (None, 50, 128)      1024000     input_1[0][0]                    \n",
      "__________________________________________________________________________________________________\n",
      "lstm (LSTM)                     [(None, 50, 256), (N 394240      embedding[0][0]                  \n",
      "__________________________________________________________________________________________________\n",
      "input_2 (InputLayer)            [(None, None)]       0                                            \n",
      "__________________________________________________________________________________________________\n",
      "lstm_1 (LSTM)                   [(None, 50, 256), (N 525312      lstm[0][0]                       \n",
      "__________________________________________________________________________________________________\n",
      "embedding_1 (Embedding)         (None, None, 128)    256000      input_2[0][0]                    \n",
      "__________________________________________________________________________________________________\n",
      "lstm_2 (LSTM)                   [(None, 50, 256), (N 525312      lstm_1[0][0]                     \n",
      "__________________________________________________________________________________________________\n",
      "lstm_3 (LSTM)                   [(None, None, 256),  394240      embedding_1[0][0]                \n",
      "                                                                 lstm_2[0][1]                     \n",
      "                                                                 lstm_2[0][2]                     \n",
      "__________________________________________________________________________________________________\n",
      "attention_layer (AttentionLayer ((None, None, 256),  131328      lstm_2[0][0]                     \n",
      "                                                                 lstm_3[0][0]                     \n",
      "__________________________________________________________________________________________________\n",
      "concat_layer (Concatenate)      (None, None, 512)    0           lstm_3[0][0]                     \n",
      "                                                                 attention_layer[0][0]            \n",
      "__________________________________________________________________________________________________\n",
      "dense_1 (Dense)                 (None, None, 2000)   1026000     concat_layer[0][0]               \n",
      "==================================================================================================\n",
      "Total params: 4,276,432\n",
      "Trainable params: 4,276,432\n",
      "Non-trainable params: 0\n",
      "__________________________________________________________________________________________________\n"
     ]
    }
   ],
   "source": [
    "# 어텐션 층(어텐션 함수)\n",
    "attn_layer = AttentionLayer(name='attention_layer')\n",
    "# 인코더와 디코더의 모든 time step의 hidden state를 어텐션 층에 전달하고 결과를 리턴\n",
    "attn_out, attn_states = attn_layer([encoder_outputs, decoder_outputs])\n",
    "\n",
    "# 어텐션의 결과와 디코더의 hidden state들을 연결\n",
    "decoder_concat_input = Concatenate(axis = -1, name='concat_layer')([decoder_outputs, attn_out])\n",
    "\n",
    "# 디코더의 출력층\n",
    "decoder_softmax_layer = Dense(tar_vocab, activation='softmax')\n",
    "decoder_softmax_outputs = decoder_softmax_layer(decoder_concat_input)\n",
    "\n",
    "# 모델 정의\n",
    "model = Model([encoder_inputs, decoder_inputs], decoder_softmax_outputs)\n",
    "model.summary()"
   ]
  },
  {
   "cell_type": "code",
   "execution_count": 68,
   "id": "3c7b1033",
   "metadata": {},
   "outputs": [
    {
     "ename": "ValueError",
     "evalue": "Failed to find data adapter that can handle input: (<class 'list'> containing values of types {'(<class \\'list\\'> containing values of types {\\'(<class \\\\\\'list\\\\\\'> containing values of types {\"<class \\\\\\'int\\\\\\'>\"})\\'})', \"<class 'numpy.ndarray'>\"}), <class 'numpy.ndarray'>",
     "output_type": "error",
     "traceback": [
      "\u001b[0;31m---------------------------------------------------------------------------\u001b[0m",
      "\u001b[0;31mValueError\u001b[0m                                Traceback (most recent call last)",
      "\u001b[0;32m/tmp/ipykernel_66/776083462.py\u001b[0m in \u001b[0;36m<module>\u001b[0;34m\u001b[0m\n\u001b[1;32m      2\u001b[0m \u001b[0mmodel\u001b[0m\u001b[0;34m.\u001b[0m\u001b[0mcompile\u001b[0m\u001b[0;34m(\u001b[0m\u001b[0moptimizer\u001b[0m\u001b[0;34m=\u001b[0m\u001b[0;34m'rmsprop'\u001b[0m\u001b[0;34m,\u001b[0m \u001b[0mloss\u001b[0m\u001b[0;34m=\u001b[0m\u001b[0;34m'sparse_categorical_crossentropy'\u001b[0m\u001b[0;34m)\u001b[0m\u001b[0;34m\u001b[0m\u001b[0;34m\u001b[0m\u001b[0m\n\u001b[1;32m      3\u001b[0m \u001b[0mes\u001b[0m \u001b[0;34m=\u001b[0m \u001b[0mEarlyStopping\u001b[0m\u001b[0;34m(\u001b[0m\u001b[0mmonitor\u001b[0m\u001b[0;34m=\u001b[0m\u001b[0;34m'val_loss'\u001b[0m\u001b[0;34m,\u001b[0m \u001b[0mmode\u001b[0m\u001b[0;34m=\u001b[0m\u001b[0;34m'min'\u001b[0m\u001b[0;34m,\u001b[0m \u001b[0mverbose\u001b[0m\u001b[0;34m=\u001b[0m\u001b[0;36m1\u001b[0m\u001b[0;34m,\u001b[0m \u001b[0mpatience\u001b[0m \u001b[0;34m=\u001b[0m \u001b[0;36m2\u001b[0m\u001b[0;34m)\u001b[0m\u001b[0;34m\u001b[0m\u001b[0;34m\u001b[0m\u001b[0m\n\u001b[0;32m----> 4\u001b[0;31m history = model.fit(x = [encoder_input_train, decoder_input_train], y = decoder_target_train, \\\n\u001b[0m\u001b[1;32m      5\u001b[0m           \u001b[0mvalidation_data\u001b[0m \u001b[0;34m=\u001b[0m \u001b[0;34m(\u001b[0m\u001b[0;34m[\u001b[0m\u001b[0mencoder_input_test\u001b[0m\u001b[0;34m,\u001b[0m \u001b[0mdecoder_input_test\u001b[0m\u001b[0;34m]\u001b[0m\u001b[0;34m,\u001b[0m \u001b[0mdecoder_target_test\u001b[0m\u001b[0;34m)\u001b[0m\u001b[0;34m,\u001b[0m\u001b[0;34m\u001b[0m\u001b[0;34m\u001b[0m\u001b[0m\n\u001b[1;32m      6\u001b[0m           batch_size = 256, callbacks=[es], epochs = 50)\n",
      "\u001b[0;32m/opt/conda/lib/python3.9/site-packages/keras/engine/training.py\u001b[0m in \u001b[0;36mfit\u001b[0;34m(self, x, y, batch_size, epochs, verbose, callbacks, validation_split, validation_data, shuffle, class_weight, sample_weight, initial_epoch, steps_per_epoch, validation_steps, validation_batch_size, validation_freq, max_queue_size, workers, use_multiprocessing)\u001b[0m\n\u001b[1;32m   1132\u001b[0m          \u001b[0mtraining_utils\u001b[0m\u001b[0;34m.\u001b[0m\u001b[0mRespectCompiledTrainableState\u001b[0m\u001b[0;34m(\u001b[0m\u001b[0mself\u001b[0m\u001b[0;34m)\u001b[0m\u001b[0;34m:\u001b[0m\u001b[0;34m\u001b[0m\u001b[0;34m\u001b[0m\u001b[0m\n\u001b[1;32m   1133\u001b[0m       \u001b[0;31m# Creates a `tf.data.Dataset` and handles batch and epoch iteration.\u001b[0m\u001b[0;34m\u001b[0m\u001b[0;34m\u001b[0m\u001b[0m\n\u001b[0;32m-> 1134\u001b[0;31m       data_handler = data_adapter.get_data_handler(\n\u001b[0m\u001b[1;32m   1135\u001b[0m           \u001b[0mx\u001b[0m\u001b[0;34m=\u001b[0m\u001b[0mx\u001b[0m\u001b[0;34m,\u001b[0m\u001b[0;34m\u001b[0m\u001b[0;34m\u001b[0m\u001b[0m\n\u001b[1;32m   1136\u001b[0m           \u001b[0my\u001b[0m\u001b[0;34m=\u001b[0m\u001b[0my\u001b[0m\u001b[0;34m,\u001b[0m\u001b[0;34m\u001b[0m\u001b[0;34m\u001b[0m\u001b[0m\n",
      "\u001b[0;32m/opt/conda/lib/python3.9/site-packages/keras/engine/data_adapter.py\u001b[0m in \u001b[0;36mget_data_handler\u001b[0;34m(*args, **kwargs)\u001b[0m\n\u001b[1;32m   1381\u001b[0m   \u001b[0;32mif\u001b[0m \u001b[0mgetattr\u001b[0m\u001b[0;34m(\u001b[0m\u001b[0mkwargs\u001b[0m\u001b[0;34m[\u001b[0m\u001b[0;34m\"model\"\u001b[0m\u001b[0;34m]\u001b[0m\u001b[0;34m,\u001b[0m \u001b[0;34m\"_cluster_coordinator\"\u001b[0m\u001b[0;34m,\u001b[0m \u001b[0;32mNone\u001b[0m\u001b[0;34m)\u001b[0m\u001b[0;34m:\u001b[0m\u001b[0;34m\u001b[0m\u001b[0;34m\u001b[0m\u001b[0m\n\u001b[1;32m   1382\u001b[0m     \u001b[0;32mreturn\u001b[0m \u001b[0m_ClusterCoordinatorDataHandler\u001b[0m\u001b[0;34m(\u001b[0m\u001b[0;34m*\u001b[0m\u001b[0margs\u001b[0m\u001b[0;34m,\u001b[0m \u001b[0;34m**\u001b[0m\u001b[0mkwargs\u001b[0m\u001b[0;34m)\u001b[0m\u001b[0;34m\u001b[0m\u001b[0;34m\u001b[0m\u001b[0m\n\u001b[0;32m-> 1383\u001b[0;31m   \u001b[0;32mreturn\u001b[0m \u001b[0mDataHandler\u001b[0m\u001b[0;34m(\u001b[0m\u001b[0;34m*\u001b[0m\u001b[0margs\u001b[0m\u001b[0;34m,\u001b[0m \u001b[0;34m**\u001b[0m\u001b[0mkwargs\u001b[0m\u001b[0;34m)\u001b[0m\u001b[0;34m\u001b[0m\u001b[0;34m\u001b[0m\u001b[0m\n\u001b[0m\u001b[1;32m   1384\u001b[0m \u001b[0;34m\u001b[0m\u001b[0m\n\u001b[1;32m   1385\u001b[0m \u001b[0;34m\u001b[0m\u001b[0m\n",
      "\u001b[0;32m/opt/conda/lib/python3.9/site-packages/keras/engine/data_adapter.py\u001b[0m in \u001b[0;36m__init__\u001b[0;34m(self, x, y, sample_weight, batch_size, steps_per_epoch, initial_epoch, epochs, shuffle, class_weight, max_queue_size, workers, use_multiprocessing, model, steps_per_execution, distribute)\u001b[0m\n\u001b[1;32m   1135\u001b[0m       \u001b[0mself\u001b[0m\u001b[0;34m.\u001b[0m\u001b[0m_steps_per_execution_value\u001b[0m \u001b[0;34m=\u001b[0m \u001b[0msteps_per_execution\u001b[0m\u001b[0;34m.\u001b[0m\u001b[0mnumpy\u001b[0m\u001b[0;34m(\u001b[0m\u001b[0;34m)\u001b[0m\u001b[0;34m.\u001b[0m\u001b[0mitem\u001b[0m\u001b[0;34m(\u001b[0m\u001b[0;34m)\u001b[0m\u001b[0;34m\u001b[0m\u001b[0;34m\u001b[0m\u001b[0m\n\u001b[1;32m   1136\u001b[0m \u001b[0;34m\u001b[0m\u001b[0m\n\u001b[0;32m-> 1137\u001b[0;31m     \u001b[0madapter_cls\u001b[0m \u001b[0;34m=\u001b[0m \u001b[0mselect_data_adapter\u001b[0m\u001b[0;34m(\u001b[0m\u001b[0mx\u001b[0m\u001b[0;34m,\u001b[0m \u001b[0my\u001b[0m\u001b[0;34m)\u001b[0m\u001b[0;34m\u001b[0m\u001b[0;34m\u001b[0m\u001b[0m\n\u001b[0m\u001b[1;32m   1138\u001b[0m     self._adapter = adapter_cls(\n\u001b[1;32m   1139\u001b[0m         \u001b[0mx\u001b[0m\u001b[0;34m,\u001b[0m\u001b[0;34m\u001b[0m\u001b[0;34m\u001b[0m\u001b[0m\n",
      "\u001b[0;32m/opt/conda/lib/python3.9/site-packages/keras/engine/data_adapter.py\u001b[0m in \u001b[0;36mselect_data_adapter\u001b[0;34m(x, y)\u001b[0m\n\u001b[1;32m    974\u001b[0m   \u001b[0;32mif\u001b[0m \u001b[0;32mnot\u001b[0m \u001b[0madapter_cls\u001b[0m\u001b[0;34m:\u001b[0m\u001b[0;34m\u001b[0m\u001b[0;34m\u001b[0m\u001b[0m\n\u001b[1;32m    975\u001b[0m     \u001b[0;31m# TODO(scottzhu): This should be a less implementation-specific error.\u001b[0m\u001b[0;34m\u001b[0m\u001b[0;34m\u001b[0m\u001b[0m\n\u001b[0;32m--> 976\u001b[0;31m     raise ValueError(\n\u001b[0m\u001b[1;32m    977\u001b[0m         \u001b[0;34m\"Failed to find data adapter that can handle \"\u001b[0m\u001b[0;34m\u001b[0m\u001b[0;34m\u001b[0m\u001b[0m\n\u001b[1;32m    978\u001b[0m         \"input: {}, {}\".format(\n",
      "\u001b[0;31mValueError\u001b[0m: Failed to find data adapter that can handle input: (<class 'list'> containing values of types {'(<class \\'list\\'> containing values of types {\\'(<class \\\\\\'list\\\\\\'> containing values of types {\"<class \\\\\\'int\\\\\\'>\"})\\'})', \"<class 'numpy.ndarray'>\"}), <class 'numpy.ndarray'>"
     ]
    }
   ],
   "source": [
    "# Train \n",
    "model.compile(optimizer='rmsprop', loss='sparse_categorical_crossentropy')\n",
    "es = EarlyStopping(monitor='val_loss', mode='min', verbose=1, patience = 2)\n",
    "history = model.fit(x = [encoder_input_train, decoder_input_train], y = decoder_target_train, \\\n",
    "          validation_data = ([encoder_input_test, decoder_input_test], decoder_target_test),\n",
    "          batch_size = 256, callbacks=[es], epochs = 50)"
   ]
  },
  {
   "cell_type": "code",
   "execution_count": 69,
   "id": "9768252f",
   "metadata": {},
   "outputs": [],
   "source": [
    "#np.array로 입력값 변환 \n",
    "import numpy as np\n",
    "\n",
    "encoder_input_train = np.array(encoder_input_train)\n",
    "decoder_input_train = np.array(decoder_input_train)\n",
    "decoder_target_train = np.array(decoder_target_train)\n",
    "\n",
    "encoder_input_test = np.array(encoder_input_test)\n",
    "decoder_input_test = np.array(decoder_input_test)\n",
    "decoder_target_test = np.array(decoder_target_test)"
   ]
  },
  {
   "cell_type": "code",
   "execution_count": 70,
   "id": "c4d2478c",
   "metadata": {},
   "outputs": [
    {
     "name": "stdout",
     "output_type": "stream",
     "text": [
      "Epoch 1/50\n",
      "85/85 [==============================] - 89s 707ms/step - loss: 4.9318 - val_loss: 4.5043\n",
      "Epoch 2/50\n",
      "85/85 [==============================] - 59s 692ms/step - loss: 4.5047 - val_loss: 4.3201\n",
      "Epoch 3/50\n",
      "85/85 [==============================] - 59s 697ms/step - loss: 4.3275 - val_loss: 4.2003\n",
      "Epoch 4/50\n",
      "85/85 [==============================] - 59s 700ms/step - loss: 4.1824 - val_loss: 4.0601\n",
      "Epoch 5/50\n",
      "85/85 [==============================] - 59s 695ms/step - loss: 4.0309 - val_loss: 3.9460\n",
      "Epoch 6/50\n",
      "85/85 [==============================] - 60s 702ms/step - loss: 3.9054 - val_loss: 3.8677\n",
      "Epoch 7/50\n",
      "85/85 [==============================] - 60s 703ms/step - loss: 3.7792 - val_loss: 3.7553\n",
      "Epoch 8/50\n",
      "85/85 [==============================] - 60s 704ms/step - loss: 3.6484 - val_loss: 3.6628\n",
      "Epoch 9/50\n",
      "85/85 [==============================] - 60s 703ms/step - loss: 3.5251 - val_loss: 3.5943\n",
      "Epoch 10/50\n",
      "85/85 [==============================] - 59s 700ms/step - loss: 3.4202 - val_loss: 3.5349\n",
      "Epoch 11/50\n",
      "85/85 [==============================] - 60s 705ms/step - loss: 3.3205 - val_loss: 3.4812\n",
      "Epoch 12/50\n",
      "85/85 [==============================] - 60s 705ms/step - loss: 3.2324 - val_loss: 3.4448\n",
      "Epoch 13/50\n",
      "85/85 [==============================] - 60s 702ms/step - loss: 3.1534 - val_loss: 3.4249\n",
      "Epoch 14/50\n",
      "85/85 [==============================] - 59s 694ms/step - loss: 3.0763 - val_loss: 3.3903\n",
      "Epoch 15/50\n",
      "85/85 [==============================] - 59s 692ms/step - loss: 3.0092 - val_loss: 3.3822\n",
      "Epoch 16/50\n",
      "85/85 [==============================] - 59s 695ms/step - loss: 2.9394 - val_loss: 3.3568\n",
      "Epoch 17/50\n",
      "85/85 [==============================] - 59s 698ms/step - loss: 2.8743 - val_loss: 3.3528\n",
      "Epoch 18/50\n",
      "85/85 [==============================] - 59s 700ms/step - loss: 2.8142 - val_loss: 3.3458\n",
      "Epoch 19/50\n",
      "85/85 [==============================] - 60s 705ms/step - loss: 2.7571 - val_loss: 3.3421\n",
      "Epoch 20/50\n",
      "85/85 [==============================] - 60s 702ms/step - loss: 2.7002 - val_loss: 3.3230\n",
      "Epoch 21/50\n",
      "85/85 [==============================] - 59s 693ms/step - loss: 2.5410 - val_loss: 3.3171\n",
      "Epoch 24/50\n",
      "85/85 [==============================] - 59s 700ms/step - loss: 2.4918 - val_loss: 3.3109\n",
      "Epoch 25/50\n",
      "85/85 [==============================] - 60s 700ms/step - loss: 2.4418 - val_loss: 3.3190\n",
      "Epoch 26/50\n",
      "85/85 [==============================] - 60s 704ms/step - loss: 2.3933 - val_loss: 3.3236\n",
      "Epoch 00026: early stopping\n"
     ]
    }
   ],
   "source": [
    "#np.array로 값을 변환 후 학습을 다시 시도\n",
    "model.compile(optimizer='rmsprop', loss='sparse_categorical_crossentropy')\n",
    "es = EarlyStopping(monitor='val_loss', mode='min', verbose=1, patience = 2)\n",
    "\n",
    "history = model.fit(\n",
    "    x = [encoder_input_train, decoder_input_train],\n",
    "    y = decoder_target_train,\n",
    "    validation_data = ([encoder_input_test, decoder_input_test], decoder_target_test),\n",
    "    batch_size = 256,\n",
    "    callbacks=[es],\n",
    "    epochs = 50\n",
    ")"
   ]
  },
  {
   "cell_type": "markdown",
   "id": "69745bcd",
   "metadata": {},
   "source": [
    "# 위와 같이 오류가 발생한 이유는 함수에 전달한 입력값 즉 (x, y) 의 형식이나 구조가 맞지 않아서 발생 하였고, 이는 인코더 와 디코더 등의 학습 형식이 리스트로 되어 있는데 모델은 numpy 학습 방식과 형태를 원해서 발생한 오류 입니다. 따라서 형식을 numpy 를 적용해서 입력값의 형태 와 구조를 변환해주고 다시 학습을 진행시켰습니다."
   ]
  },
  {
   "cell_type": "code",
   "execution_count": 71,
   "id": "f41bad49",
   "metadata": {},
   "outputs": [
    {
     "data": {
      "image/png": "[encoded data removed]",
      "text/plain": [
       "<Figure size 432x288 with 1 Axes>"
      ]
     },
     "metadata": {
      "needs_background": "light"
     },
     "output_type": "display_data"
    }
   ],
   "source": [
    "#visualization\n",
    "plt.plot(history.history['loss'], label='train')\n",
    "plt.plot(history.history['val_loss'], label='test')\n",
    "plt.legend()\n",
    "plt.show()"
   ]
  },
  {
   "cell_type": "markdown",
   "id": "412f7530",
   "metadata": {},
   "source": [
    "## Inference Model"
   ]
  },
  {
   "cell_type": "code",
   "execution_count": 95,
   "id": "7b6d713d",
   "metadata": {},
   "outputs": [],
   "source": [
    "src_index_to_word = src_tokenizer.index_word # 원문 단어 집합에서 정수 -> 단어를 얻음\n",
    "tar_word_to_index = tar_tokenizer.word_index # 요약 단어 집합에서 단어 -> 정수를 얻음\n",
    "tar_index_to_word = tar_tokenizer.index_word # 요약 단어 집합에서 정수 -> 단어를 얻음"
   ]
  },
  {
   "cell_type": "code",
   "execution_count": 96,
   "id": "dfe61804",
   "metadata": {},
   "outputs": [],
   "source": [
    "# 인코더 설계\n",
    "encoder_model = Model(inputs=encoder_inputs, outputs=[encoder_outputs, state_h, state_c])\n",
    "\n",
    "# 이전 시점의 상태들을 저장하는 텐서\n",
    "decoder_state_input_h = Input(shape=(hidden_size,))\n",
    "decoder_state_input_c = Input(shape=(hidden_size,))\n",
    "\n",
    "dec_emb2 = dec_emb_layer(decoder_inputs)\n",
    "# 문장의 다음 단어를 예측하기 위해서 초기 상태(initial_state)를 이전 시점의 상태로 사용. 이는 뒤의 함수 decode_sequence()에 구현\n",
    "# 훈련 과정에서와 달리 LSTM의 리턴하는 은닉 상태와 셀 상태인 state_h와 state_c를 버리지 않음.\n",
    "decoder_outputs2, state_h2, state_c2 = decoder_lstm(dec_emb2, initial_state=[decoder_state_input_h, decoder_state_input_c])"
   ]
  },
  {
   "cell_type": "code",
   "execution_count": 98,
   "id": "35c968c3",
   "metadata": {},
   "outputs": [],
   "source": [
    "# 어텐션 함수\n",
    "decoder_hidden_state_input = Input(shape=(text_max_len, hidden_size))\n",
    "attn_out_inf, attn_states_inf = attn_layer([decoder_hidden_state_input, decoder_outputs2])\n",
    "decoder_inf_concat = Concatenate(axis=-1, name='concat')([decoder_outputs2, attn_out_inf])\n",
    "\n",
    "# 디코더의 출력층\n",
    "decoder_outputs2 = decoder_softmax_layer(decoder_inf_concat) \n",
    "\n",
    "# 최종 디코더 모델\n",
    "decoder_model = Model(\n",
    "    [decoder_inputs] + [decoder_hidden_state_input,decoder_state_input_h, decoder_state_input_c],\n",
    "    [decoder_outputs2] + [state_h2, state_c2])"
   ]
  },
  {
   "cell_type": "code",
   "execution_count": 99,
   "id": "21a31a66",
   "metadata": {},
   "outputs": [],
   "source": [
    "def decode_sequence(input_seq):\n",
    "    # 입력으로부터 인코더의 상태를 얻음\n",
    "    e_out, e_h, e_c = encoder_model.predict(input_seq)\n",
    "\n",
    "     # <SOS>에 해당하는 토큰 생성\n",
    "    target_seq = np.zeros((1,1))\n",
    "    target_seq[0, 0] = tar_word_to_index['sostoken']\n",
    "\n",
    "    stop_condition = False\n",
    "    decoded_sentence = ''\n",
    "    while not stop_condition: # stop_condition이 True가 될 때까지 루프 반복\n",
    "\n",
    "        output_tokens, h, c = decoder_model.predict([target_seq] + [e_out, e_h, e_c])\n",
    "        sampled_token_index = np.argmax(output_tokens[0, -1, :])\n",
    "        sampled_token = tar_index_to_word[sampled_token_index]\n",
    "\n",
    "        if(sampled_token!='eostoken'):\n",
    "            decoded_sentence += ' '+sampled_token\n",
    "\n",
    "        #  <eos>에 도달하거나 최대 길이를 넘으면 중단.\n",
    "        if (sampled_token == 'eostoken'  or len(decoded_sentence.split()) >= (headlines_max_len-1)):\n",
    "            stop_condition = True\n",
    "\n",
    "        # 길이가 1인 타겟 시퀀스를 업데이트\n",
    "        target_seq = np.zeros((1,1))\n",
    "        target_seq[0, 0] = sampled_token_index\n",
    "\n",
    "        # 상태를 업데이트 합니다.\n",
    "        e_h, e_c = h, c\n",
    "\n",
    "    return decoded_sentence"
   ]
  },
  {
   "cell_type": "code",
   "execution_count": 112,
   "id": "0c5b1696",
   "metadata": {},
   "outputs": [],
   "source": [
    "#Test\n",
    "# 원문의 정수 시퀀스를 텍스트 시퀀스로 변환\n",
    "def seq2text(input_seq):\n",
    "    temp=''\n",
    "    for i in input_seq:\n",
    "        if(i!=0):\n",
    "            temp = temp + src_index_to_word[i]+' '\n",
    "    return temp\n",
    "\n",
    "# 요약문의 정수 시퀀스를 텍스트 시퀀스로 변환\n",
    "def seq2summary(input_seq):\n",
    "    temp=''\n",
    "    for i in input_seq:\n",
    "        if((i!=0 and i!=tar_word_to_index['sostoken']) and i!=tar_word_to_index['eostoken']):\n",
    "            temp = temp + tar_index_to_word[i] + ' '\n",
    "    return temp"
   ]
  },
  {
   "cell_type": "code",
   "execution_count": 102,
   "id": "bf47c3d7",
   "metadata": {},
   "outputs": [
    {
     "ename": "KeyError",
     "evalue": "90",
     "output_type": "error",
     "traceback": [
      "\u001b[0;31m---------------------------------------------------------------------------\u001b[0m",
      "\u001b[0;31mKeyError\u001b[0m                                  Traceback (most recent call last)",
      "\u001b[0;32m/tmp/ipykernel_66/965861752.py\u001b[0m in \u001b[0;36m<module>\u001b[0;34m\u001b[0m\n\u001b[1;32m      1\u001b[0m \u001b[0;32mfor\u001b[0m \u001b[0mi\u001b[0m \u001b[0;32min\u001b[0m \u001b[0mrange\u001b[0m\u001b[0;34m(\u001b[0m\u001b[0;36m50\u001b[0m\u001b[0;34m,\u001b[0m \u001b[0;36m100\u001b[0m\u001b[0;34m)\u001b[0m\u001b[0;34m:\u001b[0m\u001b[0;34m\u001b[0m\u001b[0;34m\u001b[0m\u001b[0m\n\u001b[0;32m----> 2\u001b[0;31m     \u001b[0mprint\u001b[0m\u001b[0;34m(\u001b[0m\u001b[0;34m\"원문 :\"\u001b[0m\u001b[0;34m,\u001b[0m \u001b[0mseq2text\u001b[0m\u001b[0;34m(\u001b[0m\u001b[0mencoder_input_test\u001b[0m\u001b[0;34m[\u001b[0m\u001b[0mi\u001b[0m\u001b[0;34m]\u001b[0m\u001b[0;34m)\u001b[0m\u001b[0;34m)\u001b[0m\u001b[0;34m\u001b[0m\u001b[0;34m\u001b[0m\u001b[0m\n\u001b[0m\u001b[1;32m      3\u001b[0m     \u001b[0mprint\u001b[0m\u001b[0;34m(\u001b[0m\u001b[0;34m\"실제 요약 :\"\u001b[0m\u001b[0;34m,\u001b[0m \u001b[0mseq2summary\u001b[0m\u001b[0;34m(\u001b[0m\u001b[0mdecoder_input_test\u001b[0m\u001b[0;34m[\u001b[0m\u001b[0mi\u001b[0m\u001b[0;34m]\u001b[0m\u001b[0;34m)\u001b[0m\u001b[0;34m)\u001b[0m\u001b[0;34m\u001b[0m\u001b[0;34m\u001b[0m\u001b[0m\n\u001b[1;32m      4\u001b[0m     \u001b[0mprint\u001b[0m\u001b[0;34m(\u001b[0m\u001b[0;34m\"예측 요약 :\"\u001b[0m\u001b[0;34m,\u001b[0m \u001b[0mdecode_sequence\u001b[0m\u001b[0;34m(\u001b[0m\u001b[0mencoder_input_test\u001b[0m\u001b[0;34m[\u001b[0m\u001b[0mi\u001b[0m\u001b[0;34m]\u001b[0m\u001b[0;34m.\u001b[0m\u001b[0mreshape\u001b[0m\u001b[0;34m(\u001b[0m\u001b[0;36m1\u001b[0m\u001b[0;34m,\u001b[0m \u001b[0mtext_max_len\u001b[0m\u001b[0;34m)\u001b[0m\u001b[0;34m)\u001b[0m\u001b[0;34m)\u001b[0m\u001b[0;34m\u001b[0m\u001b[0;34m\u001b[0m\u001b[0m\n\u001b[1;32m      5\u001b[0m     \u001b[0mprint\u001b[0m\u001b[0;34m(\u001b[0m\u001b[0;34m\"\\n\"\u001b[0m\u001b[0;34m)\u001b[0m\u001b[0;34m\u001b[0m\u001b[0;34m\u001b[0m\u001b[0m\n",
      "\u001b[0;32m/tmp/ipykernel_66/1626766349.py\u001b[0m in \u001b[0;36mseq2text\u001b[0;34m(input_seq)\u001b[0m\n\u001b[1;32m      5\u001b[0m     \u001b[0;32mfor\u001b[0m \u001b[0mi\u001b[0m \u001b[0;32min\u001b[0m \u001b[0minput_seq\u001b[0m\u001b[0;34m:\u001b[0m\u001b[0;34m\u001b[0m\u001b[0;34m\u001b[0m\u001b[0m\n\u001b[1;32m      6\u001b[0m         \u001b[0;32mif\u001b[0m\u001b[0;34m(\u001b[0m\u001b[0mi\u001b[0m\u001b[0;34m!=\u001b[0m\u001b[0;36m0\u001b[0m\u001b[0;34m)\u001b[0m\u001b[0;34m:\u001b[0m\u001b[0;34m\u001b[0m\u001b[0;34m\u001b[0m\u001b[0m\n\u001b[0;32m----> 7\u001b[0;31m             \u001b[0mtemp\u001b[0m \u001b[0;34m=\u001b[0m \u001b[0mtemp\u001b[0m \u001b[0;34m+\u001b[0m \u001b[0msrc_index_to_word\u001b[0m\u001b[0;34m[\u001b[0m\u001b[0mi\u001b[0m\u001b[0;34m]\u001b[0m\u001b[0;34m+\u001b[0m\u001b[0;34m' '\u001b[0m\u001b[0;34m\u001b[0m\u001b[0;34m\u001b[0m\u001b[0m\n\u001b[0m\u001b[1;32m      8\u001b[0m     \u001b[0;32mreturn\u001b[0m \u001b[0mtemp\u001b[0m\u001b[0;34m\u001b[0m\u001b[0;34m\u001b[0m\u001b[0m\n\u001b[1;32m      9\u001b[0m \u001b[0;34m\u001b[0m\u001b[0m\n",
      "\u001b[0;31mKeyError\u001b[0m: 90"
     ]
    }
   ],
   "source": [
    "for i in range(50, 100):\n",
    "    print(\"원문 :\", seq2text(encoder_input_test[i]))\n",
    "    print(\"실제 요약 :\", seq2summary(decoder_input_test[i]))\n",
    "    print(\"예측 요약 :\", decode_sequence(encoder_input_test[i].reshape(1, text_max_len)))\n",
    "    print(\"\\n\")"
   ]
  },
  {
   "cell_type": "code",
   "execution_count": 117,
   "id": "1071f03d",
   "metadata": {},
   "outputs": [],
   "source": [
    "def seq2text(input_seq):\n",
    "    temp = ''\n",
    "    for i in input_seq:\n",
    "        if i != 0:\n",
    "            word = src_index_to_word.get(i, '')  # 없는 인덱스는 무시하거나 UNK로 대체 가능\n",
    "            temp += word + ' '\n",
    "    return temp.strip()\n",
    "\n",
    "def seq2summary(input_seq):\n",
    "    temp = ''\n",
    "    for i in input_seq:\n",
    "        if (i != 0 and i != tar_word_to_index['sostoken'] and i != tar_word_to_index['eostoken']):\n",
    "            word = tar_index_to_word.get(i, '')  # 없는 인덱스는 무시하거나 UNK로 대체 가능\n",
    "            temp += word + ' '\n",
    "    return temp.strip()\n",
    "\n",
    "def debug_seq2text(input_seq):\n",
    "    for i in input_seq:\n",
    "        if i not in src_index_to_word:\n",
    "            print(f\"❌ 인덱스 {i} 는 src_index_to_word에 없습니다.\")\n",
    "            \n",
    "# 예시: 토크나이저 선언 시 UNK 제거\n",
    "tokenizer = Tokenizer(num_words=None, oov_token=None)"
   ]
  },
  {
   "cell_type": "code",
   "execution_count": 118,
   "id": "737fac48",
   "metadata": {},
   "outputs": [
    {
     "name": "stdout",
     "output_type": "stream",
     "text": [
      "원문 : \n",
      "실제 요약 : killed in attack on govt security\n",
      "예측 요약 :  killed injured in attack in afghanistan\n",
      "\n",
      "\n",
      "원문 : \n",
      "실제 요약 : new and notes have single govt\n",
      "예측 요약 :  government to launch for\n",
      "\n",
      "\n",
      "원문 : \n",
      "실제 요약 : google parent alphabet invests in scooter startup\n",
      "예측 요약 :  google backed startup raises million\n",
      "\n",
      "\n",
      "원문 : \n",
      "실제 요약 : korea nuclear tests\n",
      "예측 요약 :  korea tests test for korea\n",
      "\n",
      "\n",
      "원문 : \n",
      "실제 요약 : not under of rahul\n",
      "예측 요약 :  appointed as\n",
      "\n",
      "\n",
      "원문 : \n",
      "실제 요약 : teaser poster of unveiled\n",
      "예측 요약 :  new poster of anushka sharma released\n",
      "\n",
      "\n",
      "원문 : \n",
      "실제 요약 : flipkart to enter financial services business\n",
      "예측 요약 :  flipkart acquires india payments for million\n",
      "\n",
      "\n",
      "원문 : \n",
      "실제 요약 : india pakistan at dubai\n",
      "예측 요약 :  india india end series from bangladesh\n",
      "\n",
      "\n",
      "원문 : \n",
      "실제 요약 : india million to develop myanmar state\n",
      "예측 요약 :  india seeks military to military\n",
      "\n",
      "\n",
      "원문 : \n",
      "실제 요약 : family gets cr compensation for daughter missing body\n",
      "예측 요약 :  us man wins crore for crore\n",
      "\n",
      "\n",
      "원문 : \n",
      "실제 요약 : facebook takes down post showing victims\n",
      "예측 요약 :  facebook to be on facebook\n",
      "\n",
      "\n",
      "원문 : \n",
      "실제 요약 : karan johar reveals his twitter for\n",
      "예측 요약 :  have been on\n",
      "\n",
      "\n",
      "원문 : \n",
      "실제 요약 : korea to myanmar un\n",
      "예측 요약 :  korea missile korea to korea\n",
      "\n",
      "\n",
      "원문 : \n",
      "실제 요약 : astronomers discover around star\n",
      "예측 요약 :  scientists discover ice\n",
      "\n",
      "\n",
      "원문 : \n",
      "실제 요약 : held in andhra for despite ban\n",
      "예측 요약 :  arrested for in tamil nadu\n",
      "\n",
      "\n",
      "원문 : \n",
      "실제 요약 : printed on device turns smartphone into\n",
      "예측 요약 :  device to monitor\n",
      "\n",
      "\n",
      "원문 : \n",
      "실제 요약 : trump threatens us government over border\n",
      "예측 요약 :  trump signs order for\n",
      "\n",
      "\n",
      "원문 : \n",
      "실제 요약 : korea test site after nuclear study\n",
      "예측 요약 :  korea missile test fires missile\n",
      "\n",
      "\n",
      "원문 : \n",
      "실제 요약 : to army on deaths\n",
      "예측 요약 :  afghan army killed in encounter\n",
      "\n",
      "\n",
      "원문 : \n",
      "실제 요약 : srinagar lok sabha only\n",
      "예측 요약 :  congress has not for gujarat polls\n",
      "\n",
      "\n",
      "원문 : \n",
      "실제 요약 : former afghan enters presidential race\n",
      "예측 요약 :  terror attack to\n",
      "\n",
      "\n",
      "원문 : \n",
      "실제 요약 : app fires of its staff\n",
      "예측 요약 :  users users to make users\n",
      "\n",
      "\n",
      "원문 : \n",
      "실제 요약 : india has chief\n",
      "예측 요약 :  india has the of\n",
      "\n",
      "\n",
      "원문 : \n",
      "실제 요약 : researchers create self for robot\n",
      "예측 요약 :  scientists develop that can\n",
      "\n",
      "\n",
      "원문 : \n",
      "실제 요약 : andhra pradesh declares war against road\n",
      "예측 요약 :  maha govt to get forest\n",
      "\n",
      "\n",
      "원문 : \n",
      "실제 요약 : crpf allows militants to\n",
      "예측 요약 :  muslims abducted in kashmir\n",
      "\n",
      "\n",
      "원문 : \n",
      "실제 요약 : qatar safety of indian citizens amid crisis\n",
      "예측 요약 :  qatar to withdraw against india\n",
      "\n",
      "\n",
      "원문 : \n",
      "실제 요약 : back indian origin man aircraft startup\n",
      "예측 요약 :  unveils concept car concept\n",
      "\n",
      "\n",
      "원문 : \n",
      "실제 요약 : uttar pradesh government to get over doctors\n",
      "예측 요약 :  delhi government to make\n",
      "\n",
      "\n",
      "원문 : \n",
      "실제 요약 : what are and what causes\n",
      "예측 요약 :  china unveils world first printed\n",
      "\n",
      "\n",
      "원문 : \n",
      "실제 요약 : facebook ceo zuckerberg denies million\n",
      "예측 요약 :  facebook co founder startup loses million\n",
      "\n",
      "\n",
      "원문 : \n",
      "실제 요약 : who are the richest women in the world\n",
      "예측 요약 :  world most expensive world most billionaires\n",
      "\n",
      "\n",
      "원문 : \n",
      "실제 요약 : employee claim government reliance jio\n",
      "예측 요약 :  complaint against jio ceo\n",
      "\n",
      "\n",
      "원문 : \n",
      "실제 요약 : flipkart acquires platform\n",
      "예측 요약 :  paytm acquires stake in india\n",
      "\n",
      "\n",
      "원문 : \n",
      "실제 요약 : pm modi launches first india school games\n",
      "예측 요약 :  pm modi inaugurates for days\n",
      "\n",
      "\n",
      "원문 : \n",
      "실제 요약 : us un resolution trump jerusalem decision\n",
      "예측 요약 :  us to ban on jerusalem jerusalem\n",
      "\n",
      "\n",
      "원문 : \n",
      "실제 요약 : should not be in prez\n",
      "예측 요약 :  president kovind kovind\n",
      "\n",
      "\n",
      "원문 : \n",
      "실제 요약 : senior congress leader quits party\n",
      "예측 요약 :  congress is its first president\n",
      "\n",
      "\n",
      "원문 : \n",
      "실제 요약 : philippines prez calls obama trump\n",
      "예측 요약 :  un rejects un for\n",
      "\n",
      "\n",
      "원문 : \n",
      "실제 요약 : elon musk led tesla market\n",
      "예측 요약 :  apple posts billion in apple\n",
      "\n",
      "\n",
      "원문 : \n",
      "실제 요약 : trailer of sidharth jacqueline released\n",
      "예측 요약 :  new trailer of starrer released\n",
      "\n",
      "\n",
      "원문 : \n",
      "실제 요약 : death toll in floods rises to\n",
      "예측 요약 :  death toll from floods rises to\n",
      "\n",
      "\n",
      "원문 : \n",
      "실제 요약 : sasikala day to meet husband ends\n",
      "예측 요약 :  hardik patel patel for\n",
      "\n",
      "\n",
      "원문 : \n",
      "실제 요약 : malayalam actor politician mukesh accused of sexual harassment\n",
      "예측 요약 :  twitter account hacked to harassment\n",
      "\n",
      "\n",
      "원문 : \n",
      "실제 요약 : india china to global growth\n",
      "예측 요약 :  india india biggest in\n",
      "\n",
      "\n",
      "원문 : \n",
      "실제 요약 : kerala government conduct on sabarimala pm modi\n",
      "예측 요약 :  kerala government to be\n",
      "\n",
      "\n",
      "원문 : \n",
      "실제 요약 : kangana ex on hrithik\n",
      "예측 요약 :  hrithik ranaut to hrithik on\n",
      "\n",
      "\n",
      "원문 : \n",
      "실제 요약 : android startup accused of\n",
      "예측 요약 :  sues co founder startup for\n",
      "\n",
      "\n",
      "원문 : \n",
      "실제 요약 : india to reduce\n",
      "예측 요약 :  india to launch in india\n",
      "\n",
      "\n",
      "원문 : \n",
      "실제 요약 : yoga club in japanese parliament\n",
      "예측 요약 :  india to celebrate\n",
      "\n",
      "\n"
     ]
    }
   ],
   "source": [
    "for i in range(50, 100):\n",
    "    print(\"원문 :\", seq2text(encoder_input_test[i]))\n",
    "    print(\"실제 요약 :\", seq2summary(decoder_input_test[i]))\n",
    "    print(\"예측 요약 :\", decode_sequence(encoder_input_test[i].reshape(1, text_max_len)))\n",
    "    print(\"\\n\")"
   ]
  },
  {
   "cell_type": "code",
   "execution_count": 119,
   "id": "0bc5bcd8",
   "metadata": {},
   "outputs": [],
   "source": [
    "def seq2text(input_seq):\n",
    "    temp = ''\n",
    "    for i in input_seq:\n",
    "        if i != 0:\n",
    "            word = src_index_to_word.get(i, '??')  # 존재하지 않는 인덱스는 '??'로 대체\n",
    "            temp += word + ' '\n",
    "    return temp.strip()\n",
    "\n",
    "def check_missing_indices(input_seq):\n",
    "    for i in input_seq:\n",
    "        if i not in src_index_to_word:\n",
    "            print(f\"❌ {i}가 src_index_to_word에 없음\")\n"
   ]
  },
  {
   "cell_type": "code",
   "execution_count": 120,
   "id": "aed0f1ff",
   "metadata": {},
   "outputs": [
    {
     "name": "stdout",
     "output_type": "stream",
     "text": [
      "\n",
      "[50]\n",
      "원문 : ?? ?? ?? ?? ?? ?? ?? ?? ?? ?? ?? ?? ?? ?? ?? ?? ?? ?? ?? ?? ?? ?? ?? ?? ?? ?? ?? ?? ?? ?? ??\n",
      "실제 요약 : killed in attack on govt security\n",
      "예측 요약 :  killed injured in attack in afghanistan\n",
      "\n",
      "[51]\n",
      "원문 : ?? ?? ?? ?? ?? ?? ?? ?? ?? ?? ?? ?? ?? ?? ?? ?? ?? ?? ?? ?? ?? ?? ?? ?? ?? ?? ?? ??\n",
      "실제 요약 : new and notes have single govt\n",
      "예측 요약 :  government to launch for\n",
      "\n",
      "[52]\n",
      "원문 : ?? ?? ?? ?? ?? ?? ?? ?? ?? ?? ?? ?? ?? ?? ?? ?? ?? ?? ?? ?? ?? ?? ?? ?? ?? ?? ?? ?? ?? ?? ?? ?? ?? ??\n",
      "실제 요약 : google parent alphabet invests in scooter startup\n",
      "예측 요약 :  google backed startup raises million\n",
      "\n",
      "[53]\n",
      "원문 : ?? ?? ?? ?? ?? ?? ?? ?? ?? ?? ?? ?? ?? ?? ?? ?? ?? ?? ?? ?? ?? ?? ?? ?? ?? ?? ?? ?? ?? ?? ?? ?? ?? ?? ?? ?? ?? ??\n",
      "실제 요약 : korea nuclear tests\n",
      "예측 요약 :  korea tests test for korea\n",
      "\n",
      "[54]\n",
      "원문 : ?? ?? ?? ?? ?? ?? ?? ?? ?? ?? ?? ?? ?? ?? ?? ?? ?? ?? ?? ?? ?? ?? ?? ?? ?? ??\n",
      "실제 요약 : not under of rahul\n",
      "예측 요약 :  appointed as\n",
      "\n",
      "[55]\n",
      "원문 : ?? ?? ?? ?? ?? ?? ?? ?? ?? ?? ?? ?? ?? ?? ?? ?? ?? ?? ?? ?? ?? ?? ?? ?? ?? ??\n",
      "실제 요약 : teaser poster of unveiled\n",
      "예측 요약 :  new poster of anushka sharma released\n",
      "\n",
      "[56]\n",
      "원문 : ?? ?? ?? ?? ?? ?? ?? ?? ?? ?? ?? ?? ?? ?? ?? ?? ?? ?? ?? ?? ?? ?? ?? ?? ?? ?? ?? ?? ?? ?? ?? ??\n",
      "실제 요약 : flipkart to enter financial services business\n",
      "예측 요약 :  flipkart acquires india payments for million\n",
      "\n",
      "[57]\n",
      "원문 : ?? ?? ?? ?? ?? ?? ?? ?? ?? ?? ?? ?? ?? ?? ?? ?? ?? ?? ?? ?? ?? ?? ?? ?? ?? ?? ?? ?? ?? ??\n",
      "실제 요약 : india pakistan at dubai\n",
      "예측 요약 :  india india end series from bangladesh\n",
      "\n",
      "[58]\n",
      "원문 : ?? ?? ?? ?? ?? ?? ?? ?? ?? ?? ?? ?? ?? ?? ?? ?? ?? ?? ?? ?? ?? ?? ?? ?? ?? ?? ?? ?? ?? ?? ?? ??\n",
      "실제 요약 : india million to develop myanmar state\n",
      "예측 요약 :  india seeks military to military\n",
      "\n",
      "[59]\n",
      "원문 : ?? ?? ?? ?? ?? ?? ?? ?? ?? ?? ?? ?? ?? ?? ?? ?? ?? ?? ?? ?? ?? ?? ?? ?? ??\n",
      "실제 요약 : family gets cr compensation for daughter missing body\n",
      "예측 요약 :  us man wins crore for crore\n",
      "\n",
      "[60]\n",
      "원문 : ?? ?? ?? ?? ?? ?? ?? ?? ?? ?? ?? ?? ?? ?? ?? ?? ?? ?? ?? ?? ?? ?? ?? ?? ?? ?? ?? ?? ?? ?? ?? ?? ?? ?? ?? ??\n",
      "실제 요약 : facebook takes down post showing victims\n",
      "예측 요약 :  facebook to be on facebook\n",
      "\n",
      "[61]\n",
      "원문 : ?? ?? ?? ?? ?? ?? ?? ?? ?? ?? ?? ?? ?? ?? ?? ?? ?? ?? ?? ?? ??\n",
      "실제 요약 : karan johar reveals his twitter for\n",
      "예측 요약 :  have been on\n",
      "\n",
      "[62]\n",
      "원문 : ?? ?? ?? ?? ?? ?? ?? ?? ?? ?? ?? ?? ?? ?? ?? ?? ?? ?? ?? ?? ?? ?? ?? ?? ?? ?? ?? ?? ?? ?? ?? ?? ?? ?? ?? ?? ??\n",
      "실제 요약 : korea to myanmar un\n",
      "예측 요약 :  korea missile korea to korea\n",
      "\n",
      "[63]\n",
      "원문 : ?? ?? ?? ?? ?? ?? ?? ?? ?? ?? ?? ?? ?? ?? ?? ?? ?? ?? ?? ?? ?? ?? ?? ?? ?? ?? ?? ?? ?? ?? ??\n",
      "실제 요약 : astronomers discover around star\n",
      "예측 요약 :  scientists discover ice\n",
      "\n",
      "[64]\n",
      "원문 : ?? ?? ?? ?? ?? ?? ?? ?? ?? ?? ?? ?? ?? ?? ?? ?? ?? ?? ?? ?? ?? ?? ?? ?? ?? ?? ?? ?? ??\n",
      "실제 요약 : held in andhra for despite ban\n",
      "예측 요약 :  arrested for in tamil nadu\n",
      "\n",
      "[65]\n",
      "원문 : ?? ?? ?? ?? ?? ?? ?? ?? ?? ?? ?? ?? ?? ?? ?? ?? ?? ?? ?? ?? ?? ?? ?? ?? ?? ?? ?? ??\n",
      "실제 요약 : printed on device turns smartphone into\n",
      "예측 요약 :  device to monitor\n",
      "\n",
      "[66]\n",
      "원문 : ?? ?? ?? ?? ?? ?? ?? ?? ?? ?? ?? ?? ?? ?? ?? ?? ?? ?? ?? ?? ?? ?? ?? ?? ?? ?? ?? ?? ?? ??\n",
      "실제 요약 : trump threatens us government over border\n",
      "예측 요약 :  trump signs order for\n",
      "\n",
      "[67]\n",
      "원문 : ?? ?? ?? ?? ?? ?? ?? ?? ?? ?? ?? ?? ?? ?? ?? ?? ?? ?? ?? ?? ?? ?? ?? ?? ?? ?? ?? ?? ?? ?? ?? ?? ?? ?? ??\n",
      "실제 요약 : korea test site after nuclear study\n",
      "예측 요약 :  korea missile test fires missile\n",
      "\n",
      "[68]\n",
      "원문 : ?? ?? ?? ?? ?? ?? ?? ?? ?? ?? ?? ?? ?? ?? ?? ?? ?? ?? ?? ?? ?? ?? ?? ??\n",
      "실제 요약 : to army on deaths\n",
      "예측 요약 :  afghan army killed in encounter\n",
      "\n",
      "[69]\n",
      "원문 : ?? ?? ?? ?? ?? ?? ?? ?? ?? ?? ?? ?? ?? ?? ?? ?? ?? ?? ?? ?? ?? ?? ?? ?? ?? ?? ?? ?? ?? ?? ?? ?? ??\n",
      "실제 요약 : srinagar lok sabha only\n",
      "예측 요약 :  congress has not for gujarat polls\n",
      "\n",
      "[70]\n",
      "원문 : ?? ?? ?? ?? ?? ?? ?? ?? ?? ?? ?? ?? ?? ?? ?? ?? ?? ?? ?? ?? ?? ?? ?? ?? ?? ?? ?? ??\n",
      "실제 요약 : former afghan enters presidential race\n",
      "예측 요약 :  terror attack to\n",
      "\n",
      "[71]\n",
      "원문 : ?? ?? ?? ?? ?? ?? ?? ?? ?? ?? ?? ?? ?? ?? ?? ?? ?? ?? ?? ?? ?? ?? ?? ?? ?? ?? ?? ??\n",
      "실제 요약 : app fires of its staff\n",
      "예측 요약 :  users users to make users\n",
      "\n",
      "[72]\n",
      "원문 : ?? ?? ?? ?? ?? ?? ?? ?? ?? ?? ?? ?? ?? ?? ?? ?? ?? ?? ?? ?? ?? ?? ?? ?? ?? ?? ?? ??\n",
      "실제 요약 : india has chief\n",
      "예측 요약 :  india has the of\n",
      "\n",
      "[73]\n",
      "원문 : ?? ?? ?? ?? ?? ?? ?? ?? ?? ?? ?? ?? ?? ?? ?? ?? ?? ?? ?? ?? ?? ?? ?? ?? ??\n",
      "실제 요약 : researchers create self for robot\n",
      "예측 요약 :  scientists develop that can\n",
      "\n",
      "[74]\n",
      "원문 : ?? ?? ?? ?? ?? ?? ?? ?? ?? ?? ?? ?? ?? ?? ?? ?? ?? ?? ?? ?? ?? ?? ?? ?? ?? ?? ?? ?? ?? ??\n",
      "실제 요약 : andhra pradesh declares war against road\n",
      "예측 요약 :  maha govt to get forest\n",
      "\n",
      "[75]\n",
      "원문 : ?? ?? ?? ?? ?? ?? ?? ?? ?? ?? ?? ?? ?? ?? ?? ?? ?? ?? ?? ?? ?? ?? ?? ?? ?? ?? ?? ?? ?? ?? ?? ??\n",
      "실제 요약 : crpf allows militants to\n",
      "예측 요약 :  muslims abducted in kashmir\n",
      "\n",
      "[76]\n",
      "원문 : ?? ?? ?? ?? ?? ?? ?? ?? ?? ?? ?? ?? ?? ?? ?? ?? ?? ?? ?? ?? ?? ?? ?? ?? ?? ?? ?? ?? ?? ?? ?? ?? ?? ?? ?? ?? ??\n",
      "실제 요약 : qatar safety of indian citizens amid crisis\n",
      "예측 요약 :  qatar to withdraw against india\n",
      "\n",
      "[77]\n",
      "원문 : ?? ?? ?? ?? ?? ?? ?? ?? ?? ?? ?? ?? ?? ?? ?? ?? ?? ?? ?? ?? ?? ?? ?? ?? ?? ?? ?? ?? ?? ??\n",
      "실제 요약 : back indian origin man aircraft startup\n",
      "예측 요약 :  unveils concept car concept\n",
      "\n",
      "[78]\n",
      "원문 : ?? ?? ?? ?? ?? ?? ?? ?? ?? ?? ?? ?? ?? ?? ?? ?? ?? ?? ?? ?? ?? ?? ?? ?? ?? ?? ?? ?? ?? ?? ?? ?? ?? ??\n",
      "실제 요약 : uttar pradesh government to get over doctors\n",
      "예측 요약 :  delhi government to make\n",
      "\n",
      "[79]\n",
      "원문 : ?? ?? ?? ?? ?? ?? ?? ?? ?? ?? ?? ?? ?? ?? ?? ?? ?? ?? ?? ?? ?? ?? ?? ?? ?? ?? ?? ?? ?? ?? ??\n",
      "실제 요약 : what are and what causes\n",
      "예측 요약 :  china unveils world first printed\n",
      "\n",
      "[80]\n",
      "원문 : ?? ?? ?? ?? ?? ?? ?? ?? ?? ?? ?? ?? ?? ?? ?? ?? ?? ?? ?? ?? ?? ?? ?? ?? ?? ?? ?? ??\n",
      "실제 요약 : facebook ceo zuckerberg denies million\n",
      "예측 요약 :  facebook co founder startup loses million\n",
      "\n",
      "[81]\n",
      "원문 : ?? ?? ?? ?? ?? ?? ?? ?? ?? ?? ?? ?? ?? ?? ?? ?? ?? ?? ?? ?? ?? ?? ?? ?? ?? ?? ?? ?? ?? ?? ?? ??\n",
      "실제 요약 : who are the richest women in the world\n",
      "예측 요약 :  world most expensive world most billionaires\n",
      "\n",
      "[82]\n",
      "원문 : ?? ?? ?? ?? ?? ?? ?? ?? ?? ?? ?? ?? ?? ?? ?? ?? ?? ?? ?? ?? ?? ?? ?? ?? ?? ?? ??\n",
      "실제 요약 : employee claim government reliance jio\n",
      "예측 요약 :  complaint against jio ceo\n",
      "\n",
      "[83]\n",
      "원문 : ?? ?? ?? ?? ?? ?? ?? ?? ?? ?? ?? ?? ?? ?? ?? ?? ?? ?? ?? ?? ?? ?? ?? ?? ?? ?? ?? ?? ?? ?? ?? ?? ?? ?? ?? ?? ??\n",
      "실제 요약 : flipkart acquires platform\n",
      "예측 요약 :  paytm acquires stake in india\n",
      "\n",
      "[84]\n",
      "원문 : ?? ?? ?? ?? ?? ?? ?? ?? ?? ?? ?? ?? ?? ?? ?? ?? ?? ?? ?? ?? ?? ?? ?? ?? ?? ?? ?? ?? ?? ?? ?? ?? ?? ??\n",
      "실제 요약 : pm modi launches first india school games\n",
      "예측 요약 :  pm modi inaugurates for days\n",
      "\n",
      "[85]\n",
      "원문 : ?? ?? ?? ?? ?? ?? ?? ?? ?? ?? ?? ?? ?? ?? ?? ?? ?? ?? ?? ?? ?? ?? ?? ?? ?? ?? ?? ?? ?? ?? ?? ?? ?? ?? ?? ??\n",
      "실제 요약 : us un resolution trump jerusalem decision\n",
      "예측 요약 :  us to ban on jerusalem jerusalem\n",
      "\n",
      "[86]\n",
      "원문 : ?? ?? ?? ?? ?? ?? ?? ?? ?? ?? ?? ?? ?? ?? ?? ?? ?? ?? ?? ?? ?? ?? ?? ?? ?? ?? ?? ??\n",
      "실제 요약 : should not be in prez\n",
      "예측 요약 :  president kovind kovind\n",
      "\n",
      "[87]\n",
      "원문 : ?? ?? ?? ?? ?? ?? ?? ?? ?? ?? ?? ?? ?? ?? ?? ?? ?? ?? ?? ?? ?? ?? ?? ?? ?? ?? ?? ?? ?? ?? ?? ?? ?? ?? ??\n",
      "실제 요약 : senior congress leader quits party\n",
      "예측 요약 :  congress is its first president\n",
      "\n",
      "[88]\n",
      "원문 : ?? ?? ?? ?? ?? ?? ?? ?? ?? ?? ?? ?? ?? ?? ?? ?? ?? ?? ?? ?? ?? ?? ?? ?? ?? ?? ?? ?? ?? ?? ?? ??\n",
      "실제 요약 : philippines prez calls obama trump\n",
      "예측 요약 :  un rejects un for\n",
      "\n",
      "[89]\n",
      "원문 : ?? ?? ?? ?? ?? ?? ?? ?? ?? ?? ?? ?? ?? ?? ?? ?? ?? ?? ?? ?? ?? ?? ?? ?? ?? ?? ?? ?? ?? ?? ?? ?? ?? ??\n",
      "실제 요약 : elon musk led tesla market\n",
      "예측 요약 :  apple posts billion in apple\n",
      "\n",
      "[90]\n",
      "원문 : ?? ?? ?? ?? ?? ?? ?? ?? ?? ?? ?? ?? ?? ?? ?? ?? ?? ?? ?? ?? ?? ?? ?? ?? ?? ?? ?? ?? ?? ?? ??\n",
      "실제 요약 : trailer of sidharth jacqueline released\n",
      "예측 요약 :  new trailer of starrer released\n",
      "\n",
      "[91]\n",
      "원문 : ?? ?? ?? ?? ?? ?? ?? ?? ?? ?? ?? ?? ?? ?? ?? ?? ?? ?? ?? ?? ?? ?? ?? ?? ?? ?? ??\n",
      "실제 요약 : death toll in floods rises to\n",
      "예측 요약 :  death toll from floods rises to\n",
      "\n",
      "[92]\n",
      "원문 : ?? ?? ?? ?? ?? ?? ?? ?? ?? ?? ?? ?? ?? ?? ?? ?? ?? ?? ?? ?? ?? ?? ?? ?? ?? ?? ?? ?? ?? ?? ?? ??\n",
      "실제 요약 : sasikala day to meet husband ends\n",
      "예측 요약 :  hardik patel patel for\n",
      "\n",
      "[93]\n",
      "원문 : ?? ?? ?? ?? ?? ?? ?? ?? ?? ?? ?? ?? ?? ?? ?? ?? ?? ?? ?? ?? ?? ?? ?? ?? ?? ?? ?? ?? ?? ?? ?? ?? ?? ??\n",
      "실제 요약 : malayalam actor politician mukesh accused of sexual harassment\n",
      "예측 요약 :  twitter account hacked to harassment\n",
      "\n",
      "[94]\n",
      "원문 : ?? ?? ?? ?? ?? ?? ?? ?? ?? ?? ?? ?? ?? ?? ?? ?? ?? ?? ?? ?? ?? ?? ?? ?? ?? ?? ?? ?? ?? ?? ?? ?? ?? ??\n",
      "실제 요약 : india china to global growth\n"
     ]
    },
    {
     "name": "stdout",
     "output_type": "stream",
     "text": [
      "예측 요약 :  india india biggest in\n",
      "\n",
      "[95]\n",
      "원문 : ?? ?? ?? ?? ?? ?? ?? ?? ?? ?? ?? ?? ?? ?? ?? ?? ?? ?? ?? ?? ?? ?? ?? ?? ?? ?? ?? ?? ?? ?? ?? ??\n",
      "실제 요약 : kerala government conduct on sabarimala pm modi\n",
      "예측 요약 :  kerala government to be\n",
      "\n",
      "[96]\n",
      "원문 : ?? ?? ?? ?? ?? ?? ?? ?? ?? ?? ?? ?? ?? ?? ?? ?? ?? ?? ?? ?? ?? ?? ?? ?? ?? ?? ?? ??\n",
      "실제 요약 : kangana ex on hrithik\n",
      "예측 요약 :  hrithik ranaut to hrithik on\n",
      "\n",
      "[97]\n",
      "원문 : ?? ?? ?? ?? ?? ?? ?? ?? ?? ?? ?? ?? ?? ?? ?? ?? ?? ?? ?? ?? ?? ?? ?? ?? ?? ?? ?? ?? ?? ?? ?? ??\n",
      "실제 요약 : android startup accused of\n",
      "예측 요약 :  sues co founder startup for\n",
      "\n",
      "[98]\n",
      "원문 : ?? ?? ?? ?? ?? ?? ?? ?? ?? ?? ?? ?? ?? ?? ?? ?? ?? ?? ?? ?? ?? ?? ?? ?? ?? ??\n",
      "실제 요약 : india to reduce\n",
      "예측 요약 :  india to launch in india\n",
      "\n",
      "[99]\n",
      "원문 : ?? ?? ?? ?? ?? ?? ?? ?? ?? ?? ?? ?? ?? ?? ?? ?? ?? ?? ?? ?? ?? ?? ?? ?? ?? ?? ?? ?? ?? ?? ?? ?? ?? ?? ?? ?? ??\n",
      "실제 요약 : yoga club in japanese parliament\n",
      "예측 요약 :  india to celebrate\n"
     ]
    }
   ],
   "source": [
    "for i in range(50, 100):\n",
    "    print(f\"\\n[{i}]\")\n",
    "    print(\"원문 :\", seq2text(encoder_input_test[i]))\n",
    "    print(\"실제 요약 :\", seq2summary(decoder_input_test[i]))\n",
    "    print(\"예측 요약 :\", decode_sequence(encoder_input_test[i].reshape(1, text_max_len)))"
   ]
  },
  {
   "cell_type": "code",
   "execution_count": 125,
   "id": "7d75787b",
   "metadata": {},
   "outputs": [
    {
     "name": "stdout",
     "output_type": "stream",
     "text": [
      "원문 : UNK UNK UNK UNK UNK UNK UNK UNK UNK UNK UNK UNK UNK UNK UNK UNK UNK UNK UNK UNK UNK UNK UNK UNK UNK UNK UNK UNK UNK UNK UNK\n",
      "실제 요약 : killed in attack on govt security\n",
      "예측 요약 :  killed injured in attack in afghanistan\n",
      "\n",
      "\n",
      "원문 : UNK UNK UNK UNK UNK UNK UNK UNK UNK UNK UNK UNK UNK UNK UNK UNK UNK UNK UNK UNK UNK UNK UNK UNK UNK UNK UNK UNK\n",
      "실제 요약 : new and notes have single govt\n",
      "예측 요약 :  government to launch for\n",
      "\n",
      "\n",
      "원문 : UNK UNK UNK UNK UNK UNK UNK UNK UNK UNK UNK UNK UNK UNK UNK UNK UNK UNK UNK UNK UNK UNK UNK UNK UNK UNK UNK UNK UNK UNK UNK UNK UNK UNK\n",
      "실제 요약 : google parent alphabet invests in scooter startup\n",
      "예측 요약 :  google backed startup raises million\n",
      "\n",
      "\n",
      "원문 : UNK UNK UNK UNK UNK UNK UNK UNK UNK UNK UNK UNK UNK UNK UNK UNK UNK UNK UNK UNK UNK UNK UNK UNK UNK UNK UNK UNK UNK UNK UNK UNK UNK UNK UNK UNK UNK UNK\n",
      "실제 요약 : korea nuclear tests\n",
      "예측 요약 :  korea tests test for korea\n",
      "\n",
      "\n",
      "원문 : UNK UNK UNK UNK UNK UNK UNK UNK UNK UNK UNK UNK UNK UNK UNK UNK UNK UNK UNK UNK UNK UNK UNK UNK UNK UNK\n",
      "실제 요약 : not under of rahul\n",
      "예측 요약 :  appointed as\n",
      "\n",
      "\n",
      "원문 : UNK UNK UNK UNK UNK UNK UNK UNK UNK UNK UNK UNK UNK UNK UNK UNK UNK UNK UNK UNK UNK UNK UNK UNK UNK UNK\n",
      "실제 요약 : teaser poster of unveiled\n",
      "예측 요약 :  new poster of anushka sharma released\n",
      "\n",
      "\n",
      "원문 : UNK UNK UNK UNK UNK UNK UNK UNK UNK UNK UNK UNK UNK UNK UNK UNK UNK UNK UNK UNK UNK UNK UNK UNK UNK UNK UNK UNK UNK UNK UNK UNK\n",
      "실제 요약 : flipkart to enter financial services business\n",
      "예측 요약 :  flipkart acquires india payments for million\n",
      "\n",
      "\n",
      "원문 : UNK UNK UNK UNK UNK UNK UNK UNK UNK UNK UNK UNK UNK UNK UNK UNK UNK UNK UNK UNK UNK UNK UNK UNK UNK UNK UNK UNK UNK UNK\n",
      "실제 요약 : india pakistan at dubai\n",
      "예측 요약 :  india india end series from bangladesh\n",
      "\n",
      "\n",
      "원문 : UNK UNK UNK UNK UNK UNK UNK UNK UNK UNK UNK UNK UNK UNK UNK UNK UNK UNK UNK UNK UNK UNK UNK UNK UNK UNK UNK UNK UNK UNK UNK UNK\n",
      "실제 요약 : india million to develop myanmar state\n",
      "예측 요약 :  india seeks military to military\n",
      "\n",
      "\n",
      "원문 : UNK UNK UNK UNK UNK UNK UNK UNK UNK UNK UNK UNK UNK UNK UNK UNK UNK UNK UNK UNK UNK UNK UNK UNK UNK\n",
      "실제 요약 : family gets cr compensation for daughter missing body\n",
      "예측 요약 :  us man wins crore for crore\n",
      "\n",
      "\n",
      "원문 : UNK UNK UNK UNK UNK UNK UNK UNK UNK UNK UNK UNK UNK UNK UNK UNK UNK UNK UNK UNK UNK UNK UNK UNK UNK UNK UNK UNK UNK UNK UNK UNK UNK UNK UNK UNK\n",
      "실제 요약 : facebook takes down post showing victims\n",
      "예측 요약 :  facebook to be on facebook\n",
      "\n",
      "\n",
      "원문 : UNK UNK UNK UNK UNK UNK UNK UNK UNK UNK UNK UNK UNK UNK UNK UNK UNK UNK UNK UNK UNK\n",
      "실제 요약 : karan johar reveals his twitter for\n",
      "예측 요약 :  have been on\n",
      "\n",
      "\n",
      "원문 : UNK UNK UNK UNK UNK UNK UNK UNK UNK UNK UNK UNK UNK UNK UNK UNK UNK UNK UNK UNK UNK UNK UNK UNK UNK UNK UNK UNK UNK UNK UNK UNK UNK UNK UNK UNK UNK\n",
      "실제 요약 : korea to myanmar un\n",
      "예측 요약 :  korea missile korea to korea\n",
      "\n",
      "\n",
      "원문 : UNK UNK UNK UNK UNK UNK UNK UNK UNK UNK UNK UNK UNK UNK UNK UNK UNK UNK UNK UNK UNK UNK UNK UNK UNK UNK UNK UNK UNK UNK UNK\n",
      "실제 요약 : astronomers discover around star\n",
      "예측 요약 :  scientists discover ice\n",
      "\n",
      "\n",
      "원문 : UNK UNK UNK UNK UNK UNK UNK UNK UNK UNK UNK UNK UNK UNK UNK UNK UNK UNK UNK UNK UNK UNK UNK UNK UNK UNK UNK UNK UNK\n",
      "실제 요약 : held in andhra for despite ban\n",
      "예측 요약 :  arrested for in tamil nadu\n",
      "\n",
      "\n",
      "원문 : UNK UNK UNK UNK UNK UNK UNK UNK UNK UNK UNK UNK UNK UNK UNK UNK UNK UNK UNK UNK UNK UNK UNK UNK UNK UNK UNK UNK\n",
      "실제 요약 : printed on device turns smartphone into\n",
      "예측 요약 :  device to monitor\n",
      "\n",
      "\n",
      "원문 : UNK UNK UNK UNK UNK UNK UNK UNK UNK UNK UNK UNK UNK UNK UNK UNK UNK UNK UNK UNK UNK UNK UNK UNK UNK UNK UNK UNK UNK UNK\n",
      "실제 요약 : trump threatens us government over border\n",
      "예측 요약 :  trump signs order for\n",
      "\n",
      "\n",
      "원문 : UNK UNK UNK UNK UNK UNK UNK UNK UNK UNK UNK UNK UNK UNK UNK UNK UNK UNK UNK UNK UNK UNK UNK UNK UNK UNK UNK UNK UNK UNK UNK UNK UNK UNK UNK\n",
      "실제 요약 : korea test site after nuclear study\n",
      "예측 요약 :  korea missile test fires missile\n",
      "\n",
      "\n",
      "원문 : UNK UNK UNK UNK UNK UNK UNK UNK UNK UNK UNK UNK UNK UNK UNK UNK UNK UNK UNK UNK UNK UNK UNK UNK\n",
      "실제 요약 : to army on deaths\n",
      "예측 요약 :  afghan army killed in encounter\n",
      "\n",
      "\n",
      "원문 : UNK UNK UNK UNK UNK UNK UNK UNK UNK UNK UNK UNK UNK UNK UNK UNK UNK UNK UNK UNK UNK UNK UNK UNK UNK UNK UNK UNK UNK UNK UNK UNK UNK\n",
      "실제 요약 : srinagar lok sabha only\n",
      "예측 요약 :  congress has not for gujarat polls\n",
      "\n",
      "\n",
      "원문 : UNK UNK UNK UNK UNK UNK UNK UNK UNK UNK UNK UNK UNK UNK UNK UNK UNK UNK UNK UNK UNK UNK UNK UNK UNK UNK UNK UNK\n",
      "실제 요약 : former afghan enters presidential race\n",
      "예측 요약 :  terror attack to\n",
      "\n",
      "\n",
      "원문 : UNK UNK UNK UNK UNK UNK UNK UNK UNK UNK UNK UNK UNK UNK UNK UNK UNK UNK UNK UNK UNK UNK UNK UNK UNK UNK UNK UNK\n",
      "실제 요약 : app fires of its staff\n",
      "예측 요약 :  users users to make users\n",
      "\n",
      "\n",
      "원문 : UNK UNK UNK UNK UNK UNK UNK UNK UNK UNK UNK UNK UNK UNK UNK UNK UNK UNK UNK UNK UNK UNK UNK UNK UNK UNK UNK UNK\n",
      "실제 요약 : india has chief\n",
      "예측 요약 :  india has the of\n",
      "\n",
      "\n",
      "원문 : UNK UNK UNK UNK UNK UNK UNK UNK UNK UNK UNK UNK UNK UNK UNK UNK UNK UNK UNK UNK UNK UNK UNK UNK UNK\n",
      "실제 요약 : researchers create self for robot\n",
      "예측 요약 :  scientists develop that can\n",
      "\n",
      "\n",
      "원문 : UNK UNK UNK UNK UNK UNK UNK UNK UNK UNK UNK UNK UNK UNK UNK UNK UNK UNK UNK UNK UNK UNK UNK UNK UNK UNK UNK UNK UNK UNK\n",
      "실제 요약 : andhra pradesh declares war against road\n",
      "예측 요약 :  maha govt to get forest\n",
      "\n",
      "\n",
      "원문 : UNK UNK UNK UNK UNK UNK UNK UNK UNK UNK UNK UNK UNK UNK UNK UNK UNK UNK UNK UNK UNK UNK UNK UNK UNK UNK UNK UNK UNK UNK UNK UNK\n",
      "실제 요약 : crpf allows militants to\n",
      "예측 요약 :  muslims abducted in kashmir\n",
      "\n",
      "\n",
      "원문 : UNK UNK UNK UNK UNK UNK UNK UNK UNK UNK UNK UNK UNK UNK UNK UNK UNK UNK UNK UNK UNK UNK UNK UNK UNK UNK UNK UNK UNK UNK UNK UNK UNK UNK UNK UNK UNK\n",
      "실제 요약 : qatar safety of indian citizens amid crisis\n",
      "예측 요약 :  qatar to withdraw against india\n",
      "\n",
      "\n",
      "원문 : UNK UNK UNK UNK UNK UNK UNK UNK UNK UNK UNK UNK UNK UNK UNK UNK UNK UNK UNK UNK UNK UNK UNK UNK UNK UNK UNK UNK UNK UNK\n",
      "실제 요약 : back indian origin man aircraft startup\n",
      "예측 요약 :  unveils concept car concept\n",
      "\n",
      "\n",
      "원문 : UNK UNK UNK UNK UNK UNK UNK UNK UNK UNK UNK UNK UNK UNK UNK UNK UNK UNK UNK UNK UNK UNK UNK UNK UNK UNK UNK UNK UNK UNK UNK UNK UNK UNK\n",
      "실제 요약 : uttar pradesh government to get over doctors\n",
      "예측 요약 :  delhi government to make\n",
      "\n",
      "\n",
      "원문 : UNK UNK UNK UNK UNK UNK UNK UNK UNK UNK UNK UNK UNK UNK UNK UNK UNK UNK UNK UNK UNK UNK UNK UNK UNK UNK UNK UNK UNK UNK UNK\n",
      "실제 요약 : what are and what causes\n",
      "예측 요약 :  china unveils world first printed\n",
      "\n",
      "\n",
      "원문 : UNK UNK UNK UNK UNK UNK UNK UNK UNK UNK UNK UNK UNK UNK UNK UNK UNK UNK UNK UNK UNK UNK UNK UNK UNK UNK UNK UNK\n",
      "실제 요약 : facebook ceo zuckerberg denies million\n",
      "예측 요약 :  facebook co founder startup loses million\n",
      "\n",
      "\n",
      "원문 : UNK UNK UNK UNK UNK UNK UNK UNK UNK UNK UNK UNK UNK UNK UNK UNK UNK UNK UNK UNK UNK UNK UNK UNK UNK UNK UNK UNK UNK UNK UNK UNK\n",
      "실제 요약 : who are the richest women in the world\n",
      "예측 요약 :  world most expensive world most billionaires\n",
      "\n",
      "\n",
      "원문 : UNK UNK UNK UNK UNK UNK UNK UNK UNK UNK UNK UNK UNK UNK UNK UNK UNK UNK UNK UNK UNK UNK UNK UNK UNK UNK UNK\n",
      "실제 요약 : employee claim government reliance jio\n",
      "예측 요약 :  complaint against jio ceo\n",
      "\n",
      "\n",
      "원문 : UNK UNK UNK UNK UNK UNK UNK UNK UNK UNK UNK UNK UNK UNK UNK UNK UNK UNK UNK UNK UNK UNK UNK UNK UNK UNK UNK UNK UNK UNK UNK UNK UNK UNK UNK UNK UNK\n",
      "실제 요약 : flipkart acquires platform\n",
      "예측 요약 :  paytm acquires stake in india\n",
      "\n",
      "\n",
      "원문 : UNK UNK UNK UNK UNK UNK UNK UNK UNK UNK UNK UNK UNK UNK UNK UNK UNK UNK UNK UNK UNK UNK UNK UNK UNK UNK UNK UNK UNK UNK UNK UNK UNK UNK\n",
      "실제 요약 : pm modi launches first india school games\n",
      "예측 요약 :  pm modi inaugurates for days\n",
      "\n",
      "\n",
      "원문 : UNK UNK UNK UNK UNK UNK UNK UNK UNK UNK UNK UNK UNK UNK UNK UNK UNK UNK UNK UNK UNK UNK UNK UNK UNK UNK UNK UNK UNK UNK UNK UNK UNK UNK UNK UNK\n",
      "실제 요약 : us un resolution trump jerusalem decision\n",
      "예측 요약 :  us to ban on jerusalem jerusalem\n",
      "\n",
      "\n",
      "원문 : UNK UNK UNK UNK UNK UNK UNK UNK UNK UNK UNK UNK UNK UNK UNK UNK UNK UNK UNK UNK UNK UNK UNK UNK UNK UNK UNK UNK\n",
      "실제 요약 : should not be in prez\n",
      "예측 요약 :  president kovind kovind\n",
      "\n",
      "\n",
      "원문 : UNK UNK UNK UNK UNK UNK UNK UNK UNK UNK UNK UNK UNK UNK UNK UNK UNK UNK UNK UNK UNK UNK UNK UNK UNK UNK UNK UNK UNK UNK UNK UNK UNK UNK UNK\n",
      "실제 요약 : senior congress leader quits party\n",
      "예측 요약 :  congress is its first president\n",
      "\n",
      "\n",
      "원문 : UNK UNK UNK UNK UNK UNK UNK UNK UNK UNK UNK UNK UNK UNK UNK UNK UNK UNK UNK UNK UNK UNK UNK UNK UNK UNK UNK UNK UNK UNK UNK UNK\n",
      "실제 요약 : philippines prez calls obama trump\n",
      "예측 요약 :  un rejects un for\n",
      "\n",
      "\n",
      "원문 : UNK UNK UNK UNK UNK UNK UNK UNK UNK UNK UNK UNK UNK UNK UNK UNK UNK UNK UNK UNK UNK UNK UNK UNK UNK UNK UNK UNK UNK UNK UNK UNK UNK UNK\n",
      "실제 요약 : elon musk led tesla market\n"
     ]
    },
    {
     "name": "stdout",
     "output_type": "stream",
     "text": [
      "예측 요약 :  apple posts billion in apple\n",
      "\n",
      "\n",
      "원문 : UNK UNK UNK UNK UNK UNK UNK UNK UNK UNK UNK UNK UNK UNK UNK UNK UNK UNK UNK UNK UNK UNK UNK UNK UNK UNK UNK UNK UNK UNK UNK\n",
      "실제 요약 : trailer of sidharth jacqueline released\n",
      "예측 요약 :  new trailer of starrer released\n",
      "\n",
      "\n",
      "원문 : UNK UNK UNK UNK UNK UNK UNK UNK UNK UNK UNK UNK UNK UNK UNK UNK UNK UNK UNK UNK UNK UNK UNK UNK UNK UNK UNK\n",
      "실제 요약 : death toll in floods rises to\n",
      "예측 요약 :  death toll from floods rises to\n",
      "\n",
      "\n",
      "원문 : UNK UNK UNK UNK UNK UNK UNK UNK UNK UNK UNK UNK UNK UNK UNK UNK UNK UNK UNK UNK UNK UNK UNK UNK UNK UNK UNK UNK UNK UNK UNK UNK\n",
      "실제 요약 : sasikala day to meet husband ends\n",
      "예측 요약 :  hardik patel patel for\n",
      "\n",
      "\n",
      "원문 : UNK UNK UNK UNK UNK UNK UNK UNK UNK UNK UNK UNK UNK UNK UNK UNK UNK UNK UNK UNK UNK UNK UNK UNK UNK UNK UNK UNK UNK UNK UNK UNK UNK UNK\n",
      "실제 요약 : malayalam actor politician mukesh accused of sexual harassment\n",
      "예측 요약 :  twitter account hacked to harassment\n",
      "\n",
      "\n",
      "원문 : UNK UNK UNK UNK UNK UNK UNK UNK UNK UNK UNK UNK UNK UNK UNK UNK UNK UNK UNK UNK UNK UNK UNK UNK UNK UNK UNK UNK UNK UNK UNK UNK UNK UNK\n",
      "실제 요약 : india china to global growth\n",
      "예측 요약 :  india india biggest in\n",
      "\n",
      "\n",
      "원문 : UNK UNK UNK UNK UNK UNK UNK UNK UNK UNK UNK UNK UNK UNK UNK UNK UNK UNK UNK UNK UNK UNK UNK UNK UNK UNK UNK UNK UNK UNK UNK UNK\n",
      "실제 요약 : kerala government conduct on sabarimala pm modi\n",
      "예측 요약 :  kerala government to be\n",
      "\n",
      "\n",
      "원문 : UNK UNK UNK UNK UNK UNK UNK UNK UNK UNK UNK UNK UNK UNK UNK UNK UNK UNK UNK UNK UNK UNK UNK UNK UNK UNK UNK UNK\n",
      "실제 요약 : kangana ex on hrithik\n",
      "예측 요약 :  hrithik ranaut to hrithik on\n",
      "\n",
      "\n",
      "원문 : UNK UNK UNK UNK UNK UNK UNK UNK UNK UNK UNK UNK UNK UNK UNK UNK UNK UNK UNK UNK UNK UNK UNK UNK UNK UNK UNK UNK UNK UNK UNK UNK\n",
      "실제 요약 : android startup accused of\n",
      "예측 요약 :  sues co founder startup for\n",
      "\n",
      "\n",
      "원문 : UNK UNK UNK UNK UNK UNK UNK UNK UNK UNK UNK UNK UNK UNK UNK UNK UNK UNK UNK UNK UNK UNK UNK UNK UNK UNK\n",
      "실제 요약 : india to reduce\n",
      "예측 요약 :  india to launch in india\n",
      "\n",
      "\n",
      "원문 : UNK UNK UNK UNK UNK UNK UNK UNK UNK UNK UNK UNK UNK UNK UNK UNK UNK UNK UNK UNK UNK UNK UNK UNK UNK UNK UNK UNK UNK UNK UNK UNK UNK UNK UNK UNK UNK\n",
      "실제 요약 : yoga club in japanese parliament\n",
      "예측 요약 :  india to celebrate\n",
      "\n",
      "\n"
     ]
    }
   ],
   "source": [
    "# 원문을 출력하는 함수 (인덱스를 텍스트로 변환)\n",
    "def seq2text(input_seq):\n",
    "    temp = ''\n",
    "    for i in input_seq:\n",
    "        if i != 0:  # 0은 패딩일 수 있으므로 무시\n",
    "            word = src_index_to_word.get(i, 'UNK')  # 없는 인덱스는 'UNK'로 대체\n",
    "            temp += word + ' '\n",
    "    return temp.strip()\n",
    "\n",
    "# 실제 요약을 출력하는 함수 (인덱스를 텍스트로 변환)\n",
    "def seq2summary(input_seq):\n",
    "    temp = ''\n",
    "    for i in input_seq:\n",
    "        if i != 0 and i != tar_word_to_index['sostoken'] and i != tar_word_to_index['eostoken']:\n",
    "            word = tar_index_to_word.get(i, 'UNK')  # 없는 인덱스는 'UNK'로 대체\n",
    "            temp += word + ' '\n",
    "    return temp.strip()\n",
    "\n",
    "# 디버깅을 위한 함수 (토큰이 src_index_to_word에 있는지 확인)\n",
    "def debug_seq2text(input_seq):\n",
    "    for i in input_seq:\n",
    "        if i not in src_index_to_word:\n",
    "            print(f\"❌ 인덱스 {i} 는 src_index_to_word에 없습니다.\")\n",
    "            \n",
    "# 예시: 토크나이저 선언 시 UNK 제거\n",
    "tokenizer = Tokenizer(num_words=None, oov_token='UNK')\n",
    "\n",
    "# 원문, 실제 요약, 예측 요약 출력\n",
    "for i in range(50, 100):\n",
    "    print(\"원문 :\", seq2text(encoder_input_test[i]))\n",
    "    print(\"실제 요약 :\", seq2summary(decoder_input_test[i]))\n",
    "    print(\"예측 요약 :\", decode_sequence(encoder_input_test[i].reshape(1, text_max_len)))\n",
    "    print(\"\\n\")"
   ]
  },
  {
   "cell_type": "code",
   "execution_count": 126,
   "id": "6a368bc2",
   "metadata": {},
   "outputs": [
    {
     "name": "stdout",
     "output_type": "stream",
     "text": [
      "원문 : \n",
      "실제 요약 : \n",
      "예측 요약 :  killed injured in attack in afghanistan\n",
      "\n",
      "\n",
      "원문 : \n",
      "실제 요약 : \n",
      "예측 요약 :  government to launch for\n",
      "\n",
      "\n",
      "원문 : \n",
      "실제 요약 : \n",
      "예측 요약 :  google backed startup raises million\n",
      "\n",
      "\n",
      "원문 : \n",
      "실제 요약 : \n",
      "예측 요약 :  korea tests test for korea\n",
      "\n",
      "\n",
      "원문 : \n",
      "실제 요약 : \n",
      "예측 요약 :  appointed as\n",
      "\n",
      "\n",
      "원문 : \n",
      "실제 요약 : \n",
      "예측 요약 :  new poster of anushka sharma released\n",
      "\n",
      "\n",
      "원문 : \n",
      "실제 요약 : \n",
      "예측 요약 :  flipkart acquires india payments for million\n",
      "\n",
      "\n",
      "원문 : \n",
      "실제 요약 : \n",
      "예측 요약 :  india india end series from bangladesh\n",
      "\n",
      "\n",
      "원문 : \n",
      "실제 요약 : \n",
      "예측 요약 :  india seeks military to military\n",
      "\n",
      "\n",
      "원문 : \n",
      "실제 요약 : \n",
      "예측 요약 :  us man wins crore for crore\n",
      "\n",
      "\n",
      "원문 : \n",
      "실제 요약 : \n",
      "예측 요약 :  facebook to be on facebook\n",
      "\n",
      "\n",
      "원문 : \n",
      "실제 요약 : \n",
      "예측 요약 :  have been on\n",
      "\n",
      "\n",
      "원문 : \n",
      "실제 요약 : \n",
      "예측 요약 :  korea missile korea to korea\n",
      "\n",
      "\n",
      "원문 : \n",
      "실제 요약 : \n",
      "예측 요약 :  scientists discover ice\n",
      "\n",
      "\n",
      "원문 : \n",
      "실제 요약 : \n",
      "예측 요약 :  arrested for in tamil nadu\n",
      "\n",
      "\n",
      "원문 : \n",
      "실제 요약 : \n",
      "예측 요약 :  device to monitor\n",
      "\n",
      "\n",
      "원문 : \n",
      "실제 요약 : \n",
      "예측 요약 :  trump signs order for\n",
      "\n",
      "\n",
      "원문 : \n",
      "실제 요약 : \n",
      "예측 요약 :  korea missile test fires missile\n",
      "\n",
      "\n",
      "원문 : \n",
      "실제 요약 : \n",
      "예측 요약 :  afghan army killed in encounter\n",
      "\n",
      "\n",
      "원문 : \n",
      "실제 요약 : \n",
      "예측 요약 :  congress has not for gujarat polls\n",
      "\n",
      "\n",
      "원문 : \n",
      "실제 요약 : \n",
      "예측 요약 :  terror attack to\n",
      "\n",
      "\n",
      "원문 : \n",
      "실제 요약 : \n",
      "예측 요약 :  users users to make users\n",
      "\n",
      "\n",
      "원문 : \n",
      "실제 요약 : \n",
      "예측 요약 :  india has the of\n",
      "\n",
      "\n",
      "원문 : \n",
      "실제 요약 : \n",
      "예측 요약 :  scientists develop that can\n",
      "\n",
      "\n",
      "원문 : \n",
      "실제 요약 : \n",
      "예측 요약 :  maha govt to get forest\n",
      "\n",
      "\n",
      "원문 : \n",
      "실제 요약 : \n",
      "예측 요약 :  muslims abducted in kashmir\n",
      "\n",
      "\n",
      "원문 : \n",
      "실제 요약 : \n",
      "예측 요약 :  qatar to withdraw against india\n",
      "\n",
      "\n",
      "원문 : \n",
      "실제 요약 : \n",
      "예측 요약 :  unveils concept car concept\n",
      "\n",
      "\n",
      "원문 : \n",
      "실제 요약 : \n",
      "예측 요약 :  delhi government to make\n",
      "\n",
      "\n",
      "원문 : \n",
      "실제 요약 : \n",
      "예측 요약 :  china unveils world first printed\n",
      "\n",
      "\n",
      "원문 : \n",
      "실제 요약 : \n",
      "예측 요약 :  facebook co founder startup loses million\n",
      "\n",
      "\n",
      "원문 : \n",
      "실제 요약 : \n",
      "예측 요약 :  world most expensive world most billionaires\n",
      "\n",
      "\n",
      "원문 : \n",
      "실제 요약 : \n",
      "예측 요약 :  complaint against jio ceo\n",
      "\n",
      "\n",
      "원문 : \n",
      "실제 요약 : \n",
      "예측 요약 :  paytm acquires stake in india\n",
      "\n",
      "\n",
      "원문 : \n",
      "실제 요약 : \n",
      "예측 요약 :  pm modi inaugurates for days\n",
      "\n",
      "\n",
      "원문 : \n",
      "실제 요약 : \n",
      "예측 요약 :  us to ban on jerusalem jerusalem\n",
      "\n",
      "\n",
      "원문 : \n",
      "실제 요약 : \n",
      "예측 요약 :  president kovind kovind\n",
      "\n",
      "\n",
      "원문 : \n",
      "실제 요약 : \n",
      "예측 요약 :  congress is its first president\n",
      "\n",
      "\n",
      "원문 : \n",
      "실제 요약 : \n",
      "예측 요약 :  un rejects un for\n",
      "\n",
      "\n",
      "원문 : \n",
      "실제 요약 : \n",
      "예측 요약 :  apple posts billion in apple\n",
      "\n",
      "\n",
      "원문 : \n",
      "실제 요약 : \n",
      "예측 요약 :  new trailer of starrer released\n",
      "\n",
      "\n",
      "원문 : \n",
      "실제 요약 : \n",
      "예측 요약 :  death toll from floods rises to\n",
      "\n",
      "\n",
      "원문 : \n",
      "실제 요약 : \n",
      "예측 요약 :  hardik patel patel for\n",
      "\n",
      "\n",
      "원문 : \n",
      "실제 요약 : \n",
      "예측 요약 :  twitter account hacked to harassment\n",
      "\n",
      "\n",
      "원문 : \n",
      "실제 요약 : \n",
      "예측 요약 :  india india biggest in\n",
      "\n",
      "\n",
      "원문 : \n",
      "실제 요약 : \n",
      "예측 요약 :  kerala government to be\n",
      "\n",
      "\n",
      "원문 : \n",
      "실제 요약 : \n",
      "예측 요약 :  hrithik ranaut to hrithik on\n",
      "\n",
      "\n",
      "원문 : \n",
      "실제 요약 : \n",
      "예측 요약 :  sues co founder startup for\n",
      "\n",
      "\n",
      "원문 : \n",
      "실제 요약 : \n",
      "예측 요약 :  india to launch in india\n",
      "\n",
      "\n",
      "원문 : \n",
      "실제 요약 : \n",
      "예측 요약 :  india to celebrate\n",
      "\n",
      "\n"
     ]
    }
   ],
   "source": [
    "# Test\n",
    "# 원문의 정수 시퀀스를 텍스트 시퀀스로 변환\n",
    "def seq2text(input_seq):\n",
    "    temp=''\n",
    "    # ... (get logic with UNK handling) ...\n",
    "    return temp.strip()\n",
    "\n",
    "# 요약문의 정수 시퀀스를 텍스트 시퀀스로 변환\n",
    "def seq2summary(input_seq):\n",
    "    temp=''\n",
    "    # ... (get logic with UNK handling) ...\n",
    "    return temp.strip()\n",
    "\n",
    "# ... (decoder_model and decode_sequence function definition) ...\n",
    "\n",
    "for i in range(50, 100):\n",
    "    # 이 부분에서 encoder_input_test[i]를 seq2text 함수로 변환하여 원문을 출력합니다.\n",
    "    print(\"원문 :\", seq2text(encoder_input_test[i]))\n",
    "    print(\"실제 요약 :\", seq2summary(decoder_input_test[i]))\n",
    "    print(\"예측 요약 :\", decode_sequence(encoder_input_test[i].reshape(1, text_max_len)))\n",
    "    print(\"\\n\")"
   ]
  },
  {
   "cell_type": "markdown",
   "id": "aebca309",
   "metadata": {},
   "source": [
    "# GOOGLE BART 시도"
   ]
  },
  {
   "cell_type": "code",
   "execution_count": 108,
   "id": "906fae76",
   "metadata": {},
   "outputs": [
    {
     "data": {
      "application/vnd.jupyter.widget-view+json": {
       "model_id": "647a8f7e450645f4a3cb75a358635fde",
       "version_major": 2,
       "version_minor": 0
      },
      "text/plain": [
       "Downloading:   0%|          | 0.00/1.51G [00:00<?, ?B/s]"
      ]
     },
     "metadata": {},
     "output_type": "display_data"
    },
    {
     "name": "stderr",
     "output_type": "stream",
     "text": [
      "Your max_length is set to 45, but you input_length is only 17. You might consider decreasing max_length manually, e.g. summarizer('...', max_length=50)\n"
     ]
    },
    {
     "name": "stdout",
     "output_type": "stream",
     "text": [
      "요약: Google's parent company, Alphabet, has invested in a scooter startup.\n"
     ]
    }
   ],
   "source": [
    "from transformers import pipeline\n",
    "\n",
    "summarizer = pipeline(\"summarization\", model=\"facebook/bart-large-cnn\")\n",
    "\n",
    "text = \"Google's parent company, Alphabet, has invested in a scooter startup.\"\n",
    "summary = summarizer(text, max_length=45, min_length=5, do_sample=False)\n",
    "print(\"요약:\", summary[0]['summary_text'])"
   ]
  },
  {
   "cell_type": "code",
   "execution_count": 127,
   "id": "ef0fc6a7",
   "metadata": {},
   "outputs": [
    {
     "name": "stderr",
     "output_type": "stream",
     "text": [
      "Your max_length is set to 140, but you input_length is only 87. You might consider decreasing max_length manually, e.g. summarizer('...', max_length=50)\n"
     ]
    },
    {
     "name": "stdout",
     "output_type": "stream",
     "text": [
      "기존에 로드된 data 변수를 사용합니다.\n",
      "기존 BART summarizer를 사용합니다.\n",
      "\n",
      "--- BART 요약 결과 비교 ---\n",
      "\n",
      "--- 샘플 1 ---\n",
      "원문 (Original Text):\n",
      "Saurav Kant, an alumnus of upGrad and IIIT-B's PG Program in Machine learning and Artificial Intelligence, was a Sr Systems Engineer at Infosys with almost 5 years of work experience. The program and upGrad's 360-degree career support helped him transition to a Data Scientist at Tech Mahindra with 90% salary hike. upGrad's Online Power Learning has powered 3 lakh+ careers.\n",
      "\n",
      "실제 요약 (Actual Summary):\n",
      "upGrad learner switches to career in ML & Al with 90% salary hike\n"
     ]
    },
    {
     "name": "stderr",
     "output_type": "stream",
     "text": [
      "Your max_length is set to 140, but you input_length is only 95. You might consider decreasing max_length manually, e.g. summarizer('...', max_length=50)\n"
     ]
    },
    {
     "name": "stdout",
     "output_type": "stream",
     "text": [
      "\n",
      "BART 예측 요약 (Predicted Summary):\n",
      "Saurav Kant, an alumnus of upGrad and IIIT-B's PG Program in Machine learning and Artificial Intelligence, was a Sr Systems Engineer at Infosys with almost 5 years of work experience. The program and upGrad's 360-degree career support helped him transition to a Data Scientist at Tech Mahindra with 90% salary hike. UpGrad's Online Power Learning has powered 3 lakh+ careers.\n",
      "--------------------\n",
      "\n",
      "--- 샘플 2 ---\n",
      "원문 (Original Text):\n",
      "Kunal Shah's credit card bill payment platform, CRED, gave users a chance to win free food from Swiggy for one year. Pranav Kaushik, a Delhi techie, bagged this reward after spending 2000 CRED coins. Users get one CRED coin per rupee of bill paid, which can be used to avail rewards from brands like Ixigo, BookMyShow, UberEats, Cult.Fit and more.\n",
      "\n",
      "실제 요약 (Actual Summary):\n",
      "Delhi techie wins free food from Swiggy for one year on CRED\n"
     ]
    },
    {
     "name": "stderr",
     "output_type": "stream",
     "text": [
      "Your max_length is set to 140, but you input_length is only 75. You might consider decreasing max_length manually, e.g. summarizer('...', max_length=50)\n"
     ]
    },
    {
     "name": "stdout",
     "output_type": "stream",
     "text": [
      "\n",
      "BART 예측 요약 (Predicted Summary):\n",
      "Kunal Shah's credit card bill payment platform, CRED, gave users a chance to win free food from Swiggy for one year. Pranav Kaushik, a Delhi techie, bagged this reward after spending 2000 CRED coins.\n",
      "--------------------\n",
      "\n",
      "--- 샘플 3 ---\n",
      "원문 (Original Text):\n",
      "New Zealand defeated India by 8 wickets in the fourth ODI at Hamilton on Thursday to win their first match of the five-match ODI series. India lost an international match under Rohit Sharma's captaincy after 12 consecutive victories dating back to March 2018. The match witnessed India getting all out for 92, their seventh lowest total in ODI cricket history.\n",
      "\n",
      "실제 요약 (Actual Summary):\n",
      "New Zealand end Rohit Sharma-led India's 12-match winning streak\n"
     ]
    },
    {
     "name": "stderr",
     "output_type": "stream",
     "text": [
      "Your max_length is set to 140, but you input_length is only 84. You might consider decreasing max_length manually, e.g. summarizer('...', max_length=50)\n"
     ]
    },
    {
     "name": "stdout",
     "output_type": "stream",
     "text": [
      "\n",
      "BART 예측 요약 (Predicted Summary):\n",
      "New Zealand defeated India by 8 wickets in the fourth ODI at Hamilton. India lost an international match under Rohit Sharma's captaincy after 12 consecutive victories dating back to March 2018. The match witnessed India getting all out for 92, their seventh lowest total in ODI cricket history.\n",
      "--------------------\n",
      "\n",
      "--- 샘플 4 ---\n",
      "원문 (Original Text):\n",
      "With Aegon Life iTerm Insurance plan, customers can enjoy tax benefits on your premiums paid and save up to Ã¢ÂÂ¹46,800^ on taxes. The plan provides life cover up to the age of 100 years. Also, customers have options to insure against Critical Illnesses, Disability and Accidental Death Benefit Rider with a life cover up to the age of 80 years.\n",
      "\n",
      "실제 요약 (Actual Summary):\n",
      "Aegon life iTerm insurance plan helps customers save tax\n"
     ]
    },
    {
     "name": "stderr",
     "output_type": "stream",
     "text": [
      "Your max_length is set to 140, but you input_length is only 93. You might consider decreasing max_length manually, e.g. summarizer('...', max_length=50)\n"
     ]
    },
    {
     "name": "stdout",
     "output_type": "stream",
     "text": [
      "\n",
      "BART 예측 요약 (Predicted Summary):\n",
      "With Aegon Life iTerm Insurance plan, customers can enjoy tax benefits on your premiums paid. Plan provides life cover up to the age of 100 years. Customers have options to insure against Critical Illnesses, Disability and Accidental Death Benefit Rider.\n",
      "--------------------\n",
      "\n",
      "--- 샘플 5 ---\n",
      "원문 (Original Text):\n",
      "Speaking about the sexual harassment allegations against Rajkumar Hirani, Sonam Kapoor said, \"I've known Hirani for many years...What if it's not true, the [#MeToo] movement will get derailed.\" \"In the #MeToo movement, I always believe a woman. But in this case, we need to reserve our judgment,\" she added. Hirani has been accused by an assistant who worked in 'Sanju'.\n",
      "\n",
      "실제 요약 (Actual Summary):\n",
      "Have known Hirani for yrs, what if MeToo claims are not true: Sonam\n"
     ]
    },
    {
     "name": "stderr",
     "output_type": "stream",
     "text": [
      "Your max_length is set to 140, but you input_length is only 72. You might consider decreasing max_length manually, e.g. summarizer('...', max_length=50)\n"
     ]
    },
    {
     "name": "stdout",
     "output_type": "stream",
     "text": [
      "\n",
      "BART 예측 요약 (Predicted Summary):\n",
      "Rajkumar Hirani has been accused by an assistant who worked in 'Sanju' Sonam Kapoor said, \"What if it's not true, the [#MeToo] movement will get derailed\"\n",
      "--------------------\n",
      "\n",
      "--- 샘플 6 ---\n",
      "원문 (Original Text):\n",
      "Pakistani singer Rahat Fateh Ali Khan has denied receiving any notice from the Enforcement Directorate over allegedly smuggling foreign currency out of India. \"It would have been better if the authorities would have served the notice first if any and then publicised this,\" reads a press release issued on behalf of Rahat. The statement further called the allegation \"bizarre\".\n",
      "\n",
      "실제 요약 (Actual Summary):\n",
      "Rahat Fateh Ali Khan denies getting notice for smuggling currency\n"
     ]
    },
    {
     "name": "stderr",
     "output_type": "stream",
     "text": [
      "Your max_length is set to 140, but you input_length is only 84. You might consider decreasing max_length manually, e.g. summarizer('...', max_length=50)\n"
     ]
    },
    {
     "name": "stdout",
     "output_type": "stream",
     "text": [
      "\n",
      "BART 예측 요약 (Predicted Summary):\n",
      "Rahat Fateh Ali Khan has denied receiving any notice from the Enforcement Directorate over allegedly smuggling foreign currency. \"It would have been better if the authorities would have served the notice first if any and then publicised this,\" reads a press release issued on behalf of Rahat.\n",
      "--------------------\n",
      "\n",
      "--- 샘플 7 ---\n",
      "원문 (Original Text):\n",
      "India recorded their lowest ODI total in New Zealand after getting all out for 92 runs in 30.5 overs in the fourth ODI at Hamilton on Thursday. Seven of India's batsmen were dismissed for single-digit scores, while their number ten batsman Yuzvendra Chahal top-scored with 18*(37). India's previous lowest ODI total in New Zealand was 108.\n",
      "\n",
      "실제 요약 (Actual Summary):\n",
      "India get all out for 92, their lowest ODI total in New Zealand\n"
     ]
    },
    {
     "name": "stderr",
     "output_type": "stream",
     "text": [
      "Your max_length is set to 140, but you input_length is only 72. You might consider decreasing max_length manually, e.g. summarizer('...', max_length=50)\n"
     ]
    },
    {
     "name": "stdout",
     "output_type": "stream",
     "text": [
      "\n",
      "BART 예측 요약 (Predicted Summary):\n",
      "India recorded their lowest ODI total in New Zealand. Seven of India's batsmen were dismissed for single-digit scores. Yuzvendra Chahal top-scored with 18*(37)\n",
      "--------------------\n",
      "\n",
      "--- 샘플 8 ---\n",
      "원문 (Original Text):\n",
      "Weeks after ex-CBI Director Alok Verma told the Department of Personnel and Training to consider him retired, the Home Ministry asked him to join work on the last day of his fixed tenure as Director on Thursday. The ministry directed him to immediately join as DG, Fire Services, the post he was transferred to after his removal as CBI chief.\n",
      "\n",
      "실제 요약 (Actual Summary):\n",
      "Govt directs Alok Verma to join work 1 day before his retirement\n"
     ]
    },
    {
     "name": "stderr",
     "output_type": "stream",
     "text": [
      "Your max_length is set to 140, but you input_length is only 83. You might consider decreasing max_length manually, e.g. summarizer('...', max_length=50)\n"
     ]
    },
    {
     "name": "stdout",
     "output_type": "stream",
     "text": [
      "\n",
      "BART 예측 요약 (Predicted Summary):\n",
      "The Home Ministry asked him to join work on the last day of his fixed tenure as Director. The ministry directed him to immediately join as DG, Fire Services, the post he was transferred to after his removal as CBI chief.\n",
      "--------------------\n",
      "\n",
      "--- 샘플 9 ---\n",
      "원문 (Original Text):\n",
      "Andhra Pradesh CM N Chandrababu Naidu has said, \"When I met then US President Bill Clinton, I addressed him as Mr Clinton, not as 'sir'. (PM Narendra) Modi is my junior in politics...I addressed him as sir 10 times.\" \"I did this...to satisfy his ego in the hope that he will do justice to the state,\" he added.\n",
      "\n",
      "실제 요약 (Actual Summary):\n",
      "Called PM Modi 'sir' 10 times to satisfy his ego: Andhra CM\n"
     ]
    },
    {
     "name": "stderr",
     "output_type": "stream",
     "text": [
      "Your max_length is set to 140, but you input_length is only 86. You might consider decreasing max_length manually, e.g. summarizer('...', max_length=50)\n"
     ]
    },
    {
     "name": "stdout",
     "output_type": "stream",
     "text": [
      "\n",
      "BART 예측 요약 (Predicted Summary):\n",
      "Andhra Pradesh CM N Chandrababu Naidu addressed then US President Bill Clinton as Mr Clinton, not as 'sir' \"I did this...to satisfy his ego in the hope that he will do justice to the state,\" he added.\n",
      "--------------------\n",
      "\n",
      "--- 샘플 10 ---\n",
      "원문 (Original Text):\n",
      "Congress candidate Shafia Zubair won the Ramgarh Assembly seat in Rajasthan, by defeating BJP's Sukhwant Singh with a margin of 12,228 votes in the bypoll. With this victory, Congress has taken its total to 100 seats in the 200-member assembly. The election to the Ramgarh seat was delayed due to the death of sitting MLA and BSP candidate Laxman Singh.\n",
      "\n",
      "실제 요약 (Actual Summary):\n",
      "Cong wins Ramgarh bypoll in Rajasthan, takes total to 100 seats\n"
     ]
    },
    {
     "name": "stderr",
     "output_type": "stream",
     "text": [
      "Your max_length is set to 140, but you input_length is only 73. You might consider decreasing max_length manually, e.g. summarizer('...', max_length=50)\n"
     ]
    },
    {
     "name": "stdout",
     "output_type": "stream",
     "text": [
      "\n",
      "BART 예측 요약 (Predicted Summary):\n",
      "Congress candidate Shafia Zubair won the Ramgarh Assembly seat in Rajasthan. Zubair defeated BJP's Sukhwant Singh with a margin of 12,228 votes. With this victory, Congress has taken its total to 100 seats in the 200-member assembly.\n",
      "--------------------\n",
      "\n",
      "--- 샘플 11 ---\n",
      "원문 (Original Text):\n",
      "Two minor cousins in Uttar Pradesh's Gorakhpur were allegedly repeatedly burnt with tongs and forced to eat human excreta by their family for being friends with two boys from the same school. The cousins revealed their ordeal to the police and Child Welfare Committee after being brought back to Gorakhpur from Nepal, where they had fled to escape the torture.\n",
      "\n",
      "실제 요약 (Actual Summary):\n",
      "UP cousins fed human excreta for friendship with boys\n"
     ]
    },
    {
     "name": "stderr",
     "output_type": "stream",
     "text": [
      "Your max_length is set to 140, but you input_length is only 87. You might consider decreasing max_length manually, e.g. summarizer('...', max_length=50)\n"
     ]
    },
    {
     "name": "stdout",
     "output_type": "stream",
     "text": [
      "\n",
      "BART 예측 요약 (Predicted Summary):\n",
      "Two minor cousins in Uttar Pradesh's Gorakhpur were allegedly repeatedly burnt with tongs. They were forced to eat human excreta by their family for being friends with two boys from the same school. The cousins revealed their ordeal to the police and Child Welfare Committee after being brought back from Nepal.\n",
      "--------------------\n",
      "\n",
      "--- 샘플 12 ---\n",
      "원문 (Original Text):\n",
      "Isha Ghosh, an 81-year-old member of Bharat Scouts and Guides (BSG), has been imparting physical and mental training to schoolchildren in Jharkhand for several decades. Chaibasa-based Ghosh reportedly walks seven kilometres daily and spends eight hours conducting physical training, apart from climbing and yoga sessions. She says, \"One should do something for society till one's last breath.\"\n",
      "\n",
      "실제 요약 (Actual Summary):\n",
      "81-yr-old woman conducts physical training in J'khand schools\n"
     ]
    },
    {
     "name": "stderr",
     "output_type": "stream",
     "text": [
      "Your max_length is set to 140, but you input_length is only 82. You might consider decreasing max_length manually, e.g. summarizer('...', max_length=50)\n"
     ]
    },
    {
     "name": "stdout",
     "output_type": "stream",
     "text": [
      "\n",
      "BART 예측 요약 (Predicted Summary):\n",
      "Isha Ghosh, 81, has been imparting physical and mental training to schoolchildren in Jharkhand. Ghosh reportedly walks seven kilometres daily and spends eight hours conducting physical training, apart from climbing and yoga sessions.\n",
      "--------------------\n",
      "\n",
      "--- 샘플 13 ---\n",
      "원문 (Original Text):\n",
      "Urging saints and seers at the Kumbh Mela to quit smoking, Yoga guru Ramdev said, \"We follow Ram and Krishna who never smoked in their life then why should we?\" Making them take a pledge to quit tobacco, he collected chillum (clay pipe) from several sadhus. He said he will deposit the chillums for display at a museum he'll build.\n",
      "\n",
      "실제 요약 (Actual Summary):\n",
      "Ram, Krishna didn't smoke, why should we: Ramdev to sadhus at Kumbh\n"
     ]
    },
    {
     "name": "stderr",
     "output_type": "stream",
     "text": [
      "Your max_length is set to 140, but you input_length is only 77. You might consider decreasing max_length manually, e.g. summarizer('...', max_length=50)\n"
     ]
    },
    {
     "name": "stdout",
     "output_type": "stream",
     "text": [
      "\n",
      "BART 예측 요약 (Predicted Summary):\n",
      "Yoga guru Ramdev said, \"We follow Ram and Krishna who never smoked in their life then why should we?\" He collected chillum (clay pipe) from several sadhus.\n",
      "--------------------\n",
      "\n",
      "--- 샘플 14 ---\n",
      "원문 (Original Text):\n",
      "Former stripper and regional sales director of a pharmaceutical company, Sunrise Lee, gave a doctor a lap dance in a nightclub to persuade him to prescribe an addictive fentanyl spray in 2012, the company's sales representative told a US court. She said she saw Lee \"sitting on [doctor's] lap, kind of bouncing around.\" Lee has been accused of bribing doctors.\n",
      "\n",
      "실제 요약 (Actual Summary):\n",
      "Pharma exec gave doctor a lap dance to sell medicine in US: Witness\n"
     ]
    },
    {
     "name": "stderr",
     "output_type": "stream",
     "text": [
      "Your max_length is set to 140, but you input_length is only 84. You might consider decreasing max_length manually, e.g. summarizer('...', max_length=50)\n"
     ]
    },
    {
     "name": "stdout",
     "output_type": "stream",
     "text": [
      "\n",
      "BART 예측 요약 (Predicted Summary):\n",
      " Sunrise Lee is a former stripper and regional sales director of a pharmaceutical company. She gave a doctor a lap dance in a nightclub to persuade him to prescribe an addictive fentanyl spray.\n",
      "--------------------\n",
      "\n",
      "--- 샘플 15 ---\n",
      "원문 (Original Text):\n",
      "Reliance Industries' Chairman Mukesh Ambani's daughter Isha Ambani, who got married last month, said she only cried at her 'bidaai' because she felt peer pressure as everyone was crying, especially her parents. \"I was emotional too but everyone around me would cry all the time,\" she added. \"It was a very emotional affair for everyone in my family,\" said Isha.\n",
      "\n",
      "실제 요약 (Actual Summary):\n",
      " I only cried at my 'bidaai' as I felt peer pressure: Isha Ambani\n"
     ]
    },
    {
     "name": "stderr",
     "output_type": "stream",
     "text": [
      "Your max_length is set to 140, but you input_length is only 88. You might consider decreasing max_length manually, e.g. summarizer('...', max_length=50)\n"
     ]
    },
    {
     "name": "stdout",
     "output_type": "stream",
     "text": [
      "\n",
      "BART 예측 요약 (Predicted Summary):\n",
      "Isha Ambani said she only cried at her 'bidaai' because she felt peer pressure as everyone was crying. \"I was emotional too but everyone around me would cry all the time,\" she added.\n",
      "--------------------\n",
      "\n",
      "--- 샘플 16 ---\n",
      "원문 (Original Text):\n",
      "Louis Vuitton owner LVMH, which makes high-end beverages like MoÃÂ«t & Chandon champagne and Hennessy cognac, said it's stockpiling four months' worth of wine and spirits in UK in preparation for Brexit. \"We're ready for worst case scenario if there are difficulties with deliveries,\" the French luxury giant said. The UK is scheduled to leave the EU on March 29.\n",
      "\n",
      "실제 요약 (Actual Summary):\n",
      "Louis Vuitton owner to stockpile 4 months of wine, spirits in UK\n"
     ]
    },
    {
     "name": "stderr",
     "output_type": "stream",
     "text": [
      "Your max_length is set to 140, but you input_length is only 83. You might consider decreasing max_length manually, e.g. summarizer('...', max_length=50)\n"
     ]
    },
    {
     "name": "stdout",
     "output_type": "stream",
     "text": [
      "\n",
      "BART 예측 요약 (Predicted Summary):\n",
      "LVMH says it's stockpiling four months' worth of wine and spirits in UK. \"We're ready for worst case scenario if there are difficulties with deliveries,\" company says.\n",
      "--------------------\n",
      "\n",
      "--- 샘플 17 ---\n",
      "원문 (Original Text):\n",
      "Filmmaker Karan Johar and actress Tabu turned showstoppers for Gaurav Gupta on the opening night of LakmÃÂ© Fashion Week Summer/ Resort 2019. While Johar wore a red sequinned jacket with black pants, Tabu walked the ramp in a grey embellished gown. The fashion show, which began on January 29, will continue till February 3.\n",
      "\n",
      "실제 요약 (Actual Summary):\n",
      "Karan Johar, Tabu turn showstoppers on opening night of LFW\n"
     ]
    },
    {
     "name": "stderr",
     "output_type": "stream",
     "text": [
      "Your max_length is set to 140, but you input_length is only 76. You might consider decreasing max_length manually, e.g. summarizer('...', max_length=50)\n"
     ]
    },
    {
     "name": "stdout",
     "output_type": "stream",
     "text": [
      "\n",
      "BART 예측 요약 (Predicted Summary):\n",
      "Karan Johar and Tabu walked the ramp for Gaurav Gupta at LakmÃÂ© Fashion Week Summer/ Resort 2019. The fashion show, which began on January 29, will continue till February 3.\n",
      "--------------------\n",
      "\n",
      "--- 샘플 18 ---\n",
      "원문 (Original Text):\n",
      "In a jibe at Congress President Rahul Gandhi, PM Narendra Modi on Wednesday said those on \"bail will have to go to jail.\" PM Modi added, \"He is out on bail and his associates too are facing charges...I know they will be convicted one day.\" The PM claimed he'd waged a war on corruption because he's from a common household. \n",
      "\n",
      "실제 요약 (Actual Summary):\n",
      "Those on bail will go to jail: PM Modi takes jibe at Rahul\n"
     ]
    },
    {
     "name": "stderr",
     "output_type": "stream",
     "text": [
      "Your max_length is set to 140, but you input_length is only 85. You might consider decreasing max_length manually, e.g. summarizer('...', max_length=50)\n"
     ]
    },
    {
     "name": "stdout",
     "output_type": "stream",
     "text": [
      "\n",
      "BART 예측 요약 (Predicted Summary):\n",
      "PM Narendra Modi said those on \"bail will have to go to jail\" PM Modi claimed he'd waged a war on corruption because he's from a common household.\n",
      "--------------------\n",
      "\n",
      "--- 샘플 19 ---\n",
      "원문 (Original Text):\n",
      "Days after he threatened to step down from his post if Congress MLAs continue \"crossing the line,\" Karnataka Chief Minister HD Kumaraswamy accused them of taking potshots and asked, \"How many more days can I tolerate such stuff?\" Kumaraswamy, who made the statements after a Congress MLA demanded that Siddaramaiah be made CM again, said, \"Power is ephemeral.\"\n",
      "\n",
      "실제 요약 (Actual Summary):\n",
      "How long can I tolerate Congress leaders' potshots: K'taka CM\n"
     ]
    },
    {
     "name": "stderr",
     "output_type": "stream",
     "text": [
      "Your max_length is set to 140, but you input_length is only 82. You might consider decreasing max_length manually, e.g. summarizer('...', max_length=50)\n"
     ]
    },
    {
     "name": "stdout",
     "output_type": "stream",
     "text": [
      "\n",
      "BART 예측 요약 (Predicted Summary):\n",
      "Karnataka Chief Minister HD Kumaraswamy accused Congress MLAs of taking potshots. He asked, \"How many more days can I tolerate such stuff?\" He made the statements after a Congress MLA demanded that Siddaramaiah be made CM again.\n",
      "--------------------\n",
      "\n",
      "--- 샘플 20 ---\n",
      "원문 (Original Text):\n",
      "Union Minister Dharmendra Pradhan on Wednesday claimed the illegal mining mafia in Odisha operates under the control of CM Naveen Patnaik and state Congress chief Niranjan Patnaik. He added, \"The time has come for the people of Odisha to put a full stop to their activities...The time has come for us to ask for an explanation from this corrupt government.\"\n",
      "\n",
      "실제 요약 (Actual Summary):\n",
      "Odisha CM Patnaik controls mining mafia: Union Minister\n",
      "\n",
      "BART 예측 요약 (Predicted Summary):\n",
      "Union Minister Dharmendra Pradhan claimed the illegal mining mafia in Odisha operates under the control of CM Naveen Patnaik. He added, \"The time has come for us to ask for an explanation from this corrupt government\"\n",
      "--------------------\n"
     ]
    }
   ],
   "source": [
    "import pandas as pd\n",
    "import urllib.request\n",
    "from transformers import pipeline  # 이미 import 되어 있어야 합니다.\n",
    "\n",
    "# 1. 데이터 로드 (Step 5와 유사하게 원본 데이터를 다시 로드하거나 기존 data 변수 사용)\n",
    "# 만약 data 변수가 전처리된 상태라면 다시 로드하는 것이 좋습니다.\n",
    "try:\n",
    "    # 이미 로드된 원본 데이터가 있다면 이 부분을 건너뛸 수 있습니다.\n",
    "    # 주의: 이전 단계에서 data 변수가 전처리되었다면 원본을 다시 로드해야 합니다.\n",
    "    if 'sostoken' in data['headlines'].iloc[0]: # 간단한 체크 (전처리 되었는지)\n",
    "        print(\"데이터가 전처리된 것 같아 원본 데이터를 다시 로드합니다.\")\n",
    "        urllib.request.urlretrieve(\"https://raw.githubusercontent.com/sunnysai12345/News_Summary/master/news_summary_more.csv\", filename=\"news_summary_more.csv\")\n",
    "        data = pd.read_csv('news_summary_more.csv', encoding='iso-8859-1')\n",
    "        # 결측치 제거 등 최소한의 원본 데이터 정제는 필요할 수 있습니다.\n",
    "        data.dropna(subset=['text', 'headlines'], inplace=True)\n",
    "        data.reset_index(drop=True, inplace=True) # 인덱스 재설정\n",
    "    else:\n",
    "        print(\"기존에 로드된 data 변수를 사용합니다.\")\n",
    "except NameError:\n",
    "    print(\"data 변수가 없어 새로 로드합니다.\")\n",
    "    urllib.request.urlretrieve(\"https://raw.githubusercontent.com/sunnysai12345/News_Summary/master/news_summary_more.csv\", filename=\"news_summary_more.csv\")\n",
    "    data = pd.read_csv('news_summary_more.csv', encoding='iso-8859-1')\n",
    "    data.dropna(subset=['text', 'headlines'], inplace=True)\n",
    "    data.reset_index(drop=True, inplace=True)\n",
    "\n",
    "# 2. BART Summarizer 파이프라인 로드 (이미 코드에 있어야 함)\n",
    "# 처음 실행 시 모델 다운로드에 시간이 걸릴 수 있습니다.\n",
    "try:\n",
    "    # summarizer 변수가 이미 존재하는지 확인\n",
    "    summarizer\n",
    "    print(\"기존 BART summarizer를 사용합니다.\")\n",
    "except NameError:\n",
    "    print(\"BART summarizer를 로드합니다...\")\n",
    "    summarizer = pipeline(\"summarization\", model=\"facebook/bart-large-cnn\", device=0) # GPU 사용 가능하면 device=0 추가\n",
    "    print(\"BART summarizer 로드 완료.\")\n",
    "\n",
    "# 3. 데이터 반복하며 원문, 실제 요약, BART 예측 요약 출력\n",
    "print(\"\\n--- BART 요약 결과 비교 ---\")\n",
    "num_examples_to_show = 20 # 비교할 샘플 수 지정\n",
    "\n",
    "for i in range(num_examples_to_show):\n",
    "    # 데이터프레임에서 원문과 실제 요약 가져오기\n",
    "    # .iloc 사용 시 인덱스 에러 방지를 위해 reset_index 하는 것이 안전\n",
    "    try:\n",
    "        original_text = data['text'].iloc[i]\n",
    "        actual_summary = data['headlines'].iloc[i]\n",
    "    except IndexError:\n",
    "        print(f\"{i}번째 인덱스에 데이터가 없어 중단합니다.\")\n",
    "        break\n",
    "\n",
    "    print(f\"\\n--- 샘플 {i+1} ---\")\n",
    "    print(\"원문 (Original Text):\")\n",
    "    print(original_text)\n",
    "    print(\"\\n실제 요약 (Actual Summary):\")\n",
    "    print(actual_summary)\n",
    "\n",
    "    # BART로 예측 요약 생성\n",
    "    try:\n",
    "        # max_length와 min_length는 원하는 요약 길이에 맞게 조절하세요.\n",
    "        # BART CNN 모델의 일반적인 권장 길이를 참고하거나 headlines의 평균/최대 길이를 참고하세요.\n",
    "        bart_summary_result = summarizer(original_text, max_length=140, min_length=10, do_sample=False)\n",
    "        predicted_summary_bart = bart_summary_result[0]['summary_text']\n",
    "        print(\"\\nBART 예측 요약 (Predicted Summary):\")\n",
    "        print(predicted_summary_bart)\n",
    "    except Exception as e:\n",
    "        # 텍스트가 너무 길거나 다른 문제가 발생할 경우 에러 처리\n",
    "        print(f\"\\nBART 요약 생성 중 오류 발생: {e}\")\n",
    "        print(\"BART 예측 요약: (생성 실패)\")\n",
    "\n",
    "    print(\"-\" * 20)"
   ]
  },
  {
   "cell_type": "code",
   "execution_count": 78,
   "id": "aa80c330",
   "metadata": {},
   "outputs": [
    {
     "ename": "SyntaxError",
     "evalue": "invalid syntax (1206939735.py, line 1)",
     "output_type": "error",
     "traceback": [
      "\u001b[0;36m  File \u001b[0;32m\"/tmp/ipykernel_66/1206939735.py\"\u001b[0;36m, line \u001b[0;32m1\u001b[0m\n\u001b[0;31m    Step 4. 실제 결과와 요약문 비교하기 (추상적 요약)\u001b[0m\n\u001b[0m         ^\u001b[0m\n\u001b[0;31mSyntaxError\u001b[0m\u001b[0;31m:\u001b[0m invalid syntax\n"
     ]
    }
   ],
   "source": [
    "Step 4. 실제 결과와 요약문 비교하기 (추상적 요약)\n",
    "원래의 요약문(headlines 열)과 학습을 통해 얻은 추상적 요약의 결과를 비교해 보세요.\n",
    "\n",
    "Step 5. Summa을 이용해서 추출적 요약해보기\n",
    "추상적 요약은 추출적 요약과는 달리 문장의 표현력을 다양하게 가져갈 수 있지만, 추출적 요약에 비해서 난이도가 높아요. 반대로 말하면 추출적 요약은 추상적 요약에 비해 난이도가 낮고 기존 문장에서 문장을 꺼내오는 것이므로 잘못된 요약이 나올 가능성이 낮아요.\n",
    "\n",
    "Summa의 summarize를 사용하여 추출적 요약을 해보세요."
   ]
  },
  {
   "cell_type": "markdown",
   "id": "a34a83c1",
   "metadata": {},
   "source": [
    "## Extractive Abstraction"
   ]
  },
  {
   "cell_type": "code",
   "execution_count": 109,
   "id": "de6f405a",
   "metadata": {},
   "outputs": [],
   "source": [
    "urllib.request.urlretrieve(\"https://raw.githubusercontent.com/sunnysai12345/News_Summary/master/news_summary_more.csv\", filename=\"news_summary_more.csv\")\n",
    "data = pd.read_csv('news_summary_more.csv', encoding='iso-8859-1')"
   ]
  },
  {
   "cell_type": "code",
   "execution_count": 110,
   "id": "044b4729",
   "metadata": {},
   "outputs": [
    {
     "name": "stdout",
     "output_type": "stream",
     "text": [
      "원문 : Saurav Kant, an alumnus of upGrad and IIIT-B's PG Program in Machine learning and Artificial Intelligence, was a Sr Systems Engineer at Infosys with almost 5 years of work experience. The program and upGrad's 360-degree career support helped him transition to a Data Scientist at Tech Mahindra with 90% salary hike. upGrad's Online Power Learning has powered 3 lakh+ careers.\n",
      "실제 요약 : upGrad learner switches to career in ML & Al with 90% salary hike\n",
      "예측 요약 : upGrad's Online Power Learning has powered 3 lakh+ careers.\n",
      "\n",
      "\n",
      "원문 : Kunal Shah's credit card bill payment platform, CRED, gave users a chance to win free food from Swiggy for one year. Pranav Kaushik, a Delhi techie, bagged this reward after spending 2000 CRED coins. Users get one CRED coin per rupee of bill paid, which can be used to avail rewards from brands like Ixigo, BookMyShow, UberEats, Cult.Fit and more.\n",
      "실제 요약 : Delhi techie wins free food from Swiggy for one year on CRED\n",
      "예측 요약 : Users get one CRED coin per rupee of bill paid, which can be used to avail rewards from brands like Ixigo, BookMyShow, UberEats, Cult.Fit and more.\n",
      "\n",
      "\n",
      "원문 : New Zealand defeated India by 8 wickets in the fourth ODI at Hamilton on Thursday to win their first match of the five-match ODI series. India lost an international match under Rohit Sharma's captaincy after 12 consecutive victories dating back to March 2018. The match witnessed India getting all out for 92, their seventh lowest total in ODI cricket history.\n",
      "실제 요약 : New Zealand end Rohit Sharma-led India's 12-match winning streak\n",
      "예측 요약 : The match witnessed India getting all out for 92, their seventh lowest total in ODI cricket history.\n",
      "\n",
      "\n",
      "원문 : With Aegon Life iTerm Insurance plan, customers can enjoy tax benefits on your premiums paid and save up to Ã¢ÂÂ¹46,800^ on taxes. The plan provides life cover up to the age of 100 years. Also, customers have options to insure against Critical Illnesses, Disability and Accidental Death Benefit Rider with a life cover up to the age of 80 years.\n",
      "실제 요약 : Aegon life iTerm insurance plan helps customers save tax\n",
      "예측 요약 : Also, customers have options to insure against Critical Illnesses, Disability and Accidental Death Benefit Rider with a life cover up to the age of 80 years.\n",
      "\n",
      "\n",
      "원문 : Speaking about the sexual harassment allegations against Rajkumar Hirani, Sonam Kapoor said, \"I've known Hirani for many years...What if it's not true, the [#MeToo] movement will get derailed.\" \"In the #MeToo movement, I always believe a woman. But in this case, we need to reserve our judgment,\" she added. Hirani has been accused by an assistant who worked in 'Sanju'.\n",
      "실제 요약 : Have known Hirani for yrs, what if MeToo claims are not true: Sonam\n",
      "예측 요약 : Speaking about the sexual harassment allegations against Rajkumar Hirani, Sonam Kapoor said, \"I've known Hirani for many years...What if it's not true, the [#MeToo] movement will get derailed.\" \"In the #MeToo movement, I always believe a woman.\n",
      "\n",
      "\n",
      "원문 : Pakistani singer Rahat Fateh Ali Khan has denied receiving any notice from the Enforcement Directorate over allegedly smuggling foreign currency out of India. \"It would have been better if the authorities would have served the notice first if any and then publicised this,\" reads a press release issued on behalf of Rahat. The statement further called the allegation \"bizarre\".\n",
      "실제 요약 : Rahat Fateh Ali Khan denies getting notice for smuggling currency\n",
      "예측 요약 : Pakistani singer Rahat Fateh Ali Khan has denied receiving any notice from the Enforcement Directorate over allegedly smuggling foreign currency out of India.\n",
      "\n",
      "\n",
      "원문 : India recorded their lowest ODI total in New Zealand after getting all out for 92 runs in 30.5 overs in the fourth ODI at Hamilton on Thursday. Seven of India's batsmen were dismissed for single-digit scores, while their number ten batsman Yuzvendra Chahal top-scored with 18*(37). India's previous lowest ODI total in New Zealand was 108.\n",
      "실제 요약 : India get all out for 92, their lowest ODI total in New Zealand\n",
      "예측 요약 : India's previous lowest ODI total in New Zealand was 108.\n",
      "\n",
      "\n",
      "원문 : Weeks after ex-CBI Director Alok Verma told the Department of Personnel and Training to consider him retired, the Home Ministry asked him to join work on the last day of his fixed tenure as Director on Thursday. The ministry directed him to immediately join as DG, Fire Services, the post he was transferred to after his removal as CBI chief.\n",
      "실제 요약 : Govt directs Alok Verma to join work 1 day before his retirement\n",
      "예측 요약 : \n",
      "\n",
      "\n",
      "원문 : Andhra Pradesh CM N Chandrababu Naidu has said, \"When I met then US President Bill Clinton, I addressed him as Mr Clinton, not as 'sir'. (PM Narendra) Modi is my junior in politics...I addressed him as sir 10 times.\" \"I did this...to satisfy his ego in the hope that he will do justice to the state,\" he added.\n",
      "실제 요약 : Called PM Modi 'sir' 10 times to satisfy his ego: Andhra CM\n",
      "예측 요약 : \n",
      "\n",
      "\n",
      "원문 : Congress candidate Shafia Zubair won the Ramgarh Assembly seat in Rajasthan, by defeating BJP's Sukhwant Singh with a margin of 12,228 votes in the bypoll. With this victory, Congress has taken its total to 100 seats in the 200-member assembly. The election to the Ramgarh seat was delayed due to the death of sitting MLA and BSP candidate Laxman Singh.\n",
      "실제 요약 : Cong wins Ramgarh bypoll in Rajasthan, takes total to 100 seats\n",
      "예측 요약 : Congress candidate Shafia Zubair won the Ramgarh Assembly seat in Rajasthan, by defeating BJP's Sukhwant Singh with a margin of 12,228 votes in the bypoll.\n",
      "\n",
      "\n",
      "원문 : Two minor cousins in Uttar Pradesh's Gorakhpur were allegedly repeatedly burnt with tongs and forced to eat human excreta by their family for being friends with two boys from the same school. The cousins revealed their ordeal to the police and Child Welfare Committee after being brought back to Gorakhpur from Nepal, where they had fled to escape the torture.\n",
      "실제 요약 : UP cousins fed human excreta for friendship with boys\n",
      "예측 요약 : \n",
      "\n",
      "\n",
      "원문 : Isha Ghosh, an 81-year-old member of Bharat Scouts and Guides (BSG), has been imparting physical and mental training to schoolchildren in Jharkhand for several decades. Chaibasa-based Ghosh reportedly walks seven kilometres daily and spends eight hours conducting physical training, apart from climbing and yoga sessions. She says, \"One should do something for society till one's last breath.\"\n",
      "실제 요약 : 81-yr-old woman conducts physical training in J'khand schools\n",
      "예측 요약 : Isha Ghosh, an 81-year-old member of Bharat Scouts and Guides (BSG), has been imparting physical and mental training to schoolchildren in Jharkhand for several decades.\n",
      "\n",
      "\n",
      "원문 : Urging saints and seers at the Kumbh Mela to quit smoking, Yoga guru Ramdev said, \"We follow Ram and Krishna who never smoked in their life then why should we?\" Making them take a pledge to quit tobacco, he collected chillum (clay pipe) from several sadhus. He said he will deposit the chillums for display at a museum he'll build.\n",
      "실제 요약 : Ram, Krishna didn't smoke, why should we: Ramdev to sadhus at Kumbh\n",
      "예측 요약 : \n",
      "\n",
      "\n",
      "원문 : Former stripper and regional sales director of a pharmaceutical company, Sunrise Lee, gave a doctor a lap dance in a nightclub to persuade him to prescribe an addictive fentanyl spray in 2012, the company's sales representative told a US court. She said she saw Lee \"sitting on [doctor's] lap, kind of bouncing around.\" Lee has been accused of bribing doctors.\n",
      "실제 요약 : Pharma exec gave doctor a lap dance to sell medicine in US: Witness\n",
      "예측 요약 : \n",
      "\n",
      "\n",
      "원문 : Reliance Industries' Chairman Mukesh Ambani's daughter Isha Ambani, who got married last month, said she only cried at her 'bidaai' because she felt peer pressure as everyone was crying, especially her parents. \"I was emotional too but everyone around me would cry all the time,\" she added. \"It was a very emotional affair for everyone in my family,\" said Isha.\n",
      "실제 요약 :  I only cried at my 'bidaai' as I felt peer pressure: Isha Ambani\n",
      "예측 요약 : \"It was a very emotional affair for everyone in my family,\" said Isha.\n",
      "\n",
      "\n",
      "원문 : Louis Vuitton owner LVMH, which makes high-end beverages like MoÃÂ«t & Chandon champagne and Hennessy cognac, said it's stockpiling four months' worth of wine and spirits in UK in preparation for Brexit. \"We're ready for worst case scenario if there are difficulties with deliveries,\" the French luxury giant said. The UK is scheduled to leave the EU on March 29.\n",
      "실제 요약 : Louis Vuitton owner to stockpile 4 months of wine, spirits in UK\n",
      "예측 요약 : Louis Vuitton owner LVMH, which makes high-end beverages like MoÃÂ«t & Chandon champagne and Hennessy cognac, said it's stockpiling four months' worth of wine and spirits in UK in preparation for Brexit.\n",
      "\n",
      "\n",
      "원문 : Filmmaker Karan Johar and actress Tabu turned showstoppers for Gaurav Gupta on the opening night of LakmÃÂ© Fashion Week Summer/ Resort 2019. While Johar wore a red sequinned jacket with black pants, Tabu walked the ramp in a grey embellished gown. The fashion show, which began on January 29, will continue till February 3.\n",
      "실제 요약 : Karan Johar, Tabu turn showstoppers on opening night of LFW\n",
      "예측 요약 : Filmmaker Karan Johar and actress Tabu turned showstoppers for Gaurav Gupta on the opening night of LakmÃÂ© Fashion Week Summer/ Resort 2019.\n",
      "\n",
      "\n",
      "원문 : In a jibe at Congress President Rahul Gandhi, PM Narendra Modi on Wednesday said those on \"bail will have to go to jail.\" PM Modi added, \"He is out on bail and his associates too are facing charges...I know they will be convicted one day.\" The PM claimed he'd waged a war on corruption because he's from a common household. \n",
      "실제 요약 : Those on bail will go to jail: PM Modi takes jibe at Rahul\n",
      "예측 요약 : \n",
      "\n",
      "\n",
      "원문 : Days after he threatened to step down from his post if Congress MLAs continue \"crossing the line,\" Karnataka Chief Minister HD Kumaraswamy accused them of taking potshots and asked, \"How many more days can I tolerate such stuff?\" Kumaraswamy, who made the statements after a Congress MLA demanded that Siddaramaiah be made CM again, said, \"Power is ephemeral.\"\n",
      "실제 요약 : How long can I tolerate Congress leaders' potshots: K'taka CM\n",
      "예측 요약 : \n",
      "\n",
      "\n",
      "원문 : Union Minister Dharmendra Pradhan on Wednesday claimed the illegal mining mafia in Odisha operates under the control of CM Naveen Patnaik and state Congress chief Niranjan Patnaik. He added, \"The time has come for the people of Odisha to put a full stop to their activities...The time has come for us to ask for an explanation from this corrupt government.\"\n",
      "실제 요약 : Odisha CM Patnaik controls mining mafia: Union Minister\n",
      "예측 요약 : \n",
      "\n",
      "\n"
     ]
    }
   ],
   "source": [
    "for idx, (head, text) in enumerate(zip(data['headlines'], data['text'])):\n",
    "    if idx == 20:\n",
    "        break\n",
    "    print(\"원문 :\", text)\n",
    "    print(\"실제 요약 :\", head)\n",
    "    print(\"예측 요약 :\", summarize(text, ratio=0.35))\n",
    "    print(\"\\n\")"
   ]
  },
  {
   "cell_type": "markdown",
   "id": "f4d82249",
   "metadata": {},
   "source": [
    "# Extractive 와 Abstractive Summarization의 분석 및 요약 \n",
    "Extractive summarization 같은 경우에는 문법 완성도가 높은 반면에 핵심 단어를 일부 포함하고 원문에서는 직접 추출해서 사용할 수 있다는 장점이 있습니다. Abstractive summarization 같은 경우에는 문법 완성도가 Extractive summarization에 비해 높지 않은 반면 핵심 단어를 대부분을 포함하고 있고 또한 재구성된 문장 구조를 가지고 있습니다. 따라서 각자의 장단점이 있고, 각자의 필요에 맞게 적용하여 사용 하면 될것 같습니다. \n"
   ]
  },
  {
   "cell_type": "markdown",
   "id": "91b591d0",
   "metadata": {},
   "source": [
    "### 회고\n",
    "앞에서 배운 내용을 기반으로 하여, 실습 위주와 복습 위주의 학습이 된것 같아서 도움이 많이 된것 같습니다.\n",
    "이번에 Abstractive 와 Extractive Summarization을 진행 해본 결과 확실히 두가지의 성능에서는 차이가 나는 모습을 확인 할 수 있었습니다.\n",
    "Abstractive Summarization 같은 경우에는, 확실히 전처리를 잘한다는 장점을 살려서 extractive 보다는 성능이 좋음으로, \n",
    "모델 학습의 방법과 성능을 개선시켜서 처리하면 좀 더 좋은 결과를 얻을 수 있을거 같은 반면,\n",
    "Extractive Summarization 같은 경우에는, 문장을 넣었을 때 빈 리스트를 반환하는 경우가 있는데 ratio를 조절 하면 어느정도 선에서는 해결이 되지만\n",
    "최적한 해결법은 아닌거 같습니다. 따라서 예측된 요약 방법이 정확하다고는 판단 할 수 없을것 같습니다. \n",
    "*참고로 앞에서 텍스트 파일 계속 깨져서 원문이 읽히지 않는 불상사가 발생하여 다른 방법으로 접근 하였는데, 그방법이 BART 였습니다. "
   ]
  }
 ],
 "metadata": {
  "kernelspec": {
   "display_name": "Python 3 (ipykernel)",
   "language": "python",
   "name": "python3"
  },
  "language_info": {
   "codemirror_mode": {
    "name": "ipython",
    "version": 3
   },
   "file_extension": ".py",
   "mimetype": "text/x-python",
   "name": "python",
   "nbconvert_exporter": "python",
   "pygments_lexer": "ipython3",
   "version": "3.9.7"
  }
 },
 "nbformat": 4,
 "nbformat_minor": 5
}
